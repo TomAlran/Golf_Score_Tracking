{
 "cells": [
  {
   "cell_type": "code",
   "execution_count": 11,
   "metadata": {},
   "outputs": [],
   "source": [
    "import pandas as pd\n",
    "import sqlite3\n",
    "from sqlite3 import Error\n",
    "from sqlalchemy import create_engine"
   ]
  },
  {
   "cell_type": "markdown",
   "metadata": {},
   "source": [
    "### SQLite DB functions"
   ]
  },
  {
   "cell_type": "code",
   "execution_count": 12,
   "metadata": {},
   "outputs": [],
   "source": [
    "def create_connection(db_file):\n",
    "    \"\"\" create a database connection to the SQLite database\n",
    "        specified by db_file\n",
    "    :param db_file: database file\n",
    "    :return: Connection object or None\n",
    "    \"\"\"\n",
    "    conn = None\n",
    "    try:\n",
    "        conn = sqlite3.connect(db_file)\n",
    "        return conn\n",
    "    except Error as e:\n",
    "        print(e)\n",
    "\n",
    "    return conn"
   ]
  },
  {
   "cell_type": "code",
   "execution_count": 13,
   "metadata": {},
   "outputs": [],
   "source": [
    "# create a database connection\n",
    "conn = create_connection(r\"GST.db\")"
   ]
  },
  {
   "cell_type": "markdown",
   "metadata": {},
   "source": [
    "#### Create Tables"
   ]
  },
  {
   "cell_type": "code",
   "execution_count": 14,
   "metadata": {},
   "outputs": [],
   "source": [
    "def create_table(conn, create_table_sql):\n",
    "    \"\"\" create a table from the create_table_sql statement\n",
    "    :param conn: Connection object\n",
    "    :param create_table_sql: a CREATE TABLE statement\n",
    "    :return:\n",
    "    \"\"\"\n",
    "    try:\n",
    "        c = conn.cursor()\n",
    "        c.execute(create_table_sql)\n",
    "    except Error as e:\n",
    "        print(e)"
   ]
  },
  {
   "cell_type": "code",
   "execution_count": 15,
   "metadata": {},
   "outputs": [],
   "source": [
    "creation_requests = []\n",
    "\n",
    "sql_create_courses_table = \"\"\" CREATE TABLE IF NOT EXISTS courses (\n",
    "                                    id int PRIMARY KEY,\n",
    "                                    name text NOT NULL,\n",
    "                                    slope int,\n",
    "                                    sss real,\n",
    "                                    distance int NOT NULL\n",
    "                                    ); \"\"\"\n",
    "\n",
    "sql_create_holes_table = \"\"\"CREATE TABLE IF NOT EXISTS holes (\n",
    "                                    id int PRIMARY KEY,\n",
    "                                    course_id int NOT NULL,\n",
    "                                    number int NOT NULL,\n",
    "                                    par int NOT NULL,\n",
    "                                    distance int NOT NULL,\n",
    "                                    FOREIGN KEY (course_id) REFERENCES courses (id)\n",
    "                                );\"\"\"\n",
    "\n",
    "sql_create_scorecard_table = \"\"\"CREATE TABLE IF NOT EXISTS scorecard (\n",
    "                                    id int PRIMARY KEY,\n",
    "                                    date text NOT NULL,\n",
    "                                    hole_id int NOT NULL,\n",
    "                                    score int NOT NULL,\n",
    "                                    fairway text,\n",
    "                                    putts int NOT NULL,\n",
    "                                    bunker int NOT NULL,\n",
    "                                    water int NOT NULL,\n",
    "                                    penalty int NOT NULL,\n",
    "                                    FOREIGN KEY (hole_id) REFERENCES holes (id)\n",
    "                                );\"\"\"\n",
    "\n",
    "creation_requests.append(sql_create_courses_table)\n",
    "creation_requests.append(sql_create_holes_table)\n",
    "creation_requests.append(sql_create_scorecard_table)"
   ]
  },
  {
   "cell_type": "code",
   "execution_count": 16,
   "metadata": {},
   "outputs": [],
   "source": [
    "# create tables\n",
    "if conn is not None:\n",
    "    for table in creation_requests:\n",
    "        # create projects table\n",
    "        create_table(conn, table)\n",
    "else:\n",
    "    print(\"Error! cannot create the database connection.\")"
   ]
  },
  {
   "cell_type": "markdown",
   "metadata": {},
   "source": [
    "#### Fill tables"
   ]
  },
  {
   "cell_type": "code",
   "execution_count": 17,
   "metadata": {},
   "outputs": [],
   "source": [
    "def create_course(conn, course):\n",
    "    \"\"\"\n",
    "    Create a new project into the courses table\n",
    "    :param conn:\n",
    "    :param course:\n",
    "    :return: course id\n",
    "    \"\"\"\n",
    "    sql = ''' INSERT INTO courses(name, slope, sss, distance)\n",
    "              VALUES(?,?,?,?) '''\n",
    "    cur = conn.cursor()\n",
    "    cur.execute(sql, course)\n",
    "    conn.commit()\n",
    "    return cur.lastrowid"
   ]
  },
  {
   "cell_type": "code",
   "execution_count": 18,
   "metadata": {},
   "outputs": [],
   "source": [
    "def create_hole(conn, hole):\n",
    "    \"\"\"\n",
    "    Create a new project into the courses table\n",
    "    :param conn:\n",
    "    :param hole:\n",
    "    :return: hole id\n",
    "    \"\"\"\n",
    "    sql = ''' INSERT INTO holes(course_id, number, par, distance)\n",
    "              VALUES(?,?,?,?) '''\n",
    "    cur = conn.cursor()\n",
    "    cur.execute(sql, hole)\n",
    "    conn.commit()\n",
    "    return cur.lastrowid"
   ]
  },
  {
   "cell_type": "code",
   "execution_count": 19,
   "metadata": {},
   "outputs": [],
   "source": [
    "def create_score(conn, score):\n",
    "    \"\"\"\n",
    "    Create a new project into the courses table\n",
    "    :param conn:\n",
    "    :param score:\n",
    "    :return: score id\n",
    "    \"\"\"\n",
    "    sql = ''' INSERT INTO scorecard(date, hole_id, score, fairway, putts, bunker, water, penalty)\n",
    "              VALUES(?,?,?,?,?,?,?,?) '''\n",
    "    cur = conn.cursor()\n",
    "    cur.execute(sql, course)\n",
    "    conn.commit()\n",
    "    return cur.lastrowid"
   ]
  },
  {
   "cell_type": "code",
   "execution_count": 20,
   "metadata": {},
   "outputs": [
    {
     "ename": "NameError",
     "evalue": "name 'course' is not defined",
     "output_type": "error",
     "traceback": [
      "\u001b[0;31m---------------------------------------------------------------------------\u001b[0m",
      "\u001b[0;31mNameError\u001b[0m                                 Traceback (most recent call last)",
      "\u001b[0;32m<ipython-input-20-33567692417e>\u001b[0m in \u001b[0;36m<module>\u001b[0;34m\u001b[0m\n\u001b[1;32m      1\u001b[0m \u001b[0;31m# create a new course\u001b[0m\u001b[0;34m\u001b[0m\u001b[0;34m\u001b[0m\u001b[0;34m\u001b[0m\u001b[0m\n\u001b[1;32m      2\u001b[0m \u001b[0mcourse_1\u001b[0m \u001b[0;34m=\u001b[0m \u001b[0;34m(\u001b[0m\u001b[0;34m'Coudray Montceaux'\u001b[0m\u001b[0;34m,\u001b[0m \u001b[0;34m'127'\u001b[0m\u001b[0;34m,\u001b[0m \u001b[0;34m'70.2'\u001b[0m\u001b[0;34m,\u001b[0m \u001b[0;34m'5649'\u001b[0m\u001b[0;34m)\u001b[0m\u001b[0;34m\u001b[0m\u001b[0;34m\u001b[0m\u001b[0m\n\u001b[0;32m----> 3\u001b[0;31m \u001b[0mcreate_course\u001b[0m\u001b[0;34m(\u001b[0m\u001b[0mconn\u001b[0m\u001b[0;34m,\u001b[0m \u001b[0mcourse\u001b[0m\u001b[0;34m)\u001b[0m\u001b[0;34m\u001b[0m\u001b[0;34m\u001b[0m\u001b[0m\n\u001b[0m",
      "\u001b[0;31mNameError\u001b[0m: name 'course' is not defined"
     ]
    }
   ],
   "source": [
    "# create a new course\n",
    "course_1 = ('Coudray Montceaux', '127', '70.2', '5649')\n",
    "create_course(conn, course)"
   ]
  },
  {
   "cell_type": "code",
   "execution_count": null,
   "metadata": {},
   "outputs": [],
   "source": [
    "# create a new hole\n",
    "hole = ('Cool App with SQLite & Python', '2015-01-01', '2015-01-30')\n",
    "create_hole(conn, hole)"
   ]
  },
  {
   "cell_type": "code",
   "execution_count": null,
   "metadata": {},
   "outputs": [],
   "source": [
    "# create a new score\n",
    "score = ('Cool App with SQLite & Python', '2015-01-01', '2015-01-30')\n",
    "create_score(conn, score)"
   ]
  },
  {
   "cell_type": "code",
   "execution_count": null,
   "metadata": {},
   "outputs": [],
   "source": [
    "d = {'name': ['Coudray Montceaux'], 'slope': [127], 'sss': [70.2], 'distance': [5649]}"
   ]
  },
  {
   "cell_type": "code",
   "execution_count": null,
   "metadata": {},
   "outputs": [],
   "source": [
    "df = pd.DataFrame(data=d)\n",
    "df.to_csv('Sheets/courses.csv')"
   ]
  },
  {
   "cell_type": "code",
   "execution_count": null,
   "metadata": {},
   "outputs": [],
   "source": [
    "courses = pd.read_csv('Sheets/courses.csv', delimiter=\";\")"
   ]
  },
  {
   "cell_type": "code",
   "execution_count": null,
   "metadata": {},
   "outputs": [],
   "source": [
    "courses"
   ]
  },
  {
   "cell_type": "markdown",
   "metadata": {},
   "source": [
    "### Create Model"
   ]
  },
  {
   "cell_type": "code",
   "execution_count": 21,
   "metadata": {},
   "outputs": [],
   "source": [
    "from sqlalchemy import Column, Integer, String, Float, Date, ForeignKey, Table, create_engine, func\n",
    "from sqlalchemy.orm import relationship, backref, sessionmaker\n",
    "from sqlalchemy.ext.declarative import declarative_base\n",
    "\n",
    "Base = declarative_base()\n",
    "\n",
    "class Courses(Base):\n",
    "    __tablename__ = \"courses\"\n",
    "    course_id = Column(String, primary_key = True)\n",
    "    name = Column(String)\n",
    "    sss = Column(Float)\n",
    "    slope = Column(Integer)\n",
    "    distance = Column(Integer)\n",
    "    holes = relationship(\"Holes\", backref=backref(\"course\"))\n",
    "    \n",
    "class Holes(Base):\n",
    "    __tablename__ = \"holes\"\n",
    "    hole_id = Column(String, primary_key = True)\n",
    "    course_id = Column(String, ForeignKey(\"courses.course_id\"))\n",
    "    number = Column(Integer)\n",
    "    par = Column(Integer)\n",
    "    distance = Column(Integer)\n",
    "    hcp = Column(Integer)\n",
    "    \n",
    "class Scorecard(Base):\n",
    "    __tablename__ = \"scorecard\"\n",
    "    id = Column(Integer, primary_key = True)\n",
    "    scorecard_id = Column(String)\n",
    "    date = Column(Date)\n",
    "    hole_id = Column(String, ForeignKey(\"holes.hole_id\"))\n",
    "    score = Column(Integer)\n",
    "    fairway = Column(String)\n",
    "    putts = Column(Integer)\n",
    "    bunker = Column(Integer)\n",
    "    water = Column(Integer)\n",
    "    penalty = Column(Integer)\n",
    "    "
   ]
  },
  {
   "cell_type": "code",
   "execution_count": 22,
   "metadata": {},
   "outputs": [],
   "source": [
    "engine = create_engine(f\"sqlite:///GST.db\")\n",
    "Session = sessionmaker()\n",
    "Session.configure(bind=engine)\n",
    "session = Session()"
   ]
  },
  {
   "cell_type": "code",
   "execution_count": 23,
   "metadata": {},
   "outputs": [],
   "source": [
    "results = session.query(Courses).all()"
   ]
  },
  {
   "cell_type": "code",
   "execution_count": 24,
   "metadata": {},
   "outputs": [],
   "source": [
    "rounds = (\n",
    "    session.query(\n",
    "        Courses.name,\n",
    "        Courses.course_id,\n",
    "        Scorecard.date\n",
    "    )\n",
    "    .select_from(Courses)\n",
    "    .join(Holes)\n",
    "    .join(Scorecard)\n",
    "    .group_by(Courses.name)\n",
    "    .all()\n",
    ")"
   ]
  },
  {
   "cell_type": "code",
   "execution_count": 25,
   "metadata": {},
   "outputs": [
    {
     "data": {
      "text/plain": [
       "[('Courson Vert Noir', 'COUVN', datetime.date(2021, 6, 6)),\n",
       " ('Marivaux', 'MAR', datetime.date(2021, 6, 3)),\n",
       " ('St Germain les Corbeil', 'SGC', datetime.date(2021, 5, 9))]"
      ]
     },
     "execution_count": 25,
     "metadata": {},
     "output_type": "execute_result"
    }
   ],
   "source": [
    "rounds"
   ]
  },
  {
   "cell_type": "code",
   "execution_count": 26,
   "metadata": {},
   "outputs": [],
   "source": [
    "rounds_list = []\n",
    "rounds_mapping = []\n",
    "for round_ in rounds:\n",
    "    round_pretty = f\"{round_.name} / {round_.date.strftime('%d %b %Y')}\"\n",
    "    rounds_list.append(round_pretty)\n",
    "    course_id = f\"{round_.course_id}{round_.date.strftime('%d%m%y')}\"\n",
    "    rounds_mapping.append({\"round_id\": course_id, \"round_pretty\": round_pretty})"
   ]
  },
  {
   "cell_type": "code",
   "execution_count": 27,
   "metadata": {},
   "outputs": [
    {
     "data": {
      "text/plain": [
       "['Courson Vert Noir / 06 Jun 2021',\n",
       " 'Marivaux / 03 Jun 2021',\n",
       " 'St Germain les Corbeil / 09 May 2021']"
      ]
     },
     "execution_count": 27,
     "metadata": {},
     "output_type": "execute_result"
    }
   ],
   "source": [
    "rounds_list"
   ]
  },
  {
   "cell_type": "code",
   "execution_count": 28,
   "metadata": {},
   "outputs": [
    {
     "data": {
      "text/plain": [
       "[{'round_id': 'COUVN060621',\n",
       "  'round_pretty': 'Courson Vert Noir / 06 Jun 2021'},\n",
       " {'round_id': 'MAR030621', 'round_pretty': 'Marivaux / 03 Jun 2021'},\n",
       " {'round_id': 'SGC090521',\n",
       "  'round_pretty': 'St Germain les Corbeil / 09 May 2021'}]"
      ]
     },
     "execution_count": 28,
     "metadata": {},
     "output_type": "execute_result"
    }
   ],
   "source": [
    "rounds_mapping"
   ]
  },
  {
   "cell_type": "code",
   "execution_count": 35,
   "metadata": {},
   "outputs": [],
   "source": [
    "scorecard = (\n",
    "    session.query(\n",
    "        Holes.number,\n",
    "        Holes.par,\n",
    "        Holes.hcp,\n",
    "        Holes.distance,\n",
    "        Scorecard.score,\n",
    "        Scorecard.fairway,\n",
    "        Scorecard.putts,\n",
    "    )\n",
    "    .select_from(Scorecard)\n",
    "    .join(Holes)\n",
    "    .filter(Scorecard.scorecard_id == \"MAR03062021\")\n",
    "    .all()\n",
    ")"
   ]
  },
  {
   "cell_type": "code",
   "execution_count": 36,
   "metadata": {},
   "outputs": [
    {
     "data": {
      "text/html": [
       "<div>\n",
       "<style scoped>\n",
       "    .dataframe tbody tr th:only-of-type {\n",
       "        vertical-align: middle;\n",
       "    }\n",
       "\n",
       "    .dataframe tbody tr th {\n",
       "        vertical-align: top;\n",
       "    }\n",
       "\n",
       "    .dataframe thead th {\n",
       "        text-align: right;\n",
       "    }\n",
       "</style>\n",
       "<table border=\"1\" class=\"dataframe\">\n",
       "  <thead>\n",
       "    <tr style=\"text-align: right;\">\n",
       "      <th></th>\n",
       "    </tr>\n",
       "  </thead>\n",
       "  <tbody>\n",
       "  </tbody>\n",
       "</table>\n",
       "</div>"
      ],
      "text/plain": [
       "Empty DataFrame\n",
       "Columns: []\n",
       "Index: []"
      ]
     },
     "execution_count": 36,
     "metadata": {},
     "output_type": "execute_result"
    }
   ],
   "source": [
    "pd.DataFrame(scorecard)"
   ]
  },
  {
   "cell_type": "code",
   "execution_count": 30,
   "metadata": {
    "scrolled": false
   },
   "outputs": [
    {
     "ename": "KeyError",
     "evalue": "\"None of ['number'] are in the columns\"",
     "output_type": "error",
     "traceback": [
      "\u001b[0;31m---------------------------------------------------------------------------\u001b[0m",
      "\u001b[0;31mKeyError\u001b[0m                                  Traceback (most recent call last)",
      "\u001b[0;32m<ipython-input-30-e2a27fc60bd2>\u001b[0m in \u001b[0;36m<module>\u001b[0;34m\u001b[0m\n\u001b[0;32m----> 1\u001b[0;31m \u001b[0mdf\u001b[0m \u001b[0;34m=\u001b[0m \u001b[0mpd\u001b[0m\u001b[0;34m.\u001b[0m\u001b[0mDataFrame\u001b[0m\u001b[0;34m(\u001b[0m\u001b[0mscorecard\u001b[0m\u001b[0;34m)\u001b[0m\u001b[0;34m.\u001b[0m\u001b[0mset_index\u001b[0m\u001b[0;34m(\u001b[0m\u001b[0;34m\"number\"\u001b[0m\u001b[0;34m)\u001b[0m\u001b[0;34m.\u001b[0m\u001b[0msort_index\u001b[0m\u001b[0;34m(\u001b[0m\u001b[0;34m)\u001b[0m\u001b[0;34m[\u001b[0m\u001b[0;36m0\u001b[0m\u001b[0;34m:\u001b[0m\u001b[0;36m18\u001b[0m\u001b[0;34m]\u001b[0m\u001b[0;34m\u001b[0m\u001b[0;34m\u001b[0m\u001b[0m\n\u001b[0m",
      "\u001b[0;32m~/opt/anaconda3/lib/python3.8/site-packages/pandas/core/frame.py\u001b[0m in \u001b[0;36mset_index\u001b[0;34m(self, keys, drop, append, inplace, verify_integrity)\u001b[0m\n\u001b[1;32m   4549\u001b[0m \u001b[0;34m\u001b[0m\u001b[0m\n\u001b[1;32m   4550\u001b[0m         \u001b[0;32mif\u001b[0m \u001b[0mmissing\u001b[0m\u001b[0;34m:\u001b[0m\u001b[0;34m\u001b[0m\u001b[0;34m\u001b[0m\u001b[0m\n\u001b[0;32m-> 4551\u001b[0;31m             \u001b[0;32mraise\u001b[0m \u001b[0mKeyError\u001b[0m\u001b[0;34m(\u001b[0m\u001b[0;34mf\"None of {missing} are in the columns\"\u001b[0m\u001b[0;34m)\u001b[0m\u001b[0;34m\u001b[0m\u001b[0;34m\u001b[0m\u001b[0m\n\u001b[0m\u001b[1;32m   4552\u001b[0m \u001b[0;34m\u001b[0m\u001b[0m\n\u001b[1;32m   4553\u001b[0m         \u001b[0;32mif\u001b[0m \u001b[0minplace\u001b[0m\u001b[0;34m:\u001b[0m\u001b[0;34m\u001b[0m\u001b[0;34m\u001b[0m\u001b[0m\n",
      "\u001b[0;31mKeyError\u001b[0m: \"None of ['number'] are in the columns\""
     ]
    }
   ],
   "source": [
    "df = pd.DataFrame(scorecard).set_index(\"number\").sort_index()[0:18]"
   ]
  },
  {
   "cell_type": "code",
   "execution_count": 31,
   "metadata": {},
   "outputs": [
    {
     "ename": "NameError",
     "evalue": "name 'df' is not defined",
     "output_type": "error",
     "traceback": [
      "\u001b[0;31m---------------------------------------------------------------------------\u001b[0m",
      "\u001b[0;31mNameError\u001b[0m                                 Traceback (most recent call last)",
      "\u001b[0;32m<ipython-input-31-b5530f0b3f17>\u001b[0m in \u001b[0;36m<module>\u001b[0;34m\u001b[0m\n\u001b[0;32m----> 1\u001b[0;31m \u001b[0mvs_par\u001b[0m \u001b[0;34m=\u001b[0m \u001b[0mdf\u001b[0m\u001b[0;34m.\u001b[0m\u001b[0mscore\u001b[0m \u001b[0;34m-\u001b[0m \u001b[0mdf\u001b[0m\u001b[0;34m.\u001b[0m\u001b[0mpar\u001b[0m\u001b[0;34m\u001b[0m\u001b[0;34m\u001b[0m\u001b[0m\n\u001b[0m",
      "\u001b[0;31mNameError\u001b[0m: name 'df' is not defined"
     ]
    }
   ],
   "source": [
    "vs_par = df.score - df.par"
   ]
  },
  {
   "cell_type": "code",
   "execution_count": null,
   "metadata": {
    "scrolled": true
   },
   "outputs": [],
   "source": [
    "df"
   ]
  },
  {
   "cell_type": "code",
   "execution_count": null,
   "metadata": {},
   "outputs": [],
   "source": [
    "df.transpose().style.apply(color_score, axis = 1, subset=[['par', 'score']])"
   ]
  },
  {
   "cell_type": "code",
   "execution_count": null,
   "metadata": {},
   "outputs": [],
   "source": [
    "df.transpose().loc[['par', 'score']]"
   ]
  },
  {
   "cell_type": "code",
   "execution_count": null,
   "metadata": {},
   "outputs": [],
   "source": [
    "df.transpose()"
   ]
  },
  {
   "cell_type": "code",
   "execution_count": 32,
   "metadata": {},
   "outputs": [],
   "source": [
    "# df.transpose().style.apply(color_score, axis = 1, subset=['score', 'par']).format('{:}', na_rep=\"-\")"
   ]
  },
  {
   "cell_type": "code",
   "execution_count": 33,
   "metadata": {
    "scrolled": true
   },
   "outputs": [
    {
     "ename": "NameError",
     "evalue": "name 'df' is not defined",
     "output_type": "error",
     "traceback": [
      "\u001b[0;31m---------------------------------------------------------------------------\u001b[0m",
      "\u001b[0;31mNameError\u001b[0m                                 Traceback (most recent call last)",
      "\u001b[0;32m<ipython-input-33-ec1326138de0>\u001b[0m in \u001b[0;36m<module>\u001b[0;34m\u001b[0m\n\u001b[0;32m----> 1\u001b[0;31m \u001b[0mdf\u001b[0m\u001b[0;34m.\u001b[0m\u001b[0mstyle\u001b[0m\u001b[0;34m.\u001b[0m\u001b[0mapply\u001b[0m\u001b[0;34m(\u001b[0m\u001b[0mcolor_score\u001b[0m\u001b[0;34m,\u001b[0m \u001b[0maxis\u001b[0m \u001b[0;34m=\u001b[0m \u001b[0;36m1\u001b[0m\u001b[0;34m,\u001b[0m \u001b[0msubset\u001b[0m\u001b[0;34m=\u001b[0m\u001b[0;34m[\u001b[0m\u001b[0;34m'score'\u001b[0m\u001b[0;34m,\u001b[0m \u001b[0;34m'par'\u001b[0m\u001b[0;34m]\u001b[0m\u001b[0;34m)\u001b[0m\u001b[0;34m.\u001b[0m\u001b[0mformat\u001b[0m\u001b[0;34m(\u001b[0m\u001b[0;34m'{:}'\u001b[0m\u001b[0;34m,\u001b[0m \u001b[0mna_rep\u001b[0m\u001b[0;34m=\u001b[0m\u001b[0;34m\"-\"\u001b[0m\u001b[0;34m)\u001b[0m\u001b[0;34m\u001b[0m\u001b[0;34m\u001b[0m\u001b[0m\n\u001b[0m",
      "\u001b[0;31mNameError\u001b[0m: name 'df' is not defined"
     ]
    }
   ],
   "source": [
    "df.style.apply(color_score, axis = 1, subset=['score', 'par']).format('{:}', na_rep=\"-\")"
   ]
  },
  {
   "cell_type": "code",
   "execution_count": null,
   "metadata": {},
   "outputs": [],
   "source": [
    "def color_score(val):\n",
    "    \"\"\"\n",
    "    Takes a scalar and returns a string with\n",
    "    the css property `'color: red'` for negative\n",
    "    strings, black otherwise.\n",
    "    \"\"\"\n",
    "    if val.score-val.par < 0:\n",
    "        color = 'skyblue'\n",
    "    elif val.score-val.par == 0:\n",
    "        color = 'palegreen'\n",
    "    elif val.score-val.par == 1:\n",
    "        color = 'cornsilk'\n",
    "    else :\n",
    "        color = 'lightsalmon'\n",
    "    return ('background-color: %s' % color, 'red') "
   ]
  },
  {
   "cell_type": "code",
   "execution_count": null,
   "metadata": {},
   "outputs": [],
   "source": [
    "number = pd.Series()\n",
    "number = number.append(pd.Series(2))\n",
    "number.index+=1"
   ]
  },
  {
   "cell_type": "code",
   "execution_count": null,
   "metadata": {},
   "outputs": [],
   "source": [
    "number"
   ]
  },
  {
   "cell_type": "code",
   "execution_count": null,
   "metadata": {},
   "outputs": [],
   "source": [
    "df.par[1]"
   ]
  },
  {
   "cell_type": "code",
   "execution_count": null,
   "metadata": {},
   "outputs": [],
   "source": [
    "df[['par', 'score']].groupby('par').mean().plot.bar()"
   ]
  },
  {
   "cell_type": "code",
   "execution_count": null,
   "metadata": {},
   "outputs": [],
   "source": [
    "vs_par.fillna('X')"
   ]
  },
  {
   "cell_type": "code",
   "execution_count": null,
   "metadata": {},
   "outputs": [],
   "source": [
    "vs_par.fillna(10).value_counts().sort_index().plot.bar()"
   ]
  },
  {
   "cell_type": "code",
   "execution_count": null,
   "metadata": {},
   "outputs": [],
   "source": [
    "df.putts"
   ]
  },
  {
   "cell_type": "code",
   "execution_count": null,
   "metadata": {},
   "outputs": [],
   "source": [
    "vs_par"
   ]
  },
  {
   "cell_type": "code",
   "execution_count": null,
   "metadata": {},
   "outputs": [],
   "source": [
    "vs_par"
   ]
  },
  {
   "cell_type": "code",
   "execution_count": null,
   "metadata": {},
   "outputs": [],
   "source": [
    "df_scorecard = df"
   ]
  },
  {
   "cell_type": "code",
   "execution_count": null,
   "metadata": {},
   "outputs": [],
   "source": [
    "color = []\n",
    "for score in vs_par:\n",
    "    if score < 0:\n",
    "        c = \"blue\"\n",
    "    elif score == 0:\n",
    "        c = \"green\"\n",
    "    elif score == 1:\n",
    "        c = \"yellow\"\n",
    "    else:\n",
    "        c = \"orange\"\n",
    "    color.append(c)"
   ]
  },
  {
   "cell_type": "code",
   "execution_count": null,
   "metadata": {},
   "outputs": [],
   "source": [
    "def set_color(score):\n",
    "    if score < 0:\n",
    "        color = \"blue\"\n",
    "    elif score == 0:\n",
    "        color = \"green\"\n",
    "    elif score == 1:\n",
    "        color = \"yellow\"\n",
    "    else:\n",
    "        color = \"orange\"\n",
    "    return color"
   ]
  },
  {
   "cell_type": "code",
   "execution_count": null,
   "metadata": {},
   "outputs": [],
   "source": [
    "i = 5"
   ]
  },
  {
   "cell_type": "code",
   "execution_count": null,
   "metadata": {},
   "outputs": [],
   "source": [
    "t = f\"<div><span class=\"+\"'highlight \"+set_color(df_scorecard.score[i])+\"'>{df_scorecard.fillna('X').score[i]}</span></div>\""
   ]
  },
  {
   "cell_type": "code",
   "execution_count": null,
   "metadata": {},
   "outputs": [],
   "source": [
    "t = f\"<div><span class=\"\n",
    "type(t)"
   ]
  },
  {
   "cell_type": "code",
   "execution_count": null,
   "metadata": {},
   "outputs": [],
   "source": [
    "bogey_1_putt = [1 if (p == 1 and g == 0) else 0 for (p, g) in zip(df_scorecard.putts, gir)]"
   ]
  },
  {
   "cell_type": "code",
   "execution_count": null,
   "metadata": {},
   "outputs": [],
   "source": [
    "sum(bogey_1_putt)"
   ]
  },
  {
   "cell_type": "code",
   "execution_count": null,
   "metadata": {},
   "outputs": [],
   "source": [
    "18-sum(gir)"
   ]
  },
  {
   "cell_type": "code",
   "execution_count": null,
   "metadata": {},
   "outputs": [],
   "source": [
    "1/9*100"
   ]
  },
  {
   "cell_type": "code",
   "execution_count": null,
   "metadata": {
    "scrolled": false
   },
   "outputs": [],
   "source": [
    "print(bogey_1_putt)\n",
    "print(gir)\n",
    "print(df_scorecard.putts)"
   ]
  },
  {
   "cell_type": "code",
   "execution_count": null,
   "metadata": {},
   "outputs": [],
   "source": [
    "import altair as alt"
   ]
  },
  {
   "cell_type": "code",
   "execution_count": null,
   "metadata": {},
   "outputs": [],
   "source": [
    "test = pd.DataFrame(cumscore).reset_index()\n",
    "test.columns = ['hole', 'cumscore']"
   ]
  },
  {
   "cell_type": "code",
   "execution_count": null,
   "metadata": {},
   "outputs": [],
   "source": [
    "alt.Chart(test).mark_area(line={'color':'darkgreen'},\n",
    "    color=alt.Gradient(\n",
    "        gradient='linear',\n",
    "        stops=[alt.GradientStop(color='white', offset=0),\n",
    "               alt.GradientStop(color='darkgreen', offset=1)],\n",
    "        x1=1,\n",
    "        x2=1,\n",
    "        y1=1,\n",
    "        y2=0)).encode(\n",
    "    x=\"hole:Q\",\n",
    "    y=\"cumscore:Q\"\n",
    ")"
   ]
  },
  {
   "cell_type": "code",
   "execution_count": null,
   "metadata": {},
   "outputs": [],
   "source": [
    "df_repartition = pd.DataFrame(vs_par.fillna(10).value_counts().sort_index().reset_index())\n",
    "df_repartition.columns = ['score', ' ']\n",
    "df_repartition['colors'] = [set_color(s) for s in df_repartition.score]\n",
    "df_repartition"
   ]
  },
  {
   "cell_type": "code",
   "execution_count": null,
   "metadata": {},
   "outputs": [],
   "source": [
    "def set_score_color(score):\n",
    "    if score < 0:\n",
    "        color = \"lightskyblue\"\n",
    "    elif score == 0:\n",
    "        color = \"palegreen\"\n",
    "    elif score == 1:\n",
    "        color = \"cornsilk\"\n",
    "    else:\n",
    "        color = \"pink\"\n",
    "    return color"
   ]
  },
  {
   "cell_type": "code",
   "execution_count": null,
   "metadata": {},
   "outputs": [],
   "source": [
    "df_repartition = pd.DataFrame(vs_par.fillna(10).value_counts().sort_index().reset_index())\n",
    "df_repartition.columns = ['score', ' ']\n",
    "df_repartition['colors'] = [set_score_color(s) for s in df_repartition.score]\n",
    "c = alt.Chart(df_repartition).mark_bar().encode(\n",
    "    x='score:O',\n",
    "    y=\" :Q\",\n",
    "    # The highlight will be set on the result of a conditional statement\n",
    "    color=alt.Color('colors:N', scale=None),\n",
    "    tooltip=['score', ' ']\n",
    ").properties(width=400)"
   ]
  },
  {
   "cell_type": "code",
   "execution_count": null,
   "metadata": {},
   "outputs": [],
   "source": [
    "c"
   ]
  },
  {
   "cell_type": "code",
   "execution_count": null,
   "metadata": {},
   "outputs": [],
   "source": [
    "df_repartition"
   ]
  },
  {
   "cell_type": "code",
   "execution_count": null,
   "metadata": {},
   "outputs": [],
   "source": [
    "[round(x,0) for x in df_averages['vs_par']]"
   ]
  },
  {
   "cell_type": "code",
   "execution_count": null,
   "metadata": {},
   "outputs": [],
   "source": [
    "df_averages = df_scorecard[['par', 'score']].groupby('par').mean().reset_index()\n",
    "df_averages['vs_par'] = df_averages.score - df_averages.par\n",
    "df_averages['color'] = [set_score_color(int(round(x))) for x in df_averages['vs_par']]\n",
    "df_averages"
   ]
  },
  {
   "cell_type": "code",
   "execution_count": null,
   "metadata": {},
   "outputs": [],
   "source": [
    "bar = alt.Chart(df_averages).mark_bar().encode(\n",
    "    x='par:N',\n",
    "    y='score:Q',\n",
    "    color=alt.Color('color:N', scale=None)\n",
    ")\n",
    "\n",
    "bar"
   ]
  },
  {
   "cell_type": "code",
   "execution_count": null,
   "metadata": {},
   "outputs": [],
   "source": [
    "tick = alt.Chart(df_averages).mark_tick(\n",
    "    color='black',\n",
    "    thickness=3, # controls width of tick.\n",
    ").encode(\n",
    "    x='par:N',\n",
    "    y='par:Q'\n",
    ")\n",
    "\n",
    "bar+tick"
   ]
  },
  {
   "cell_type": "code",
   "execution_count": 37,
   "metadata": {},
   "outputs": [
    {
     "name": "stderr",
     "output_type": "stream",
     "text": [
      "2021-06-09 21:27:49.669 WARNING root: \n",
      "  \u001b[33m\u001b[1mWarning:\u001b[0m to view this Streamlit app on a browser, run it with the following\n",
      "  command:\n",
      "\n",
      "    streamlit run /Users/tomalran/opt/anaconda3/lib/python3.8/site-packages/ipykernel_launcher.py [ARGUMENTS]\n",
      "2021-06-09 21:27:49.714 INFO    numexpr.utils: NumExpr defaulting to 4 threads.\n"
     ]
    }
   ],
   "source": [
    "# -*- coding: utf-8 -*-\n",
    "\n",
    "import streamlit as st\n",
    "import pandas as pd\n",
    "import numpy as np\n",
    "import altair as alt\n",
    "from sqlalchemy import create_engine, func\n",
    "from sqlalchemy.orm import sessionmaker\n",
    "from annotated_text import annotated_text\n",
    "from DataModel import Courses, Holes, Scorecard\n",
    "from load_css import local_css\n",
    "\n",
    "local_css(\"style.css\")\n",
    " \n",
    "st.markdown(\n",
    "        f\"\"\"\n",
    "<style>\n",
    "    .reportview-container .main .block-container{{\n",
    "        max-width: 900px;\n",
    "        padding-top: 2rem;\n",
    "        padding-right: 2rem;\n",
    "        padding-left: 2rem;\n",
    "        padding-bottom: 2rem;\n",
    "    }}\n",
    "</style>\n",
    "\"\"\",\n",
    "        unsafe_allow_html=True,\n",
    "    )\n",
    "\n",
    "## Session for querying database\n",
    "engine = create_engine(f\"sqlite:///GST.db\")\n",
    "Session = sessionmaker()\n",
    "Session.configure(bind=engine)\n",
    "session = Session()\n",
    "\n",
    "## Dashboarding elements\n",
    "st.title(\"\"\"Golf Score Tracking\"\"\")\n",
    "\n",
    "# Get rounds list\n",
    "rounds = (\n",
    "    session.query(\n",
    "        Courses.name,\n",
    "        Courses.course_id,\n",
    "        Scorecard.date\n",
    "    )\n",
    "    .select_from(Courses)\n",
    "    .join(Holes)\n",
    "    .join(Scorecard)\n",
    "    .group_by(Courses.name)\n",
    "    .all()\n",
    ")\n",
    "\n",
    "rounds_list = []\n",
    "rounds_mapping = []\n",
    "for round_ in rounds:\n",
    "    round_pretty = f\"{round_.name} / {round_.date.strftime('%d %b %Y')}\"\n",
    "    rounds_list.append(round_pretty)\n",
    "    course_id = f\"{round_.course_id}{round_.date.strftime('%d%m%y')}\"\n",
    "    rounds_mapping.append({\"round_id\": course_id, \"round_pretty\": round_pretty})\n",
    "\n",
    "\n",
    "# Display games list\n",
    "selected_round = st.sidebar.selectbox(\"select round\", rounds_list)\n",
    "selected_round_id = next(item for item in rounds_mapping if item[\"round_pretty\"] == selected_round)[\"round_id\"]\n",
    "\n",
    "st.subheader(selected_round)\n",
    "\n",
    "### Get Scorecard data\n",
    "scorecard = (\n",
    "    session.query(\n",
    "        Holes.number,\n",
    "        Holes.par,\n",
    "        Holes.hcp,\n",
    "        Holes.distance,\n",
    "        Scorecard.score,\n",
    "        Scorecard.fairway,\n",
    "        Scorecard.putts,\n",
    "    )\n",
    "    .select_from(Scorecard)\n",
    "    .join(Holes)\n",
    "    .filter(Scorecard.scorecard_id == selected_round_id)\n",
    "    .all()\n",
    ")\n",
    "df_scorecard = pd.DataFrame(scorecard).set_index(\"number\").sort_index()\n",
    "vs_par = df_scorecard.score - df_scorecard.par\n",
    "gir = df_scorecard.score - df_scorecard.par - df_scorecard.putts\n",
    "gir = [1 if g == -2 else 0 for g in gir]\n",
    "fairway_count = [1 if f == 'F' else 0 for f in df_scorecard.fairway]\n",
    "not_par3_count = [1 if p != 3 else 0 for p in df_scorecard.par]\n",
    "brut = -vs_par+2\n",
    "bogey_1_putt = [1 if (p == 1 and g == 0) else 0 for (p, g) in zip(df_scorecard.putts, gir)]\n",
    "\n",
    "def set_score_color(score):\n",
    "    if score < 0:\n",
    "        color = \"lightskyblue\"\n",
    "    elif score == 0:\n",
    "        color = \"palegreen\"\n",
    "    elif score == 1:\n",
    "        color = \"cornsilk\"\n",
    "    else:\n",
    "        color = \"pink\"\n",
    "    return color\n",
    "    \n",
    "def set_putts_color(putts):\n",
    "    if putts > 2:\n",
    "        color = \" class='bold indianred'\"\n",
    "    else :\n",
    "        color = \"\"\n",
    "    return color\n",
    "    \n",
    "def set_fairways_color(putts):\n",
    "    if putts == 'F':\n",
    "        color = \" class='bold seagreen'\"\n",
    "    else :\n",
    "        color = \"\"\n",
    "    return color\n",
    "\n",
    "## SCORE\n",
    "col1, col2 = st.beta_columns(2)\n",
    "col1.header(f'{int(df_scorecard.par.sum() + vs_par.fillna(value=3).sum())}  (+{int(vs_par.fillna(value=3).sum())})')\n",
    "col1.write(\"Stroke\")\n",
    "col2.header(f'{int(sum(brut[brut>0]))} (+{36-int(sum(brut[brut>0]))})')\n",
    "col2.write(\"Brut\")\n",
    "\n",
    "\n",
    "## SCORECARD\n",
    "st.header(\"Scorecard\")\n",
    "cols = st.beta_columns(7)\n",
    "cols[0].subheader(\"Hole\")\n",
    "cols[1].subheader(\"Par\")\n",
    "cols[2].subheader(\"Hcp\")\n",
    "cols[3].subheader(\"Dist\")\n",
    "cols[4].subheader(\"Score\")\n",
    "cols[5].subheader(\"Fairway\")\n",
    "cols[6].subheader(\"Putts\")\n",
    "for i in range(1, 19):\n",
    "    cols[0].markdown(f\"<div><span>{i}</span></div>\", unsafe_allow_html=True)\n",
    "    cols[1].markdown(f\"<div><span>{df_scorecard.par[i]}</span></div>\", unsafe_allow_html=True)\n",
    "    cols[2].markdown(f\"<div><span>{df_scorecard.hcp[i]}</span></div>\", unsafe_allow_html=True)\n",
    "    cols[3].markdown(f\"<div><span>{df_scorecard.distance[i]}</span></div>\", unsafe_allow_html=True)\n",
    "    score_color = set_score_color(vs_par[i])\n",
    "    cols[4].markdown(f\"<div><span class='highlight {score_color}'>{df_scorecard.fillna('X').score[i]}</span></div>\", unsafe_allow_html=True)\n",
    "    fairways_color = set_fairways_color(df_scorecard.fairway[i])\n",
    "    cols[5].markdown(f\"<div><span{fairways_color}>{df_scorecard.fillna('-').fairway[i]}</span></div>\", unsafe_allow_html=True)\n",
    "    putts_color = set_putts_color(df_scorecard.putts[i])\n",
    "    cols[6].markdown(f\"<div><span{putts_color}>{df_scorecard.fillna('-').putts[i]}</span></div>\", unsafe_allow_html=True)\n",
    "\n",
    "\n",
    "## SCORE EVOLUTION\n",
    "st.subheader(\"Score evolution\")\n",
    "cumscore = vs_par.fillna(value=3).cumsum()\n",
    "df_cumscore = pd.DataFrame(cumscore).reset_index()\n",
    "df_cumscore.columns = ['thru', 'score']\n",
    "\n",
    "c = alt.Chart(df_cumscore).mark_area(line={'color':'khaki'},\n",
    "    color=alt.Gradient(\n",
    "        gradient='linear',\n",
    "        stops=[alt.GradientStop(color='dimgray', offset=0),\n",
    "               alt.GradientStop(color='lemonchiffon', offset=1)],\n",
    "        x1=1,\n",
    "        x2=1,\n",
    "        y1=1,\n",
    "        y2=0)).encode(\n",
    "    x=\"thru:Q\",\n",
    "    y=\"score:Q\",\n",
    "    tooltip=['score', 'thru']\n",
    ").properties(width=750, height=350)\n",
    "st.write(c)\n",
    "\n",
    "col1, col2 = st.beta_columns(2)\n",
    "\n",
    "## SCORE REPARTITION\n",
    "col1.subheader(\"Score repartition\")\n",
    "df_repartition = pd.DataFrame(vs_par.fillna(10).value_counts().sort_index().reset_index())\n",
    "df_repartition.columns = ['score', ' ']\n",
    "df_repartition['colors'] = [set_score_color(s) for s in df_repartition.score]\n",
    "c = alt.Chart(df_repartition).mark_bar().encode(\n",
    "    x='score:O',\n",
    "    y=\" :Q\",\n",
    "    # The highlight will be set on the result of a conditional statement\n",
    "    color=alt.Color('colors:N', scale=None),\n",
    "    tooltip=['score', ' ']\n",
    ").properties(width=350)\n",
    "\n",
    "col1.write(c)\n",
    "\n",
    "\n",
    "## AVERAGE SCORES\n",
    "col2.subheader(\"Average scores\")\n",
    "df_averages = df_scorecard[['par', 'score']].groupby('par').mean().reset_index()\n",
    "df_averages.columns = ['par', 'avg_score']\n",
    "df_averages['vs_par'] = df_averages.avg_score - df_averages.par\n",
    "df_averages['color'] = [set_score_color(int(round(x))) for x in df_averages['vs_par']]\n",
    "\n",
    "bar = alt.Chart(df_averages).mark_bar().encode(\n",
    "    x='par:N',\n",
    "    y='avg_score:Q',\n",
    "    color=alt.Color('color:N', scale=None),\n",
    "    tooltip = ['par', 'avg_score']\n",
    ").properties(width=350)\n",
    "\n",
    "tick = alt.Chart(df_averages).mark_tick(\n",
    "    color='firebrick',\n",
    "    thickness=3,\n",
    "    size=50 # controls width of tick.\n",
    ").encode(\n",
    "    x='par:N',\n",
    "    y='par:Q'\n",
    ").properties(width=350)\n",
    "\n",
    "col2.write(bar+tick)\n",
    "\n",
    "\n",
    "## OFF THE TEE\n",
    "st.header(\"Off the tee\")\n",
    "col1, col2 = st.beta_columns(2)\n",
    "col1.header(f'{int(sum(fairway_count)/sum(not_par3_count)*100)}%')\n",
    "col1.write(\"% Fairways\")\n",
    "\n",
    "\n",
    "\n",
    "\n",
    "st.header(\"Around the green\")\n",
    "col1, col2, col3 = st.beta_columns(3)\n",
    "col1.header(f'{int(sum(gir)/18*100)}%')\n",
    "col1.write(\"% GIR\")\n",
    "col2.header(f'{int(df_scorecard.putts.sum())}')\n",
    "col2.write(\"Nb Putts\")\n",
    "col3.header(f'{int(sum(bogey_1_putt)/(18-sum(gir))*100)}%')\n",
    "col3.write(\"% Scrambling\")\n"
   ]
  },
  {
   "cell_type": "code",
   "execution_count": 98,
   "metadata": {},
   "outputs": [],
   "source": [
    "def set_sort_drive(d):\n",
    "    if d == \"L\":\n",
    "        s=0\n",
    "    elif d == \"F\":\n",
    "        s=1\n",
    "    elif d == \"R\":\n",
    "        s=2\n",
    "    return s"
   ]
  },
  {
   "cell_type": "code",
   "execution_count": 115,
   "metadata": {},
   "outputs": [],
   "source": [
    "df_drives = pd.DataFrame(df_scorecard.fairway.dropna().value_counts()).reset_index()\n",
    "df['  '] = 1\n",
    "df_drives.columns = ['drive', ' ']"
   ]
  },
  {
   "cell_type": "code",
   "execution_count": 123,
   "metadata": {},
   "outputs": [
    {
     "data": {
      "text/html": [
       "\n",
       "<div id=\"altair-viz-d11cc8c193a14d308128bea0f229a0ae\"></div>\n",
       "<script type=\"text/javascript\">\n",
       "  (function(spec, embedOpt){\n",
       "    let outputDiv = document.currentScript.previousElementSibling;\n",
       "    if (outputDiv.id !== \"altair-viz-d11cc8c193a14d308128bea0f229a0ae\") {\n",
       "      outputDiv = document.getElementById(\"altair-viz-d11cc8c193a14d308128bea0f229a0ae\");\n",
       "    }\n",
       "    const paths = {\n",
       "      \"vega\": \"https://cdn.jsdelivr.net/npm//vega@5?noext\",\n",
       "      \"vega-lib\": \"https://cdn.jsdelivr.net/npm//vega-lib?noext\",\n",
       "      \"vega-lite\": \"https://cdn.jsdelivr.net/npm//vega-lite@4.8.1?noext\",\n",
       "      \"vega-embed\": \"https://cdn.jsdelivr.net/npm//vega-embed@6?noext\",\n",
       "    };\n",
       "\n",
       "    function loadScript(lib) {\n",
       "      return new Promise(function(resolve, reject) {\n",
       "        var s = document.createElement('script');\n",
       "        s.src = paths[lib];\n",
       "        s.async = true;\n",
       "        s.onload = () => resolve(paths[lib]);\n",
       "        s.onerror = () => reject(`Error loading script: ${paths[lib]}`);\n",
       "        document.getElementsByTagName(\"head\")[0].appendChild(s);\n",
       "      });\n",
       "    }\n",
       "\n",
       "    function showError(err) {\n",
       "      outputDiv.innerHTML = `<div class=\"error\" style=\"color:red;\">${err}</div>`;\n",
       "      throw err;\n",
       "    }\n",
       "\n",
       "    function displayChart(vegaEmbed) {\n",
       "      vegaEmbed(outputDiv, spec, embedOpt)\n",
       "        .catch(err => showError(`Javascript Error: ${err.message}<br>This usually means there's a typo in your chart specification. See the javascript console for the full traceback.`));\n",
       "    }\n",
       "\n",
       "    if(typeof define === \"function\" && define.amd) {\n",
       "      requirejs.config({paths});\n",
       "      require([\"vega-embed\"], displayChart, err => showError(`Error loading script: ${err.message}`));\n",
       "    } else if (typeof vegaEmbed === \"function\") {\n",
       "      displayChart(vegaEmbed);\n",
       "    } else {\n",
       "      loadScript(\"vega\")\n",
       "        .then(() => loadScript(\"vega-lite\"))\n",
       "        .then(() => loadScript(\"vega-embed\"))\n",
       "        .catch(showError)\n",
       "        .then(() => displayChart(vegaEmbed));\n",
       "    }\n",
       "  })({\"config\": {\"view\": {\"continuousWidth\": 400, \"continuousHeight\": 300}}, \"data\": {\"name\": \"data-b274e23fc9591d2b980a553c544313f8\"}, \"mark\": \"bar\", \"encoding\": {\"color\": {\"condition\": {\"value\": \"palegreen\", \"test\": \"(datum.drive === 'F')\"}, \"value\": \"pink\"}, \"x\": {\"type\": \"quantitative\", \"field\": \" \", \"sort\": [\"L\", \"F\", \"R\"], \"stack\": \"normalize\"}, \"y\": {\"type\": \"nominal\", \"field\": \"  \"}}, \"$schema\": \"https://vega.github.io/schema/vega-lite/v4.8.1.json\", \"datasets\": {\"data-b274e23fc9591d2b980a553c544313f8\": [{\"drive\": \"F\", \" \": 7}, {\"drive\": \"R\", \" \": 6}]}}, {\"mode\": \"vega-lite\"});\n",
       "</script>"
      ],
      "text/plain": [
       "alt.Chart(...)"
      ]
     },
     "execution_count": 123,
     "metadata": {},
     "output_type": "execute_result"
    }
   ],
   "source": [
    "alt.Chart(df_drives).mark_bar().encode(\n",
    "    x=alt.X(' ', stack=\"normalize\", sort=['L', 'F', 'R'], axis=alt.Axis(labels=False)),\n",
    "    y='  :N',\n",
    "    color = alt.condition(\n",
    "        alt.datum.drive == 'F',\n",
    "        alt.value('palegreen'), \n",
    "        alt.value('pink')\n",
    "    )\n",
    ")"
   ]
  },
  {
   "cell_type": "code",
   "execution_count": 111,
   "metadata": {
    "scrolled": true
   },
   "outputs": [
    {
     "data": {
      "text/html": [
       "\n",
       "<div id=\"altair-viz-7bff46549df848d296b2471706c9c351\"></div>\n",
       "<script type=\"text/javascript\">\n",
       "  (function(spec, embedOpt){\n",
       "    let outputDiv = document.currentScript.previousElementSibling;\n",
       "    if (outputDiv.id !== \"altair-viz-7bff46549df848d296b2471706c9c351\") {\n",
       "      outputDiv = document.getElementById(\"altair-viz-7bff46549df848d296b2471706c9c351\");\n",
       "    }\n",
       "    const paths = {\n",
       "      \"vega\": \"https://cdn.jsdelivr.net/npm//vega@5?noext\",\n",
       "      \"vega-lib\": \"https://cdn.jsdelivr.net/npm//vega-lib?noext\",\n",
       "      \"vega-lite\": \"https://cdn.jsdelivr.net/npm//vega-lite@4.8.1?noext\",\n",
       "      \"vega-embed\": \"https://cdn.jsdelivr.net/npm//vega-embed@6?noext\",\n",
       "    };\n",
       "\n",
       "    function loadScript(lib) {\n",
       "      return new Promise(function(resolve, reject) {\n",
       "        var s = document.createElement('script');\n",
       "        s.src = paths[lib];\n",
       "        s.async = true;\n",
       "        s.onload = () => resolve(paths[lib]);\n",
       "        s.onerror = () => reject(`Error loading script: ${paths[lib]}`);\n",
       "        document.getElementsByTagName(\"head\")[0].appendChild(s);\n",
       "      });\n",
       "    }\n",
       "\n",
       "    function showError(err) {\n",
       "      outputDiv.innerHTML = `<div class=\"error\" style=\"color:red;\">${err}</div>`;\n",
       "      throw err;\n",
       "    }\n",
       "\n",
       "    function displayChart(vegaEmbed) {\n",
       "      vegaEmbed(outputDiv, spec, embedOpt)\n",
       "        .catch(err => showError(`Javascript Error: ${err.message}<br>This usually means there's a typo in your chart specification. See the javascript console for the full traceback.`));\n",
       "    }\n",
       "\n",
       "    if(typeof define === \"function\" && define.amd) {\n",
       "      requirejs.config({paths});\n",
       "      require([\"vega-embed\"], displayChart, err => showError(`Error loading script: ${err.message}`));\n",
       "    } else if (typeof vegaEmbed === \"function\") {\n",
       "      displayChart(vegaEmbed);\n",
       "    } else {\n",
       "      loadScript(\"vega\")\n",
       "        .then(() => loadScript(\"vega-lite\"))\n",
       "        .then(() => loadScript(\"vega-embed\"))\n",
       "        .catch(showError)\n",
       "        .then(() => displayChart(vegaEmbed));\n",
       "    }\n",
       "  })({\"config\": {\"view\": {\"continuousWidth\": 400, \"continuousHeight\": 300}}, \"data\": {\"name\": \"data-b274e23fc9591d2b980a553c544313f8\"}, \"mark\": \"bar\", \"encoding\": {\"color\": {\"condition\": {\"value\": \"palegreen\", \"test\": \"(datum.drive === 'F')\"}, \"value\": \"pink\"}, \"x\": {\"type\": \"nominal\", \"field\": \"drive\", \"sort\": [\"L\", \"F\", \"R\"]}, \"y\": {\"type\": \"quantitative\", \"field\": \" \"}}, \"width\": 350, \"$schema\": \"https://vega.github.io/schema/vega-lite/v4.8.1.json\", \"datasets\": {\"data-b274e23fc9591d2b980a553c544313f8\": [{\"drive\": \"F\", \" \": 7}, {\"drive\": \"R\", \" \": 6}]}}, {\"mode\": \"vega-lite\"});\n",
       "</script>"
      ],
      "text/plain": [
       "alt.Chart(...)"
      ]
     },
     "execution_count": 111,
     "metadata": {},
     "output_type": "execute_result"
    }
   ],
   "source": [
    "bar = alt.Chart(df_drives).mark_bar().encode(\n",
    "    x=alt.X('drive:N', sort=['L', 'F', 'R']),\n",
    "    y=' ',\n",
    "    color = alt.condition(\n",
    "        alt.datum.drive == 'F',\n",
    "        alt.value('palegreen'), \n",
    "        alt.value('pink')\n",
    "    )\n",
    ").properties(width=350)\n",
    "\n",
    "bar"
   ]
  },
  {
   "cell_type": "code",
   "execution_count": null,
   "metadata": {},
   "outputs": [],
   "source": []
  }
 ],
 "metadata": {
  "kernelspec": {
   "display_name": "Python 3",
   "language": "python",
   "name": "python3"
  },
  "language_info": {
   "codemirror_mode": {
    "name": "ipython",
    "version": 3
   },
   "file_extension": ".py",
   "mimetype": "text/x-python",
   "name": "python",
   "nbconvert_exporter": "python",
   "pygments_lexer": "ipython3",
   "version": "3.8.5"
  }
 },
 "nbformat": 4,
 "nbformat_minor": 5
}
