{
 "cells": [
  {
   "cell_type": "code",
   "execution_count": 159,
   "metadata": {},
   "outputs": [],
   "source": [
    "import pandas as pd\n",
    "import sqlite3\n",
    "from sqlite3 import Error\n",
    "from sqlalchemy import Column, Integer, String, Float, Date, ForeignKey, Table, create_engine, func\n",
    "from sqlalchemy.orm import relationship, backref, sessionmaker\n",
    "from sqlalchemy.ext.declarative import declarative_base\n",
    "from bs4 import BeautifulSoup\n",
    "import urllib.request\n",
    "import csv\n",
    "import re"
   ]
  },
  {
   "cell_type": "code",
   "execution_count": 2,
   "metadata": {},
   "outputs": [],
   "source": [
    "def create_connection(db_file):\n",
    "    \"\"\" create a database connection to the SQLite database\n",
    "        specified by db_file\n",
    "    :param db_file: database file\n",
    "    :return: Connection object or None\n",
    "    \"\"\"\n",
    "    conn = None\n",
    "    try:\n",
    "        conn = sqlite3.connect(db_file)\n",
    "        return conn\n",
    "    except Error as e:\n",
    "        print(e)\n",
    "\n",
    "    return conn"
   ]
  },
  {
   "cell_type": "code",
   "execution_count": 4,
   "metadata": {},
   "outputs": [],
   "source": [
    "def create_course(conn, course):\n",
    "    \"\"\"\n",
    "    Create a new project into the courses table\n",
    "    :param conn:\n",
    "    :param course:\n",
    "    :return: course id\n",
    "    \"\"\"\n",
    "    sql = ''' INSERT INTO courses(course_id, name, slope, sss, distance)\n",
    "              VALUES(?,?,?,?,?) '''\n",
    "    cur = conn.cursor()\n",
    "    cur.execute(sql, course)\n",
    "    conn.commit()\n",
    "    return cur.lastrowid"
   ]
  },
  {
   "cell_type": "code",
   "execution_count": 15,
   "metadata": {},
   "outputs": [],
   "source": [
    "def delete_course(conn, course_id):\n",
    "    \"\"\"\n",
    "    Create a new project into the courses table\n",
    "    :param conn:\n",
    "    :param course:\n",
    "    :return: course id\n",
    "    \"\"\"\n",
    "    sql = ''' DELETE FROM courses WHERE course_id = ?'''\n",
    "    cur = conn.cursor()\n",
    "    cur.execute(sql, (course_id,))\n",
    "    conn.commit()\n",
    "    return cur.lastrowid"
   ]
  },
  {
   "cell_type": "code",
   "execution_count": 44,
   "metadata": {},
   "outputs": [],
   "source": [
    "def create_hole(conn, hole):\n",
    "    \"\"\"\n",
    "    Create a new project into the courses table\n",
    "    :param conn:\n",
    "    :param hole:\n",
    "    :return: hole id\n",
    "    \"\"\"\n",
    "    sql = ''' INSERT INTO holes(hole_id, course_id, number, par, distance, hcp)\n",
    "              VALUES(?,?,?,?,?,?) '''\n",
    "    cur = conn.cursor()\n",
    "    cur.execute(sql, hole)\n",
    "    conn.commit()\n",
    "    return cur.lastrowid"
   ]
  },
  {
   "cell_type": "code",
   "execution_count": 179,
   "metadata": {},
   "outputs": [],
   "source": [
    "def create_score(conn, score):\n",
    "    \"\"\"\n",
    "    Create a new project into the courses table\n",
    "    :param conn:\n",
    "    :param score:\n",
    "    :return: score id\n",
    "    \"\"\"\n",
    "    sql = ''' INSERT INTO scorecard(id, scorecard_id, date, hole_id, score, fairway, putts, bunker, water, penalty)\n",
    "              VALUES(?,?,?,?,?,?,?,?,?,?) '''\n",
    "    cur = conn.cursor()\n",
    "    cur.execute(sql, score)\n",
    "    conn.commit()\n",
    "    return cur.lastrowid"
   ]
  },
  {
   "cell_type": "code",
   "execution_count": 190,
   "metadata": {},
   "outputs": [],
   "source": [
    "def delete_score(conn, score_id):\n",
    "    \"\"\"\n",
    "    Create a new project into the courses table\n",
    "    :param conn:\n",
    "    :param score:\n",
    "    :return: score id\n",
    "    \"\"\"\n",
    "    sql = ''' DELETE FROM scorecard WHERE scorecard_id = ? '''\n",
    "    cur = conn.cursor()\n",
    "    cur.execute(sql, score_id)\n",
    "    conn.commit()\n",
    "    return cur.lastrowid"
   ]
  },
  {
   "cell_type": "code",
   "execution_count": 2,
   "metadata": {},
   "outputs": [
    {
     "name": "stdout",
     "output_type": "stream",
     "text": [
      "GST.db\r\n"
     ]
    }
   ],
   "source": [
    "!ls ../Data"
   ]
  },
  {
   "cell_type": "code",
   "execution_count": 3,
   "metadata": {},
   "outputs": [],
   "source": [
    "# create a database connection\n",
    "conn = create_connection(r\"../Data/GST.db\")"
   ]
  },
  {
   "cell_type": "markdown",
   "metadata": {},
   "source": [
    "## Course + Holes"
   ]
  },
  {
   "cell_type": "code",
   "execution_count": 124,
   "metadata": {},
   "outputs": [],
   "source": [
    "urlpage = 'https://espacelicencie.ffgolf.org/parcours/fiche?glfcod=0298&tercod=05&k=47c38287b8d42d9a68d0751f939f3fea'\n",
    "page = urllib.request.urlopen(urlpage)\n",
    "soup = BeautifulSoup(page, 'html.parser')"
   ]
  },
  {
   "cell_type": "markdown",
   "metadata": {},
   "source": [
    "### Get course infos"
   ]
  },
  {
   "cell_type": "code",
   "execution_count": 126,
   "metadata": {},
   "outputs": [],
   "source": [
    "dist = soup.find('span', attrs={'id': 'dist-tot'}).get_text().strip(' ')\n",
    "dist = int(re.findall(r\"\\d+\", dist)[0])"
   ]
  },
  {
   "cell_type": "code",
   "execution_count": 127,
   "metadata": {},
   "outputs": [],
   "source": [
    "slope = soup.find('div', attrs={'id': 'slope-mess'}).get_text()\n",
    "slope = int(re.findall(r\"\\d+\", slope)[0])"
   ]
  },
  {
   "cell_type": "code",
   "execution_count": 128,
   "metadata": {},
   "outputs": [],
   "source": [
    "sss = soup.find('div', attrs={'id': 'sss-mess'}).get_text()\n",
    "sss = int(re.findall(r\"\\d+\", sss)[0])"
   ]
  },
  {
   "cell_type": "code",
   "execution_count": 129,
   "metadata": {},
   "outputs": [
    {
     "data": {
      "text/plain": [
       "('COUNO', 'Courson Noir Orange', 144, 73, 6133)"
      ]
     },
     "execution_count": 129,
     "metadata": {},
     "output_type": "execute_result"
    }
   ],
   "source": [
    "course_id = 'COUNO'\n",
    "course_name = 'Courson Noir Orange'\n",
    "course = (course_id, course_name, slope, sss, dist)\n",
    "course"
   ]
  },
  {
   "cell_type": "markdown",
   "metadata": {},
   "source": [
    "#### Insert in DB"
   ]
  },
  {
   "cell_type": "markdown",
   "metadata": {},
   "source": [
    "create_course(conn, course)"
   ]
  },
  {
   "cell_type": "markdown",
   "metadata": {},
   "source": [
    "#### Delete from DB"
   ]
  },
  {
   "cell_type": "markdown",
   "metadata": {},
   "source": [
    "delete_course(conn, \"test\")"
   ]
  },
  {
   "cell_type": "markdown",
   "metadata": {},
   "source": [
    "### Get holes infos"
   ]
  },
  {
   "cell_type": "code",
   "execution_count": 131,
   "metadata": {},
   "outputs": [],
   "source": [
    "pars=[]\n",
    "for i in range(1,19):\n",
    "    id = 'par-'+str(i)\n",
    "    par = int(soup.find('td', attrs={'id': id}).get_text())\n",
    "    pars.append(par)"
   ]
  },
  {
   "cell_type": "code",
   "execution_count": 132,
   "metadata": {},
   "outputs": [],
   "source": [
    "hcps=[]\n",
    "for i in range(1,19):\n",
    "    id = 'hcp-'+str(i)\n",
    "    hcp = int(soup.find('td', attrs={'id': id}).get_text())\n",
    "    hcps.append(hcp)"
   ]
  },
  {
   "cell_type": "code",
   "execution_count": 133,
   "metadata": {},
   "outputs": [],
   "source": [
    "dist_holes=[]\n",
    "for i in range(1,19):\n",
    "    id = 'dist-'+str(i)\n",
    "    dist_hole = int(soup.find('td', attrs={'id': id}).get_text())\n",
    "    dist_holes.append(dist_hole)"
   ]
  },
  {
   "cell_type": "markdown",
   "metadata": {},
   "source": [
    "#### Insert in DB"
   ]
  },
  {
   "cell_type": "code",
   "execution_count": 134,
   "metadata": {},
   "outputs": [
    {
     "data": {
      "text/plain": [
       "'COUNO'"
      ]
     },
     "execution_count": 134,
     "metadata": {},
     "output_type": "execute_result"
    }
   ],
   "source": [
    "course_id"
   ]
  },
  {
   "cell_type": "markdown",
   "metadata": {},
   "source": [
    "for i in range(1,19):\n",
    "    hole_id = course_id + str(i)\n",
    "    hole = (hole_id, course_id, i, pars[i-1], dist_holes[i-1], hcps[i-1])\n",
    "    create_hole(conn, hole)"
   ]
  },
  {
   "cell_type": "markdown",
   "metadata": {},
   "source": [
    "## Scorecard"
   ]
  },
  {
   "cell_type": "code",
   "execution_count": 182,
   "metadata": {},
   "outputs": [],
   "source": [
    "urlpage = 'https://www.tagheuergolf.com/rounds/f7e9b234-6e6f-4230-bf60-abf53e7be512'\n",
    "page = urllib.request.urlopen(urlpage)\n",
    "soup = BeautifulSoup(page, 'html.parser')"
   ]
  },
  {
   "cell_type": "code",
   "execution_count": 183,
   "metadata": {},
   "outputs": [
    {
     "data": {
      "text/plain": [
       "['GOLF',\n",
       " '  Exclusif Golf Domaine de Courson',\n",
       " '  Noir - Orange',\n",
       " 'Sunday June 13, 2021 06:54',\n",
       " 'Stroke play / Gross',\n",
       " 'Triple+',\n",
       " 'Double',\n",
       " 'Bogey',\n",
       " 'Par',\n",
       " 'Birdie',\n",
       " 'Eagle',\n",
       " 'Hole',\n",
       " '1',\n",
       " '2',\n",
       " '3',\n",
       " '4',\n",
       " '5',\n",
       " '6',\n",
       " '7',\n",
       " '8',\n",
       " '9',\n",
       " 'Out',\n",
       " '10',\n",
       " '11',\n",
       " '12',\n",
       " '13',\n",
       " '14',\n",
       " '15',\n",
       " '16',\n",
       " '17',\n",
       " '18',\n",
       " 'In',\n",
       " 'Total',\n",
       " 'Par',\n",
       " '4',\n",
       " '3',\n",
       " '4',\n",
       " '4',\n",
       " '5',\n",
       " '3',\n",
       " '4',\n",
       " '4',\n",
       " '5',\n",
       " '36',\n",
       " '5',\n",
       " '4',\n",
       " '4',\n",
       " '4',\n",
       " '3',\n",
       " '4',\n",
       " '4',\n",
       " '3',\n",
       " '5',\n",
       " '36',\n",
       " '72',\n",
       " 'Handicap',\n",
       " '1',\n",
       " '17',\n",
       " '9',\n",
       " '11',\n",
       " '3',\n",
       " '13',\n",
       " '7',\n",
       " '5',\n",
       " '15',\n",
       " '10',\n",
       " '18',\n",
       " '12',\n",
       " '16',\n",
       " '6',\n",
       " '4',\n",
       " '2',\n",
       " '14',\n",
       " '8',\n",
       " '      Tom A.',\n",
       " '      (Index 10.0)',\n",
       " 'Hommes Blanc 71.6/143',\n",
       " 'Score',\n",
       " '5',\n",
       " '4',\n",
       " '3',\n",
       " '4',\n",
       " '5',\n",
       " '4',\n",
       " '4',\n",
       " '6',\n",
       " '42',\n",
       " '5',\n",
       " '4',\n",
       " '4',\n",
       " '4',\n",
       " '6',\n",
       " '7',\n",
       " '6',\n",
       " '4',\n",
       " '6',\n",
       " '46',\n",
       " '88',\n",
       " 'Putts',\n",
       " '2',\n",
       " '3',\n",
       " '1',\n",
       " '3',\n",
       " '2',\n",
       " '2',\n",
       " '1',\n",
       " '3',\n",
       " '17',\n",
       " '2',\n",
       " '2',\n",
       " '2',\n",
       " '2',\n",
       " '3',\n",
       " '2',\n",
       " '3',\n",
       " '2',\n",
       " '2',\n",
       " '20',\n",
       " '37',\n",
       " '      Tom A.',\n",
       " '      (Index 10.0)',\n",
       " '10.0',\n",
       " 'Simulated HCP',\n",
       " '+16',\n",
       " 'Score to Par',\n",
       " '2.2',\n",
       " 'Putts per hole',\n",
       " '53 %',\n",
       " 'GIR',\n",
       " '29 %',\n",
       " 'Fairways',\n",
       " ' - ',\n",
       " 'Drive',\n",
       " 'Scores by Par',\n",
       " 'Score distribution']"
      ]
     },
     "execution_count": 183,
     "metadata": {},
     "output_type": "execute_result"
    }
   ],
   "source": [
    "l = soup.find('div').get_text().split('\\n')\n",
    "l = [x for x in l if x]\n",
    "l"
   ]
  },
  {
   "cell_type": "code",
   "execution_count": 211,
   "metadata": {},
   "outputs": [
    {
     "name": "stdout",
     "output_type": "stream",
     "text": [
      "[2, 3, 1, 3, 2, 2, 1, 3, 17, 2, 2, 2, 2, 3, 2, 3, 2, 2, 20]\n",
      "[5, 4, 3, 4, 5, 4, 4, 6, 42, 5, 4, 4, 4, 6, 7, 6, 4, 6, 46]\n"
     ]
    }
   ],
   "source": [
    "score_idx = l.index('Score')\n",
    "putts_idx = l.index('Putts')\n",
    "scores = l[score_idx+1:score_idx+20]\n",
    "putts = l[putts_idx+1:putts_idx+20]\n",
    "scores = [int (s) for s in scores]\n",
    "putts = [int (p) for p in putts]"
   ]
  },
  {
   "cell_type": "code",
   "execution_count": 225,
   "metadata": {},
   "outputs": [
    {
     "name": "stdout",
     "output_type": "stream",
     "text": [
      "[2, 3, 1, 3, 2, 2, None, 1, 3, 2, 2, 2, 2, 3, 2, 3, 2, 2]\n",
      "[5, 4, 3, 4, 5, 4, None, 4, 6, 5, 4, 4, 4, 6, 7, 6, 4, 6]\n"
     ]
    }
   ],
   "source": [
    "print(putts)\n",
    "print(scores)"
   ]
  },
  {
   "cell_type": "code",
   "execution_count": 149,
   "metadata": {},
   "outputs": [],
   "source": [
    "Base = declarative_base()\n",
    "\n",
    "class Scorecard(Base):\n",
    "    __tablename__ = \"scorecard\"\n",
    "    id = Column(Integer, primary_key = True)\n",
    "    scorecard_id = Column(String)\n",
    "    date = Column(Date)\n",
    "    hole_id = Column(String, ForeignKey(\"holes.hole_id\"))\n",
    "    score = Column(Integer)\n",
    "    fairway = Column(String)\n",
    "    putts = Column(Integer)\n",
    "    bunker = Column(Integer)\n",
    "    water = Column(Integer)\n",
    "    penalty = Column(Integer)\n",
    "    \n",
    "## Session for querying database\n",
    "engine = create_engine(f\"sqlite:///GST.db\")\n",
    "Session = sessionmaker()\n",
    "Session.configure(bind=engine)\n",
    "session = Session()\n",
    "last_id = session.query(func.max(Scorecard.id)).first()\n",
    "last_id = last_id[0]"
   ]
  },
  {
   "cell_type": "code",
   "execution_count": 229,
   "metadata": {},
   "outputs": [],
   "source": [
    "fairways = [None]*18"
   ]
  },
  {
   "cell_type": "code",
   "execution_count": 244,
   "metadata": {},
   "outputs": [],
   "source": [
    "penalties = [None]*18"
   ]
  },
  {
   "cell_type": "code",
   "execution_count": 246,
   "metadata": {},
   "outputs": [],
   "source": [
    "penalties[14]=1"
   ]
  },
  {
   "cell_type": "code",
   "execution_count": 250,
   "metadata": {},
   "outputs": [],
   "source": [
    "date=\"2021-06-13\"\n",
    "date_id=\"130621\"\n",
    "for i in range(1,19):\n",
    "    id_row = last_id+i\n",
    "    scorecard_id = course_id+date_id\n",
    "    hole_id = course_id + str(i)\n",
    "    scorecard = (id_row, scorecard_id, date, hole_id, scores[i-1], fairways[i-1], putts[i-1], None, None, penalties[i-1])\n",
    "    create_score(conn, scorecard)"
   ]
  },
  {
   "cell_type": "code",
   "execution_count": 249,
   "metadata": {},
   "outputs": [
    {
     "data": {
      "text/plain": [
       "72"
      ]
     },
     "execution_count": 249,
     "metadata": {},
     "output_type": "execute_result"
    }
   ],
   "source": [
    "delete_score(conn, (\"COUNO130621\",))"
   ]
  }
 ],
 "metadata": {
  "kernelspec": {
   "display_name": "Python 3",
   "language": "python",
   "name": "python3"
  },
  "language_info": {
   "codemirror_mode": {
    "name": "ipython",
    "version": 3
   },
   "file_extension": ".py",
   "mimetype": "text/x-python",
   "name": "python",
   "nbconvert_exporter": "python",
   "pygments_lexer": "ipython3",
   "version": "3.8.5"
  }
 },
 "nbformat": 4,
 "nbformat_minor": 4
}
