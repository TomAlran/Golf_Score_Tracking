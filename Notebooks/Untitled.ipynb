{
 "cells": [
  {
   "cell_type": "code",
   "execution_count": 1,
   "metadata": {},
   "outputs": [],
   "source": [
    "import pandas as pd\n",
    "import sqlite3\n",
    "from sqlite3 import Error\n",
    "from sqlalchemy import create_engine\n",
    "from bs4 import BeautifulSoup\n",
    "import urllib.request\n",
    "import csv\n",
    "import re"
   ]
  },
  {
   "cell_type": "markdown",
   "metadata": {},
   "source": [
    "### SQLite DB functions"
   ]
  },
  {
   "cell_type": "code",
   "execution_count": 96,
   "metadata": {},
   "outputs": [],
   "source": [
    "def create_connection(db_file):\n",
    "    \"\"\" create a database connection to the SQLite database\n",
    "        specified by db_file\n",
    "    :param db_file: database file\n",
    "    :return: Connection object or None\n",
    "    \"\"\"\n",
    "    conn = None\n",
    "    try:\n",
    "        conn = sqlite3.connect(db_file)\n",
    "        return conn\n",
    "    except Error as e:\n",
    "        print(e)\n",
    "\n",
    "    return conn"
   ]
  },
  {
   "cell_type": "code",
   "execution_count": 10,
   "metadata": {},
   "outputs": [
    {
     "ename": "NameError",
     "evalue": "name 'create_connection' is not defined",
     "output_type": "error",
     "traceback": [
      "\u001b[0;31m---------------------------------------------------------------------------\u001b[0m",
      "\u001b[0;31mNameError\u001b[0m                                 Traceback (most recent call last)",
      "\u001b[0;32m<ipython-input-10-8b6a8bbcaa11>\u001b[0m in \u001b[0;36m<module>\u001b[0;34m\u001b[0m\n\u001b[1;32m      1\u001b[0m \u001b[0;31m# create a database connection\u001b[0m\u001b[0;34m\u001b[0m\u001b[0;34m\u001b[0m\u001b[0;34m\u001b[0m\u001b[0m\n\u001b[0;32m----> 2\u001b[0;31m \u001b[0mconn\u001b[0m \u001b[0;34m=\u001b[0m \u001b[0mcreate_connection\u001b[0m\u001b[0;34m(\u001b[0m\u001b[0;34mr\"Data/GST.db\"\u001b[0m\u001b[0;34m)\u001b[0m\u001b[0;34m\u001b[0m\u001b[0;34m\u001b[0m\u001b[0m\n\u001b[0m",
      "\u001b[0;31mNameError\u001b[0m: name 'create_connection' is not defined"
     ]
    }
   ],
   "source": [
    "# create a database connection\n",
    "conn = create_connection(r\"../Data/GST.db\")"
   ]
  },
  {
   "cell_type": "markdown",
   "metadata": {},
   "source": [
    "#### Create Tables"
   ]
  },
  {
   "cell_type": "code",
   "execution_count": 14,
   "metadata": {},
   "outputs": [],
   "source": [
    "def create_table(conn, create_table_sql):\n",
    "    \"\"\" create a table from the create_table_sql statement\n",
    "    :param conn: Connection object\n",
    "    :param create_table_sql: a CREATE TABLE statement\n",
    "    :return:\n",
    "    \"\"\"\n",
    "    try:\n",
    "        c = conn.cursor()\n",
    "        c.execute(create_table_sql)\n",
    "    except Error as e:\n",
    "        print(e)"
   ]
  },
  {
   "cell_type": "code",
   "execution_count": 15,
   "metadata": {},
   "outputs": [],
   "source": [
    "creation_requests = []\n",
    "\n",
    "sql_create_courses_table = \"\"\" CREATE TABLE IF NOT EXISTS courses (\n",
    "                                    id int PRIMARY KEY,\n",
    "                                    name text NOT NULL,\n",
    "                                    slope int,\n",
    "                                    sss real,\n",
    "                                    distance int NOT NULL\n",
    "                                    ); \"\"\"\n",
    "\n",
    "sql_create_holes_table = \"\"\"CREATE TABLE IF NOT EXISTS holes (\n",
    "                                    id int PRIMARY KEY,\n",
    "                                    course_id int NOT NULL,\n",
    "                                    number int NOT NULL,\n",
    "                                    par int NOT NULL,\n",
    "                                    distance int NOT NULL,\n",
    "                                    FOREIGN KEY (course_id) REFERENCES courses (id)\n",
    "                                );\"\"\"\n",
    "\n",
    "sql_create_scorecard_table = \"\"\"CREATE TABLE IF NOT EXISTS scorecard (\n",
    "                                    id int PRIMARY KEY,\n",
    "                                    date text NOT NULL,\n",
    "                                    hole_id int NOT NULL,\n",
    "                                    score int NOT NULL,\n",
    "                                    fairway text,\n",
    "                                    putts int NOT NULL,\n",
    "                                    bunker int NOT NULL,\n",
    "                                    water int NOT NULL,\n",
    "                                    penalty int NOT NULL,\n",
    "                                    FOREIGN KEY (hole_id) REFERENCES holes (id)\n",
    "                                );\"\"\"\n",
    "\n",
    "creation_requests.append(sql_create_courses_table)\n",
    "creation_requests.append(sql_create_holes_table)\n",
    "creation_requests.append(sql_create_scorecard_table)"
   ]
  },
  {
   "cell_type": "code",
   "execution_count": 16,
   "metadata": {},
   "outputs": [],
   "source": [
    "# create tables\n",
    "if conn is not None:\n",
    "    for table in creation_requests:\n",
    "        # create projects table\n",
    "        create_table(conn, table)\n",
    "else:\n",
    "    print(\"Error! cannot create the database connection.\")"
   ]
  },
  {
   "cell_type": "markdown",
   "metadata": {},
   "source": [
    "#### Fill tables"
   ]
  },
  {
   "cell_type": "code",
   "execution_count": 99,
   "metadata": {},
   "outputs": [],
   "source": [
    "def create_course(conn, course):\n",
    "    \"\"\"\n",
    "    Create a new project into the courses table\n",
    "    :param conn:\n",
    "    :param course:\n",
    "    :return: course id\n",
    "    \"\"\"\n",
    "    sql = ''' INSERT INTO courses(course_id, name, slope, sss, distance)\n",
    "              VALUES(?,?,?,?,?) '''\n",
    "    cur = conn.cursor()\n",
    "    cur.execute(sql, course)\n",
    "    conn.commit()\n",
    "    return cur.lastrowid"
   ]
  },
  {
   "cell_type": "code",
   "execution_count": 114,
   "metadata": {},
   "outputs": [],
   "source": [
    "def delete_course(conn, course_id):\n",
    "    \"\"\"\n",
    "    Create a new project into the courses table\n",
    "    :param conn:\n",
    "    :param course:\n",
    "    :return: course id\n",
    "    \"\"\"\n",
    "    sql = ''' DELETE FROM courses WHERE course_id = ?'''\n",
    "    cur = conn.cursor()\n",
    "    cur.execute(sql, (course_id,))\n",
    "    conn.commit()\n",
    "    return cur.lastrowid"
   ]
  },
  {
   "cell_type": "code",
   "execution_count": 18,
   "metadata": {},
   "outputs": [],
   "source": [
    "def create_hole(conn, hole):\n",
    "    \"\"\"\n",
    "    Create a new project into the courses table\n",
    "    :param conn:\n",
    "    :param hole:\n",
    "    :return: hole id\n",
    "    \"\"\"\n",
    "    sql = ''' INSERT INTO holes(course_id, number, par, distance)\n",
    "              VALUES(?,?,?,?) '''\n",
    "    cur = conn.cursor()\n",
    "    cur.execute(sql, hole)\n",
    "    conn.commit()\n",
    "    return cur.lastrowid"
   ]
  },
  {
   "cell_type": "code",
   "execution_count": 19,
   "metadata": {},
   "outputs": [],
   "source": [
    "def create_score(conn, score):\n",
    "    \"\"\"\n",
    "    Create a new project into the courses table\n",
    "    :param conn:\n",
    "    :param score:\n",
    "    :return: score id\n",
    "    \"\"\"\n",
    "    sql = ''' INSERT INTO scorecard(date, hole_id, score, fairway, putts, bunker, water, penalty)\n",
    "              VALUES(?,?,?,?,?,?,?,?) '''\n",
    "    cur = conn.cursor()\n",
    "    cur.execute(sql, course)\n",
    "    conn.commit()\n",
    "    return cur.lastrowid"
   ]
  },
  {
   "cell_type": "code",
   "execution_count": 20,
   "metadata": {},
   "outputs": [
    {
     "ename": "NameError",
     "evalue": "name 'course' is not defined",
     "output_type": "error",
     "traceback": [
      "\u001b[0;31m---------------------------------------------------------------------------\u001b[0m",
      "\u001b[0;31mNameError\u001b[0m                                 Traceback (most recent call last)",
      "\u001b[0;32m<ipython-input-20-33567692417e>\u001b[0m in \u001b[0;36m<module>\u001b[0;34m\u001b[0m\n\u001b[1;32m      1\u001b[0m \u001b[0;31m# create a new course\u001b[0m\u001b[0;34m\u001b[0m\u001b[0;34m\u001b[0m\u001b[0;34m\u001b[0m\u001b[0m\n\u001b[1;32m      2\u001b[0m \u001b[0mcourse_1\u001b[0m \u001b[0;34m=\u001b[0m \u001b[0;34m(\u001b[0m\u001b[0;34m'Coudray Montceaux'\u001b[0m\u001b[0;34m,\u001b[0m \u001b[0;34m'127'\u001b[0m\u001b[0;34m,\u001b[0m \u001b[0;34m'70.2'\u001b[0m\u001b[0;34m,\u001b[0m \u001b[0;34m'5649'\u001b[0m\u001b[0;34m)\u001b[0m\u001b[0;34m\u001b[0m\u001b[0;34m\u001b[0m\u001b[0m\n\u001b[0;32m----> 3\u001b[0;31m \u001b[0mcreate_course\u001b[0m\u001b[0;34m(\u001b[0m\u001b[0mconn\u001b[0m\u001b[0;34m,\u001b[0m \u001b[0mcourse\u001b[0m\u001b[0;34m)\u001b[0m\u001b[0;34m\u001b[0m\u001b[0;34m\u001b[0m\u001b[0m\n\u001b[0m",
      "\u001b[0;31mNameError\u001b[0m: name 'course' is not defined"
     ]
    }
   ],
   "source": [
    "# create a new course\n",
    "course_1 = ('Coudray Montceaux', '127', '70.2', '5649')\n",
    "create_course(conn, course)"
   ]
  },
  {
   "cell_type": "code",
   "execution_count": null,
   "metadata": {},
   "outputs": [],
   "source": [
    "# create a new hole\n",
    "hole = ('Cool App with SQLite & Python', '2015-01-01', '2015-01-30')\n",
    "create_hole(conn, hole)"
   ]
  },
  {
   "cell_type": "code",
   "execution_count": null,
   "metadata": {},
   "outputs": [],
   "source": [
    "# create a new score\n",
    "score = ('Cool App with SQLite & Python', '2015-01-01', '2015-01-30')\n",
    "create_score(conn, score)"
   ]
  },
  {
   "cell_type": "code",
   "execution_count": null,
   "metadata": {},
   "outputs": [],
   "source": [
    "d = {'name': ['Coudray Montceaux'], 'slope': [127], 'sss': [70.2], 'distance': [5649]}"
   ]
  },
  {
   "cell_type": "code",
   "execution_count": null,
   "metadata": {},
   "outputs": [],
   "source": [
    "df = pd.DataFrame(data=d)\n",
    "df.to_csv('Sheets/courses.csv')"
   ]
  },
  {
   "cell_type": "code",
   "execution_count": null,
   "metadata": {},
   "outputs": [],
   "source": [
    "courses = pd.read_csv('Sheets/courses.csv', delimiter=\";\")"
   ]
  },
  {
   "cell_type": "code",
   "execution_count": null,
   "metadata": {},
   "outputs": [],
   "source": [
    "courses"
   ]
  },
  {
   "cell_type": "markdown",
   "metadata": {},
   "source": [
    "### Create Model"
   ]
  },
  {
   "cell_type": "code",
   "execution_count": 3,
   "metadata": {},
   "outputs": [],
   "source": [
    "from sqlalchemy import Column, Integer, String, Float, Date, ForeignKey, Table, create_engine, func\n",
    "from sqlalchemy.orm import relationship, backref, sessionmaker\n",
    "from sqlalchemy.ext.declarative import declarative_base"
   ]
  },
  {
   "cell_type": "code",
   "execution_count": 21,
   "metadata": {},
   "outputs": [],
   "source": [
    "Base = declarative_base()\n",
    "\n",
    "class Courses(Base):\n",
    "    __tablename__ = \"courses\"\n",
    "    course_id = Column(String, primary_key = True)\n",
    "    name = Column(String)\n",
    "    sss = Column(Float)\n",
    "    slope = Column(Integer)\n",
    "    distance = Column(Integer)\n",
    "    holes = relationship(\"Holes\", backref=backref(\"course\"))\n",
    "    \n",
    "class Holes(Base):\n",
    "    __tablename__ = \"holes\"\n",
    "    hole_id = Column(String, primary_key = True)\n",
    "    course_id = Column(String, ForeignKey(\"courses.course_id\"))\n",
    "    number = Column(Integer)\n",
    "    par = Column(Integer)\n",
    "    distance = Column(Integer)\n",
    "    hcp = Column(Integer)\n",
    "    \n",
    "class Scorecard(Base):\n",
    "    __tablename__ = \"scorecard\"\n",
    "    id = Column(Integer, primary_key = True)\n",
    "    scorecard_id = Column(String)\n",
    "    date = Column(Date)\n",
    "    hole_id = Column(String, ForeignKey(\"holes.hole_id\"))\n",
    "    score = Column(Integer)\n",
    "    fairway = Column(String)\n",
    "    putts = Column(Integer)\n",
    "    bunker = Column(Integer)\n",
    "    water = Column(Integer)\n",
    "    penalty = Column(Integer)\n",
    "    "
   ]
  },
  {
   "cell_type": "code",
   "execution_count": 8,
   "metadata": {},
   "outputs": [],
   "source": [
    "engine = create_engine(f\"sqlite:///../Data/GST.db\")\n",
    "Session = sessionmaker()\n",
    "Session.configure(bind=engine)\n",
    "session = Session()"
   ]
  },
  {
   "cell_type": "code",
   "execution_count": 7,
   "metadata": {},
   "outputs": [
    {
     "ename": "NameError",
     "evalue": "name 'Courses' is not defined",
     "output_type": "error",
     "traceback": [
      "\u001b[0;31m---------------------------------------------------------------------------\u001b[0m",
      "\u001b[0;31mNameError\u001b[0m                                 Traceback (most recent call last)",
      "\u001b[0;32m<ipython-input-7-f8e2f190e3b6>\u001b[0m in \u001b[0;36m<module>\u001b[0;34m\u001b[0m\n\u001b[0;32m----> 1\u001b[0;31m \u001b[0mresults\u001b[0m \u001b[0;34m=\u001b[0m \u001b[0msession\u001b[0m\u001b[0;34m.\u001b[0m\u001b[0mquery\u001b[0m\u001b[0;34m(\u001b[0m\u001b[0mCourses\u001b[0m\u001b[0;34m)\u001b[0m\u001b[0;34m.\u001b[0m\u001b[0mall\u001b[0m\u001b[0;34m(\u001b[0m\u001b[0;34m)\u001b[0m\u001b[0;34m\u001b[0m\u001b[0;34m\u001b[0m\u001b[0m\n\u001b[0m",
      "\u001b[0;31mNameError\u001b[0m: name 'Courses' is not defined"
     ]
    }
   ],
   "source": [
    "results = session.query(Courses).all()"
   ]
  },
  {
   "cell_type": "code",
   "execution_count": 24,
   "metadata": {},
   "outputs": [],
   "source": [
    "rounds = (\n",
    "    session.query(\n",
    "        Courses.name,\n",
    "        Courses.course_id,\n",
    "        Scorecard.date\n",
    "    )\n",
    "    .select_from(Courses)\n",
    "    .join(Holes)\n",
    "    .join(Scorecard)\n",
    "    .group_by(Courses.name)\n",
    "    .all()\n",
    ")"
   ]
  },
  {
   "cell_type": "code",
   "execution_count": 25,
   "metadata": {},
   "outputs": [
    {
     "data": {
      "text/plain": [
       "[('Courson Vert Noir', 'COUVN', datetime.date(2021, 6, 6)),\n",
       " ('Marivaux', 'MAR', datetime.date(2021, 6, 3)),\n",
       " ('St Germain les Corbeil', 'SGC', datetime.date(2021, 5, 9))]"
      ]
     },
     "execution_count": 25,
     "metadata": {},
     "output_type": "execute_result"
    }
   ],
   "source": [
    "rounds"
   ]
  },
  {
   "cell_type": "code",
   "execution_count": 26,
   "metadata": {},
   "outputs": [],
   "source": [
    "rounds_list = []\n",
    "rounds_mapping = []\n",
    "for round_ in rounds:\n",
    "    round_pretty = f\"{round_.name} / {round_.date.strftime('%d %b %Y')}\"\n",
    "    rounds_list.append(round_pretty)\n",
    "    course_id = f\"{round_.course_id}{round_.date.strftime('%d%m%y')}\"\n",
    "    rounds_mapping.append({\"round_id\": course_id, \"round_pretty\": round_pretty})"
   ]
  },
  {
   "cell_type": "code",
   "execution_count": 27,
   "metadata": {},
   "outputs": [
    {
     "data": {
      "text/plain": [
       "['Courson Vert Noir / 06 Jun 2021',\n",
       " 'Marivaux / 03 Jun 2021',\n",
       " 'St Germain les Corbeil / 09 May 2021']"
      ]
     },
     "execution_count": 27,
     "metadata": {},
     "output_type": "execute_result"
    }
   ],
   "source": [
    "rounds_list"
   ]
  },
  {
   "cell_type": "code",
   "execution_count": 28,
   "metadata": {},
   "outputs": [
    {
     "data": {
      "text/plain": [
       "[{'round_id': 'COUVN060621',\n",
       "  'round_pretty': 'Courson Vert Noir / 06 Jun 2021'},\n",
       " {'round_id': 'MAR030621', 'round_pretty': 'Marivaux / 03 Jun 2021'},\n",
       " {'round_id': 'SGC090521',\n",
       "  'round_pretty': 'St Germain les Corbeil / 09 May 2021'}]"
      ]
     },
     "execution_count": 28,
     "metadata": {},
     "output_type": "execute_result"
    }
   ],
   "source": [
    "rounds_mapping"
   ]
  },
  {
   "cell_type": "code",
   "execution_count": 116,
   "metadata": {},
   "outputs": [
    {
     "ename": "NameError",
     "evalue": "name 'session' is not defined",
     "output_type": "error",
     "traceback": [
      "\u001b[0;31m---------------------------------------------------------------------------\u001b[0m",
      "\u001b[0;31mNameError\u001b[0m                                 Traceback (most recent call last)",
      "\u001b[0;32m<ipython-input-116-22636f8ae664>\u001b[0m in \u001b[0;36m<module>\u001b[0;34m\u001b[0m\n\u001b[1;32m      1\u001b[0m scorecard = (\n\u001b[0;32m----> 2\u001b[0;31m     session.query(\n\u001b[0m\u001b[1;32m      3\u001b[0m         \u001b[0mHoles\u001b[0m\u001b[0;34m.\u001b[0m\u001b[0mnumber\u001b[0m\u001b[0;34m,\u001b[0m\u001b[0;34m\u001b[0m\u001b[0;34m\u001b[0m\u001b[0m\n\u001b[1;32m      4\u001b[0m         \u001b[0mHoles\u001b[0m\u001b[0;34m.\u001b[0m\u001b[0mpar\u001b[0m\u001b[0;34m,\u001b[0m\u001b[0;34m\u001b[0m\u001b[0;34m\u001b[0m\u001b[0m\n\u001b[1;32m      5\u001b[0m         \u001b[0mHoles\u001b[0m\u001b[0;34m.\u001b[0m\u001b[0mhcp\u001b[0m\u001b[0;34m,\u001b[0m\u001b[0;34m\u001b[0m\u001b[0;34m\u001b[0m\u001b[0m\n",
      "\u001b[0;31mNameError\u001b[0m: name 'session' is not defined"
     ]
    }
   ],
   "source": [
    "scorecard = (\n",
    "    session.query(\n",
    "        Holes.number,\n",
    "        Holes.par,\n",
    "        Holes.hcp,\n",
    "        Holes.distance,\n",
    "        Scorecard.score,\n",
    "        Scorecard.fairway,\n",
    "        Scorecard.putts,\n",
    "    )\n",
    "    .select_from(Scorecard)\n",
    "    .join(Holes)\n",
    "    .filter(Scorecard.scorecard_id == \"MAR03062021\")\n",
    "    .all()\n",
    ")"
   ]
  },
  {
   "cell_type": "code",
   "execution_count": 36,
   "metadata": {},
   "outputs": [
    {
     "data": {
      "text/html": [
       "<div>\n",
       "<style scoped>\n",
       "    .dataframe tbody tr th:only-of-type {\n",
       "        vertical-align: middle;\n",
       "    }\n",
       "\n",
       "    .dataframe tbody tr th {\n",
       "        vertical-align: top;\n",
       "    }\n",
       "\n",
       "    .dataframe thead th {\n",
       "        text-align: right;\n",
       "    }\n",
       "</style>\n",
       "<table border=\"1\" class=\"dataframe\">\n",
       "  <thead>\n",
       "    <tr style=\"text-align: right;\">\n",
       "      <th></th>\n",
       "    </tr>\n",
       "  </thead>\n",
       "  <tbody>\n",
       "  </tbody>\n",
       "</table>\n",
       "</div>"
      ],
      "text/plain": [
       "Empty DataFrame\n",
       "Columns: []\n",
       "Index: []"
      ]
     },
     "execution_count": 36,
     "metadata": {},
     "output_type": "execute_result"
    }
   ],
   "source": [
    "pd.DataFrame(scorecard)"
   ]
  },
  {
   "cell_type": "code",
   "execution_count": 30,
   "metadata": {
    "scrolled": false
   },
   "outputs": [
    {
     "ename": "KeyError",
     "evalue": "\"None of ['number'] are in the columns\"",
     "output_type": "error",
     "traceback": [
      "\u001b[0;31m---------------------------------------------------------------------------\u001b[0m",
      "\u001b[0;31mKeyError\u001b[0m                                  Traceback (most recent call last)",
      "\u001b[0;32m<ipython-input-30-e2a27fc60bd2>\u001b[0m in \u001b[0;36m<module>\u001b[0;34m\u001b[0m\n\u001b[0;32m----> 1\u001b[0;31m \u001b[0mdf\u001b[0m \u001b[0;34m=\u001b[0m \u001b[0mpd\u001b[0m\u001b[0;34m.\u001b[0m\u001b[0mDataFrame\u001b[0m\u001b[0;34m(\u001b[0m\u001b[0mscorecard\u001b[0m\u001b[0;34m)\u001b[0m\u001b[0;34m.\u001b[0m\u001b[0mset_index\u001b[0m\u001b[0;34m(\u001b[0m\u001b[0;34m\"number\"\u001b[0m\u001b[0;34m)\u001b[0m\u001b[0;34m.\u001b[0m\u001b[0msort_index\u001b[0m\u001b[0;34m(\u001b[0m\u001b[0;34m)\u001b[0m\u001b[0;34m[\u001b[0m\u001b[0;36m0\u001b[0m\u001b[0;34m:\u001b[0m\u001b[0;36m18\u001b[0m\u001b[0;34m]\u001b[0m\u001b[0;34m\u001b[0m\u001b[0;34m\u001b[0m\u001b[0m\n\u001b[0m",
      "\u001b[0;32m~/opt/anaconda3/lib/python3.8/site-packages/pandas/core/frame.py\u001b[0m in \u001b[0;36mset_index\u001b[0;34m(self, keys, drop, append, inplace, verify_integrity)\u001b[0m\n\u001b[1;32m   4549\u001b[0m \u001b[0;34m\u001b[0m\u001b[0m\n\u001b[1;32m   4550\u001b[0m         \u001b[0;32mif\u001b[0m \u001b[0mmissing\u001b[0m\u001b[0;34m:\u001b[0m\u001b[0;34m\u001b[0m\u001b[0;34m\u001b[0m\u001b[0m\n\u001b[0;32m-> 4551\u001b[0;31m             \u001b[0;32mraise\u001b[0m \u001b[0mKeyError\u001b[0m\u001b[0;34m(\u001b[0m\u001b[0;34mf\"None of {missing} are in the columns\"\u001b[0m\u001b[0;34m)\u001b[0m\u001b[0;34m\u001b[0m\u001b[0;34m\u001b[0m\u001b[0m\n\u001b[0m\u001b[1;32m   4552\u001b[0m \u001b[0;34m\u001b[0m\u001b[0m\n\u001b[1;32m   4553\u001b[0m         \u001b[0;32mif\u001b[0m \u001b[0minplace\u001b[0m\u001b[0;34m:\u001b[0m\u001b[0;34m\u001b[0m\u001b[0;34m\u001b[0m\u001b[0m\n",
      "\u001b[0;31mKeyError\u001b[0m: \"None of ['number'] are in the columns\""
     ]
    }
   ],
   "source": [
    "df = pd.DataFrame(scorecard).set_index(\"number\").sort_index()[0:18]"
   ]
  },
  {
   "cell_type": "code",
   "execution_count": 31,
   "metadata": {},
   "outputs": [
    {
     "ename": "NameError",
     "evalue": "name 'df' is not defined",
     "output_type": "error",
     "traceback": [
      "\u001b[0;31m---------------------------------------------------------------------------\u001b[0m",
      "\u001b[0;31mNameError\u001b[0m                                 Traceback (most recent call last)",
      "\u001b[0;32m<ipython-input-31-b5530f0b3f17>\u001b[0m in \u001b[0;36m<module>\u001b[0;34m\u001b[0m\n\u001b[0;32m----> 1\u001b[0;31m \u001b[0mvs_par\u001b[0m \u001b[0;34m=\u001b[0m \u001b[0mdf\u001b[0m\u001b[0;34m.\u001b[0m\u001b[0mscore\u001b[0m \u001b[0;34m-\u001b[0m \u001b[0mdf\u001b[0m\u001b[0;34m.\u001b[0m\u001b[0mpar\u001b[0m\u001b[0;34m\u001b[0m\u001b[0;34m\u001b[0m\u001b[0m\n\u001b[0m",
      "\u001b[0;31mNameError\u001b[0m: name 'df' is not defined"
     ]
    }
   ],
   "source": [
    "vs_par = df.score - df.par"
   ]
  },
  {
   "cell_type": "code",
   "execution_count": null,
   "metadata": {
    "scrolled": true
   },
   "outputs": [],
   "source": [
    "df"
   ]
  },
  {
   "cell_type": "code",
   "execution_count": null,
   "metadata": {},
   "outputs": [],
   "source": [
    "df.transpose().style.apply(color_score, axis = 1, subset=[['par', 'score']])"
   ]
  },
  {
   "cell_type": "code",
   "execution_count": null,
   "metadata": {},
   "outputs": [],
   "source": [
    "df.transpose().loc[['par', 'score']]"
   ]
  },
  {
   "cell_type": "code",
   "execution_count": null,
   "metadata": {},
   "outputs": [],
   "source": [
    "df.transpose()"
   ]
  },
  {
   "cell_type": "code",
   "execution_count": 32,
   "metadata": {},
   "outputs": [],
   "source": [
    "# df.transpose().style.apply(color_score, axis = 1, subset=['score', 'par']).format('{:}', na_rep=\"-\")"
   ]
  },
  {
   "cell_type": "code",
   "execution_count": 33,
   "metadata": {
    "scrolled": true
   },
   "outputs": [
    {
     "ename": "NameError",
     "evalue": "name 'df' is not defined",
     "output_type": "error",
     "traceback": [
      "\u001b[0;31m---------------------------------------------------------------------------\u001b[0m",
      "\u001b[0;31mNameError\u001b[0m                                 Traceback (most recent call last)",
      "\u001b[0;32m<ipython-input-33-ec1326138de0>\u001b[0m in \u001b[0;36m<module>\u001b[0;34m\u001b[0m\n\u001b[0;32m----> 1\u001b[0;31m \u001b[0mdf\u001b[0m\u001b[0;34m.\u001b[0m\u001b[0mstyle\u001b[0m\u001b[0;34m.\u001b[0m\u001b[0mapply\u001b[0m\u001b[0;34m(\u001b[0m\u001b[0mcolor_score\u001b[0m\u001b[0;34m,\u001b[0m \u001b[0maxis\u001b[0m \u001b[0;34m=\u001b[0m \u001b[0;36m1\u001b[0m\u001b[0;34m,\u001b[0m \u001b[0msubset\u001b[0m\u001b[0;34m=\u001b[0m\u001b[0;34m[\u001b[0m\u001b[0;34m'score'\u001b[0m\u001b[0;34m,\u001b[0m \u001b[0;34m'par'\u001b[0m\u001b[0;34m]\u001b[0m\u001b[0;34m)\u001b[0m\u001b[0;34m.\u001b[0m\u001b[0mformat\u001b[0m\u001b[0;34m(\u001b[0m\u001b[0;34m'{:}'\u001b[0m\u001b[0;34m,\u001b[0m \u001b[0mna_rep\u001b[0m\u001b[0;34m=\u001b[0m\u001b[0;34m\"-\"\u001b[0m\u001b[0;34m)\u001b[0m\u001b[0;34m\u001b[0m\u001b[0;34m\u001b[0m\u001b[0m\n\u001b[0m",
      "\u001b[0;31mNameError\u001b[0m: name 'df' is not defined"
     ]
    }
   ],
   "source": [
    "df.style.apply(color_score, axis = 1, subset=['score', 'par']).format('{:}', na_rep=\"-\")"
   ]
  },
  {
   "cell_type": "code",
   "execution_count": null,
   "metadata": {},
   "outputs": [],
   "source": [
    "def color_score(val):\n",
    "    \"\"\"\n",
    "    Takes a scalar and returns a string with\n",
    "    the css property `'color: red'` for negative\n",
    "    strings, black otherwise.\n",
    "    \"\"\"\n",
    "    if val.score-val.par < 0:\n",
    "        color = 'skyblue'\n",
    "    elif val.score-val.par == 0:\n",
    "        color = 'palegreen'\n",
    "    elif val.score-val.par == 1:\n",
    "        color = 'cornsilk'\n",
    "    else :\n",
    "        color = 'lightsalmon'\n",
    "    return ('background-color: %s' % color, 'red') "
   ]
  },
  {
   "cell_type": "code",
   "execution_count": null,
   "metadata": {},
   "outputs": [],
   "source": [
    "number = pd.Series()\n",
    "number = number.append(pd.Series(2))\n",
    "number.index+=1"
   ]
  },
  {
   "cell_type": "code",
   "execution_count": null,
   "metadata": {},
   "outputs": [],
   "source": [
    "number"
   ]
  },
  {
   "cell_type": "code",
   "execution_count": null,
   "metadata": {},
   "outputs": [],
   "source": [
    "df.par[1]"
   ]
  },
  {
   "cell_type": "code",
   "execution_count": null,
   "metadata": {},
   "outputs": [],
   "source": [
    "df[['par', 'score']].groupby('par').mean().plot.bar()"
   ]
  },
  {
   "cell_type": "code",
   "execution_count": null,
   "metadata": {},
   "outputs": [],
   "source": [
    "vs_par.fillna('X')"
   ]
  },
  {
   "cell_type": "code",
   "execution_count": null,
   "metadata": {},
   "outputs": [],
   "source": [
    "vs_par.fillna(10).value_counts().sort_index().plot.bar()"
   ]
  },
  {
   "cell_type": "code",
   "execution_count": null,
   "metadata": {},
   "outputs": [],
   "source": [
    "df.putts"
   ]
  },
  {
   "cell_type": "code",
   "execution_count": null,
   "metadata": {},
   "outputs": [],
   "source": [
    "vs_par"
   ]
  },
  {
   "cell_type": "code",
   "execution_count": null,
   "metadata": {},
   "outputs": [],
   "source": [
    "vs_par"
   ]
  },
  {
   "cell_type": "code",
   "execution_count": null,
   "metadata": {},
   "outputs": [],
   "source": [
    "df_scorecard = df"
   ]
  },
  {
   "cell_type": "code",
   "execution_count": null,
   "metadata": {},
   "outputs": [],
   "source": [
    "color = []\n",
    "for score in vs_par:\n",
    "    if score < 0:\n",
    "        c = \"blue\"\n",
    "    elif score == 0:\n",
    "        c = \"green\"\n",
    "    elif score == 1:\n",
    "        c = \"yellow\"\n",
    "    else:\n",
    "        c = \"orange\"\n",
    "    color.append(c)"
   ]
  },
  {
   "cell_type": "code",
   "execution_count": null,
   "metadata": {},
   "outputs": [],
   "source": [
    "def set_color(score):\n",
    "    if score < 0:\n",
    "        color = \"blue\"\n",
    "    elif score == 0:\n",
    "        color = \"green\"\n",
    "    elif score == 1:\n",
    "        color = \"yellow\"\n",
    "    else:\n",
    "        color = \"orange\"\n",
    "    return color"
   ]
  },
  {
   "cell_type": "code",
   "execution_count": null,
   "metadata": {},
   "outputs": [],
   "source": [
    "i = 5"
   ]
  },
  {
   "cell_type": "code",
   "execution_count": null,
   "metadata": {},
   "outputs": [],
   "source": [
    "t = f\"<div><span class=\"+\"'highlight \"+set_color(df_scorecard.score[i])+\"'>{df_scorecard.fillna('X').score[i]}</span></div>\""
   ]
  },
  {
   "cell_type": "code",
   "execution_count": null,
   "metadata": {},
   "outputs": [],
   "source": [
    "t = f\"<div><span class=\"\n",
    "type(t)"
   ]
  },
  {
   "cell_type": "code",
   "execution_count": null,
   "metadata": {},
   "outputs": [],
   "source": [
    "bogey_1_putt = [1 if (p == 1 and g == 0) else 0 for (p, g) in zip(df_scorecard.putts, gir)]"
   ]
  },
  {
   "cell_type": "code",
   "execution_count": null,
   "metadata": {},
   "outputs": [],
   "source": [
    "sum(bogey_1_putt)"
   ]
  },
  {
   "cell_type": "code",
   "execution_count": null,
   "metadata": {},
   "outputs": [],
   "source": [
    "18-sum(gir)"
   ]
  },
  {
   "cell_type": "code",
   "execution_count": null,
   "metadata": {},
   "outputs": [],
   "source": [
    "1/9*100"
   ]
  },
  {
   "cell_type": "code",
   "execution_count": null,
   "metadata": {
    "scrolled": false
   },
   "outputs": [],
   "source": [
    "print(bogey_1_putt)\n",
    "print(gir)\n",
    "print(df_scorecard.putts)"
   ]
  },
  {
   "cell_type": "code",
   "execution_count": null,
   "metadata": {},
   "outputs": [],
   "source": [
    "import altair as alt"
   ]
  },
  {
   "cell_type": "code",
   "execution_count": null,
   "metadata": {},
   "outputs": [],
   "source": [
    "test = pd.DataFrame(cumscore).reset_index()\n",
    "test.columns = ['hole', 'cumscore']"
   ]
  },
  {
   "cell_type": "code",
   "execution_count": null,
   "metadata": {},
   "outputs": [],
   "source": [
    "alt.Chart(test).mark_area(line={'color':'darkgreen'},\n",
    "    color=alt.Gradient(\n",
    "        gradient='linear',\n",
    "        stops=[alt.GradientStop(color='white', offset=0),\n",
    "               alt.GradientStop(color='darkgreen', offset=1)],\n",
    "        x1=1,\n",
    "        x2=1,\n",
    "        y1=1,\n",
    "        y2=0)).encode(\n",
    "    x=\"hole:Q\",\n",
    "    y=\"cumscore:Q\"\n",
    ")"
   ]
  },
  {
   "cell_type": "code",
   "execution_count": null,
   "metadata": {},
   "outputs": [],
   "source": [
    "df_repartition = pd.DataFrame(vs_par.fillna(10).value_counts().sort_index().reset_index())\n",
    "df_repartition.columns = ['score', ' ']\n",
    "df_repartition['colors'] = [set_color(s) for s in df_repartition.score]\n",
    "df_repartition"
   ]
  },
  {
   "cell_type": "code",
   "execution_count": null,
   "metadata": {},
   "outputs": [],
   "source": [
    "def set_score_color(score):\n",
    "    if score < 0:\n",
    "        color = \"lightskyblue\"\n",
    "    elif score == 0:\n",
    "        color = \"palegreen\"\n",
    "    elif score == 1:\n",
    "        color = \"cornsilk\"\n",
    "    else:\n",
    "        color = \"pink\"\n",
    "    return color"
   ]
  },
  {
   "cell_type": "code",
   "execution_count": null,
   "metadata": {},
   "outputs": [],
   "source": [
    "df_repartition = pd.DataFrame(vs_par.fillna(10).value_counts().sort_index().reset_index())\n",
    "df_repartition.columns = ['score', ' ']\n",
    "df_repartition['colors'] = [set_score_color(s) for s in df_repartition.score]\n",
    "c = alt.Chart(df_repartition).mark_bar().encode(\n",
    "    x='score:O',\n",
    "    y=\" :Q\",\n",
    "    # The highlight will be set on the result of a conditional statement\n",
    "    color=alt.Color('colors:N', scale=None),\n",
    "    tooltip=['score', ' ']\n",
    ").properties(width=400)"
   ]
  },
  {
   "cell_type": "code",
   "execution_count": null,
   "metadata": {},
   "outputs": [],
   "source": [
    "c"
   ]
  },
  {
   "cell_type": "code",
   "execution_count": null,
   "metadata": {},
   "outputs": [],
   "source": [
    "df_repartition"
   ]
  },
  {
   "cell_type": "code",
   "execution_count": null,
   "metadata": {},
   "outputs": [],
   "source": [
    "[round(x,0) for x in df_averages['vs_par']]"
   ]
  },
  {
   "cell_type": "code",
   "execution_count": null,
   "metadata": {},
   "outputs": [],
   "source": [
    "df_averages = df_scorecard[['par', 'score']].groupby('par').mean().reset_index()\n",
    "df_averages['vs_par'] = df_averages.score - df_averages.par\n",
    "df_averages['color'] = [set_score_color(int(round(x))) for x in df_averages['vs_par']]\n",
    "df_averages"
   ]
  },
  {
   "cell_type": "code",
   "execution_count": null,
   "metadata": {},
   "outputs": [],
   "source": [
    "bar = alt.Chart(df_averages).mark_bar().encode(\n",
    "    x='par:N',\n",
    "    y='score:Q',\n",
    "    color=alt.Color('color:N', scale=None)\n",
    ")\n",
    "\n",
    "bar"
   ]
  },
  {
   "cell_type": "code",
   "execution_count": null,
   "metadata": {},
   "outputs": [],
   "source": [
    "tick = alt.Chart(df_averages).mark_tick(\n",
    "    color='black',\n",
    "    thickness=3, # controls width of tick.\n",
    ").encode(\n",
    "    x='par:N',\n",
    "    y='par:Q'\n",
    ")\n",
    "\n",
    "bar+tick"
   ]
  },
  {
   "cell_type": "code",
   "execution_count": 37,
   "metadata": {},
   "outputs": [
    {
     "name": "stderr",
     "output_type": "stream",
     "text": [
      "2021-06-09 21:27:49.669 WARNING root: \n",
      "  \u001b[33m\u001b[1mWarning:\u001b[0m to view this Streamlit app on a browser, run it with the following\n",
      "  command:\n",
      "\n",
      "    streamlit run /Users/tomalran/opt/anaconda3/lib/python3.8/site-packages/ipykernel_launcher.py [ARGUMENTS]\n",
      "2021-06-09 21:27:49.714 INFO    numexpr.utils: NumExpr defaulting to 4 threads.\n"
     ]
    }
   ],
   "source": [
    "# -*- coding: utf-8 -*-\n",
    "\n",
    "import streamlit as st\n",
    "import pandas as pd\n",
    "import numpy as np\n",
    "import altair as alt\n",
    "from sqlalchemy import create_engine, func\n",
    "from sqlalchemy.orm import sessionmaker\n",
    "from annotated_text import annotated_text\n",
    "from DataModel import Courses, Holes, Scorecard\n",
    "from load_css import local_css\n",
    "\n",
    "local_css(\"style.css\")\n",
    " \n",
    "st.markdown(\n",
    "        f\"\"\"\n",
    "<style>\n",
    "    .reportview-container .main .block-container{{\n",
    "        max-width: 900px;\n",
    "        padding-top: 2rem;\n",
    "        padding-right: 2rem;\n",
    "        padding-left: 2rem;\n",
    "        padding-bottom: 2rem;\n",
    "    }}\n",
    "</style>\n",
    "\"\"\",\n",
    "        unsafe_allow_html=True,\n",
    "    )\n",
    "\n",
    "## Session for querying database\n",
    "engine = create_engine(f\"sqlite:///GST.db\")\n",
    "Session = sessionmaker()\n",
    "Session.configure(bind=engine)\n",
    "session = Session()\n",
    "\n",
    "## Dashboarding elements\n",
    "st.title(\"\"\"Golf Score Tracking\"\"\")\n",
    "\n",
    "# Get rounds list\n",
    "rounds = (\n",
    "    session.query(\n",
    "        Courses.name,\n",
    "        Courses.course_id,\n",
    "        Scorecard.date\n",
    "    )\n",
    "    .select_from(Courses)\n",
    "    .join(Holes)\n",
    "    .join(Scorecard)\n",
    "    .group_by(Courses.name)\n",
    "    .all()\n",
    ")\n",
    "\n",
    "rounds_list = []\n",
    "rounds_mapping = []\n",
    "for round_ in rounds:\n",
    "    round_pretty = f\"{round_.name} / {round_.date.strftime('%d %b %Y')}\"\n",
    "    rounds_list.append(round_pretty)\n",
    "    course_id = f\"{round_.course_id}{round_.date.strftime('%d%m%y')}\"\n",
    "    rounds_mapping.append({\"round_id\": course_id, \"round_pretty\": round_pretty})\n",
    "\n",
    "\n",
    "# Display games list\n",
    "selected_round = st.sidebar.selectbox(\"select round\", rounds_list)\n",
    "selected_round_id = next(item for item in rounds_mapping if item[\"round_pretty\"] == selected_round)[\"round_id\"]\n",
    "\n",
    "st.subheader(selected_round)\n",
    "\n",
    "### Get Scorecard data\n",
    "scorecard = (\n",
    "    session.query(\n",
    "        Holes.number,\n",
    "        Holes.par,\n",
    "        Holes.hcp,\n",
    "        Holes.distance,\n",
    "        Scorecard.score,\n",
    "        Scorecard.fairway,\n",
    "        Scorecard.putts,\n",
    "    )\n",
    "    .select_from(Scorecard)\n",
    "    .join(Holes)\n",
    "    .filter(Scorecard.scorecard_id == selected_round_id)\n",
    "    .all()\n",
    ")\n",
    "df_scorecard = pd.DataFrame(scorecard).set_index(\"number\").sort_index()\n",
    "vs_par = df_scorecard.score - df_scorecard.par\n",
    "gir = df_scorecard.score - df_scorecard.par - df_scorecard.putts\n",
    "gir = [1 if g == -2 else 0 for g in gir]\n",
    "fairway_count = [1 if f == 'F' else 0 for f in df_scorecard.fairway]\n",
    "not_par3_count = [1 if p != 3 else 0 for p in df_scorecard.par]\n",
    "brut = -vs_par+2\n",
    "bogey_1_putt = [1 if (p == 1 and g == 0) else 0 for (p, g) in zip(df_scorecard.putts, gir)]\n",
    "\n",
    "def set_score_color(score):\n",
    "    if score < 0:\n",
    "        color = \"lightskyblue\"\n",
    "    elif score == 0:\n",
    "        color = \"palegreen\"\n",
    "    elif score == 1:\n",
    "        color = \"cornsilk\"\n",
    "    else:\n",
    "        color = \"pink\"\n",
    "    return color\n",
    "    \n",
    "def set_putts_color(putts):\n",
    "    if putts > 2:\n",
    "        color = \" class='bold indianred'\"\n",
    "    else :\n",
    "        color = \"\"\n",
    "    return color\n",
    "    \n",
    "def set_fairways_color(putts):\n",
    "    if putts == 'F':\n",
    "        color = \" class='bold seagreen'\"\n",
    "    else :\n",
    "        color = \"\"\n",
    "    return color\n",
    "\n",
    "## SCORE\n",
    "col1, col2 = st.beta_columns(2)\n",
    "col1.header(f'{int(df_scorecard.par.sum() + vs_par.fillna(value=3).sum())}  (+{int(vs_par.fillna(value=3).sum())})')\n",
    "col1.write(\"Stroke\")\n",
    "col2.header(f'{int(sum(brut[brut>0]))} (+{36-int(sum(brut[brut>0]))})')\n",
    "col2.write(\"Brut\")\n",
    "\n",
    "\n",
    "## SCORECARD\n",
    "st.header(\"Scorecard\")\n",
    "cols = st.beta_columns(7)\n",
    "cols[0].subheader(\"Hole\")\n",
    "cols[1].subheader(\"Par\")\n",
    "cols[2].subheader(\"Hcp\")\n",
    "cols[3].subheader(\"Dist\")\n",
    "cols[4].subheader(\"Score\")\n",
    "cols[5].subheader(\"Fairway\")\n",
    "cols[6].subheader(\"Putts\")\n",
    "for i in range(1, 19):\n",
    "    cols[0].markdown(f\"<div><span>{i}</span></div>\", unsafe_allow_html=True)\n",
    "    cols[1].markdown(f\"<div><span>{df_scorecard.par[i]}</span></div>\", unsafe_allow_html=True)\n",
    "    cols[2].markdown(f\"<div><span>{df_scorecard.hcp[i]}</span></div>\", unsafe_allow_html=True)\n",
    "    cols[3].markdown(f\"<div><span>{df_scorecard.distance[i]}</span></div>\", unsafe_allow_html=True)\n",
    "    score_color = set_score_color(vs_par[i])\n",
    "    cols[4].markdown(f\"<div><span class='highlight {score_color}'>{df_scorecard.fillna('X').score[i]}</span></div>\", unsafe_allow_html=True)\n",
    "    fairways_color = set_fairways_color(df_scorecard.fairway[i])\n",
    "    cols[5].markdown(f\"<div><span{fairways_color}>{df_scorecard.fillna('-').fairway[i]}</span></div>\", unsafe_allow_html=True)\n",
    "    putts_color = set_putts_color(df_scorecard.putts[i])\n",
    "    cols[6].markdown(f\"<div><span{putts_color}>{df_scorecard.fillna('-').putts[i]}</span></div>\", unsafe_allow_html=True)\n",
    "\n",
    "\n",
    "## SCORE EVOLUTION\n",
    "st.subheader(\"Score evolution\")\n",
    "cumscore = vs_par.fillna(value=3).cumsum()\n",
    "df_cumscore = pd.DataFrame(cumscore).reset_index()\n",
    "df_cumscore.columns = ['thru', 'score']\n",
    "\n",
    "c = alt.Chart(df_cumscore).mark_area(line={'color':'khaki'},\n",
    "    color=alt.Gradient(\n",
    "        gradient='linear',\n",
    "        stops=[alt.GradientStop(color='dimgray', offset=0),\n",
    "               alt.GradientStop(color='lemonchiffon', offset=1)],\n",
    "        x1=1,\n",
    "        x2=1,\n",
    "        y1=1,\n",
    "        y2=0)).encode(\n",
    "    x=\"thru:Q\",\n",
    "    y=\"score:Q\",\n",
    "    tooltip=['score', 'thru']\n",
    ").properties(width=750, height=350)\n",
    "st.write(c)\n",
    "\n",
    "col1, col2 = st.beta_columns(2)\n",
    "\n",
    "## SCORE REPARTITION\n",
    "col1.subheader(\"Score repartition\")\n",
    "df_repartition = pd.DataFrame(vs_par.fillna(10).value_counts().sort_index().reset_index())\n",
    "df_repartition.columns = ['score', ' ']\n",
    "df_repartition['colors'] = [set_score_color(s) for s in df_repartition.score]\n",
    "c = alt.Chart(df_repartition).mark_bar().encode(\n",
    "    x='score:O',\n",
    "    y=\" :Q\",\n",
    "    # The highlight will be set on the result of a conditional statement\n",
    "    color=alt.Color('colors:N', scale=None),\n",
    "    tooltip=['score', ' ']\n",
    ").properties(width=350)\n",
    "\n",
    "col1.write(c)\n",
    "\n",
    "\n",
    "## AVERAGE SCORES\n",
    "col2.subheader(\"Average scores\")\n",
    "df_averages = df_scorecard[['par', 'score']].groupby('par').mean().reset_index()\n",
    "df_averages.columns = ['par', 'avg_score']\n",
    "df_averages['vs_par'] = df_averages.avg_score - df_averages.par\n",
    "df_averages['color'] = [set_score_color(int(round(x))) for x in df_averages['vs_par']]\n",
    "\n",
    "bar = alt.Chart(df_averages).mark_bar().encode(\n",
    "    x='par:N',\n",
    "    y='avg_score:Q',\n",
    "    color=alt.Color('color:N', scale=None),\n",
    "    tooltip = ['par', 'avg_score']\n",
    ").properties(width=350)\n",
    "\n",
    "tick = alt.Chart(df_averages).mark_tick(\n",
    "    color='firebrick',\n",
    "    thickness=3,\n",
    "    size=50 # controls width of tick.\n",
    ").encode(\n",
    "    x='par:N',\n",
    "    y='par:Q'\n",
    ").properties(width=350)\n",
    "\n",
    "col2.write(bar+tick)\n",
    "\n",
    "\n",
    "## OFF THE TEE\n",
    "st.header(\"Off the tee\")\n",
    "col1, col2 = st.beta_columns(2)\n",
    "col1.header(f'{int(sum(fairway_count)/sum(not_par3_count)*100)}%')\n",
    "col1.write(\"% Fairways\")\n",
    "\n",
    "\n",
    "\n",
    "\n",
    "st.header(\"Around the green\")\n",
    "col1, col2, col3 = st.beta_columns(3)\n",
    "col1.header(f'{int(sum(gir)/18*100)}%')\n",
    "col1.write(\"% GIR\")\n",
    "col2.header(f'{int(df_scorecard.putts.sum())}')\n",
    "col2.write(\"Nb Putts\")\n",
    "col3.header(f'{int(sum(bogey_1_putt)/(18-sum(gir))*100)}%')\n",
    "col3.write(\"% Scrambling\")\n"
   ]
  },
  {
   "cell_type": "code",
   "execution_count": 98,
   "metadata": {},
   "outputs": [],
   "source": [
    "def set_sort_drive(d):\n",
    "    if d == \"L\":\n",
    "        s=0\n",
    "    elif d == \"F\":\n",
    "        s=1\n",
    "    elif d == \"R\":\n",
    "        s=2\n",
    "    return s"
   ]
  },
  {
   "cell_type": "code",
   "execution_count": 115,
   "metadata": {},
   "outputs": [],
   "source": [
    "df_drives = pd.DataFrame(df_scorecard.fairway.dropna().value_counts()).reset_index()\n",
    "df['  '] = 1\n",
    "df_drives.columns = ['drive', ' ']"
   ]
  },
  {
   "cell_type": "code",
   "execution_count": 125,
   "metadata": {},
   "outputs": [
    {
     "data": {
      "text/html": [
       "\n",
       "<div id=\"altair-viz-ff4a8a68d57843a3b491c3b076fdb46c\"></div>\n",
       "<script type=\"text/javascript\">\n",
       "  (function(spec, embedOpt){\n",
       "    let outputDiv = document.currentScript.previousElementSibling;\n",
       "    if (outputDiv.id !== \"altair-viz-ff4a8a68d57843a3b491c3b076fdb46c\") {\n",
       "      outputDiv = document.getElementById(\"altair-viz-ff4a8a68d57843a3b491c3b076fdb46c\");\n",
       "    }\n",
       "    const paths = {\n",
       "      \"vega\": \"https://cdn.jsdelivr.net/npm//vega@5?noext\",\n",
       "      \"vega-lib\": \"https://cdn.jsdelivr.net/npm//vega-lib?noext\",\n",
       "      \"vega-lite\": \"https://cdn.jsdelivr.net/npm//vega-lite@4.8.1?noext\",\n",
       "      \"vega-embed\": \"https://cdn.jsdelivr.net/npm//vega-embed@6?noext\",\n",
       "    };\n",
       "\n",
       "    function loadScript(lib) {\n",
       "      return new Promise(function(resolve, reject) {\n",
       "        var s = document.createElement('script');\n",
       "        s.src = paths[lib];\n",
       "        s.async = true;\n",
       "        s.onload = () => resolve(paths[lib]);\n",
       "        s.onerror = () => reject(`Error loading script: ${paths[lib]}`);\n",
       "        document.getElementsByTagName(\"head\")[0].appendChild(s);\n",
       "      });\n",
       "    }\n",
       "\n",
       "    function showError(err) {\n",
       "      outputDiv.innerHTML = `<div class=\"error\" style=\"color:red;\">${err}</div>`;\n",
       "      throw err;\n",
       "    }\n",
       "\n",
       "    function displayChart(vegaEmbed) {\n",
       "      vegaEmbed(outputDiv, spec, embedOpt)\n",
       "        .catch(err => showError(`Javascript Error: ${err.message}<br>This usually means there's a typo in your chart specification. See the javascript console for the full traceback.`));\n",
       "    }\n",
       "\n",
       "    if(typeof define === \"function\" && define.amd) {\n",
       "      requirejs.config({paths});\n",
       "      require([\"vega-embed\"], displayChart, err => showError(`Error loading script: ${err.message}`));\n",
       "    } else if (typeof vegaEmbed === \"function\") {\n",
       "      displayChart(vegaEmbed);\n",
       "    } else {\n",
       "      loadScript(\"vega\")\n",
       "        .then(() => loadScript(\"vega-lite\"))\n",
       "        .then(() => loadScript(\"vega-embed\"))\n",
       "        .catch(showError)\n",
       "        .then(() => displayChart(vegaEmbed));\n",
       "    }\n",
       "  })({\"config\": {\"view\": {\"continuousWidth\": 400, \"continuousHeight\": 300}}, \"data\": {\"name\": \"data-b274e23fc9591d2b980a553c544313f8\"}, \"mark\": \"bar\", \"encoding\": {\"color\": {\"condition\": {\"value\": \"palegreen\", \"test\": \"(datum.drive === 'F')\"}, \"value\": \"pink\"}, \"x\": {\"type\": \"quantitative\", \"axis\": {\"labels\": false}, \"field\": \" \", \"sort\": [\"L\", \"F\", \"R\"], \"stack\": \"normalize\"}, \"y\": {\"type\": \"nominal\", \"axis\": {\"labels\": false}, \"field\": \"  \"}}, \"$schema\": \"https://vega.github.io/schema/vega-lite/v4.8.1.json\", \"datasets\": {\"data-b274e23fc9591d2b980a553c544313f8\": [{\"drive\": \"F\", \" \": 7}, {\"drive\": \"R\", \" \": 6}]}}, {\"mode\": \"vega-lite\"});\n",
       "</script>"
      ],
      "text/plain": [
       "alt.Chart(...)"
      ]
     },
     "execution_count": 125,
     "metadata": {},
     "output_type": "execute_result"
    }
   ],
   "source": [
    "alt.Chart(df_drives).mark_bar().encode(\n",
    "    x=alt.X(' ', stack=\"normalize\", sort=['L', 'F', 'R'], axis=alt.Axis(labels=False)),\n",
    "    y=alt.Y('  :N', axis=alt.Axis(labels=False)),\n",
    "    color = alt.condition(\n",
    "        alt.datum.drive == 'F',\n",
    "        alt.value('palegreen'), \n",
    "        alt.value('pink')\n",
    "    )\n",
    ")"
   ]
  },
  {
   "cell_type": "code",
   "execution_count": 111,
   "metadata": {
    "scrolled": true
   },
   "outputs": [
    {
     "data": {
      "text/html": [
       "\n",
       "<div id=\"altair-viz-7bff46549df848d296b2471706c9c351\"></div>\n",
       "<script type=\"text/javascript\">\n",
       "  (function(spec, embedOpt){\n",
       "    let outputDiv = document.currentScript.previousElementSibling;\n",
       "    if (outputDiv.id !== \"altair-viz-7bff46549df848d296b2471706c9c351\") {\n",
       "      outputDiv = document.getElementById(\"altair-viz-7bff46549df848d296b2471706c9c351\");\n",
       "    }\n",
       "    const paths = {\n",
       "      \"vega\": \"https://cdn.jsdelivr.net/npm//vega@5?noext\",\n",
       "      \"vega-lib\": \"https://cdn.jsdelivr.net/npm//vega-lib?noext\",\n",
       "      \"vega-lite\": \"https://cdn.jsdelivr.net/npm//vega-lite@4.8.1?noext\",\n",
       "      \"vega-embed\": \"https://cdn.jsdelivr.net/npm//vega-embed@6?noext\",\n",
       "    };\n",
       "\n",
       "    function loadScript(lib) {\n",
       "      return new Promise(function(resolve, reject) {\n",
       "        var s = document.createElement('script');\n",
       "        s.src = paths[lib];\n",
       "        s.async = true;\n",
       "        s.onload = () => resolve(paths[lib]);\n",
       "        s.onerror = () => reject(`Error loading script: ${paths[lib]}`);\n",
       "        document.getElementsByTagName(\"head\")[0].appendChild(s);\n",
       "      });\n",
       "    }\n",
       "\n",
       "    function showError(err) {\n",
       "      outputDiv.innerHTML = `<div class=\"error\" style=\"color:red;\">${err}</div>`;\n",
       "      throw err;\n",
       "    }\n",
       "\n",
       "    function displayChart(vegaEmbed) {\n",
       "      vegaEmbed(outputDiv, spec, embedOpt)\n",
       "        .catch(err => showError(`Javascript Error: ${err.message}<br>This usually means there's a typo in your chart specification. See the javascript console for the full traceback.`));\n",
       "    }\n",
       "\n",
       "    if(typeof define === \"function\" && define.amd) {\n",
       "      requirejs.config({paths});\n",
       "      require([\"vega-embed\"], displayChart, err => showError(`Error loading script: ${err.message}`));\n",
       "    } else if (typeof vegaEmbed === \"function\") {\n",
       "      displayChart(vegaEmbed);\n",
       "    } else {\n",
       "      loadScript(\"vega\")\n",
       "        .then(() => loadScript(\"vega-lite\"))\n",
       "        .then(() => loadScript(\"vega-embed\"))\n",
       "        .catch(showError)\n",
       "        .then(() => displayChart(vegaEmbed));\n",
       "    }\n",
       "  })({\"config\": {\"view\": {\"continuousWidth\": 400, \"continuousHeight\": 300}}, \"data\": {\"name\": \"data-b274e23fc9591d2b980a553c544313f8\"}, \"mark\": \"bar\", \"encoding\": {\"color\": {\"condition\": {\"value\": \"palegreen\", \"test\": \"(datum.drive === 'F')\"}, \"value\": \"pink\"}, \"x\": {\"type\": \"nominal\", \"field\": \"drive\", \"sort\": [\"L\", \"F\", \"R\"]}, \"y\": {\"type\": \"quantitative\", \"field\": \" \"}}, \"width\": 350, \"$schema\": \"https://vega.github.io/schema/vega-lite/v4.8.1.json\", \"datasets\": {\"data-b274e23fc9591d2b980a553c544313f8\": [{\"drive\": \"F\", \" \": 7}, {\"drive\": \"R\", \" \": 6}]}}, {\"mode\": \"vega-lite\"});\n",
       "</script>"
      ],
      "text/plain": [
       "alt.Chart(...)"
      ]
     },
     "execution_count": 111,
     "metadata": {},
     "output_type": "execute_result"
    }
   ],
   "source": [
    "bar = alt.Chart(df_drives).mark_bar().encode(\n",
    "    x=alt.X('drive:N', sort=['L', 'F', 'R']),\n",
    "    y=' ',\n",
    "    color = alt.condition(\n",
    "        alt.datum.drive == 'F',\n",
    "        alt.value('palegreen'), \n",
    "        alt.value('pink')\n",
    "    )\n",
    ").properties(width=350)\n",
    "\n",
    "bar"
   ]
  },
  {
   "cell_type": "code",
   "execution_count": 132,
   "metadata": {},
   "outputs": [
    {
     "data": {
      "text/html": [
       "<div>\n",
       "<style scoped>\n",
       "    .dataframe tbody tr th:only-of-type {\n",
       "        vertical-align: middle;\n",
       "    }\n",
       "\n",
       "    .dataframe tbody tr th {\n",
       "        vertical-align: top;\n",
       "    }\n",
       "\n",
       "    .dataframe thead th {\n",
       "        text-align: right;\n",
       "    }\n",
       "</style>\n",
       "<table border=\"1\" class=\"dataframe\">\n",
       "  <thead>\n",
       "    <tr style=\"text-align: right;\">\n",
       "      <th></th>\n",
       "      <th>index</th>\n",
       "      <th>putts</th>\n",
       "    </tr>\n",
       "  </thead>\n",
       "  <tbody>\n",
       "    <tr>\n",
       "      <th>2</th>\n",
       "      <td>1.0</td>\n",
       "      <td>1</td>\n",
       "    </tr>\n",
       "    <tr>\n",
       "      <th>0</th>\n",
       "      <td>2.0</td>\n",
       "      <td>12</td>\n",
       "    </tr>\n",
       "    <tr>\n",
       "      <th>1</th>\n",
       "      <td>3.0</td>\n",
       "      <td>3</td>\n",
       "    </tr>\n",
       "  </tbody>\n",
       "</table>\n",
       "</div>"
      ],
      "text/plain": [
       "   index  putts\n",
       "2    1.0      1\n",
       "0    2.0     12\n",
       "1    3.0      3"
      ]
     },
     "execution_count": 132,
     "metadata": {},
     "output_type": "execute_result"
    }
   ],
   "source": [
    "df_putts = pd.DataFrame(df_scorecard.putts.value_counts()).reset_index()\n",
    "df_putts.sort_values('index')"
   ]
  },
  {
   "cell_type": "code",
   "execution_count": 137,
   "metadata": {},
   "outputs": [
    {
     "data": {
      "text/html": [
       "\n",
       "<div id=\"altair-viz-65329c387ad54ee79241ddd801452c4d\"></div>\n",
       "<script type=\"text/javascript\">\n",
       "  (function(spec, embedOpt){\n",
       "    let outputDiv = document.currentScript.previousElementSibling;\n",
       "    if (outputDiv.id !== \"altair-viz-65329c387ad54ee79241ddd801452c4d\") {\n",
       "      outputDiv = document.getElementById(\"altair-viz-65329c387ad54ee79241ddd801452c4d\");\n",
       "    }\n",
       "    const paths = {\n",
       "      \"vega\": \"https://cdn.jsdelivr.net/npm//vega@5?noext\",\n",
       "      \"vega-lib\": \"https://cdn.jsdelivr.net/npm//vega-lib?noext\",\n",
       "      \"vega-lite\": \"https://cdn.jsdelivr.net/npm//vega-lite@4.8.1?noext\",\n",
       "      \"vega-embed\": \"https://cdn.jsdelivr.net/npm//vega-embed@6?noext\",\n",
       "    };\n",
       "\n",
       "    function loadScript(lib) {\n",
       "      return new Promise(function(resolve, reject) {\n",
       "        var s = document.createElement('script');\n",
       "        s.src = paths[lib];\n",
       "        s.async = true;\n",
       "        s.onload = () => resolve(paths[lib]);\n",
       "        s.onerror = () => reject(`Error loading script: ${paths[lib]}`);\n",
       "        document.getElementsByTagName(\"head\")[0].appendChild(s);\n",
       "      });\n",
       "    }\n",
       "\n",
       "    function showError(err) {\n",
       "      outputDiv.innerHTML = `<div class=\"error\" style=\"color:red;\">${err}</div>`;\n",
       "      throw err;\n",
       "    }\n",
       "\n",
       "    function displayChart(vegaEmbed) {\n",
       "      vegaEmbed(outputDiv, spec, embedOpt)\n",
       "        .catch(err => showError(`Javascript Error: ${err.message}<br>This usually means there's a typo in your chart specification. See the javascript console for the full traceback.`));\n",
       "    }\n",
       "\n",
       "    if(typeof define === \"function\" && define.amd) {\n",
       "      requirejs.config({paths});\n",
       "      require([\"vega-embed\"], displayChart, err => showError(`Error loading script: ${err.message}`));\n",
       "    } else if (typeof vegaEmbed === \"function\") {\n",
       "      displayChart(vegaEmbed);\n",
       "    } else {\n",
       "      loadScript(\"vega\")\n",
       "        .then(() => loadScript(\"vega-lite\"))\n",
       "        .then(() => loadScript(\"vega-embed\"))\n",
       "        .catch(showError)\n",
       "        .then(() => displayChart(vegaEmbed));\n",
       "    }\n",
       "  })({\"config\": {\"view\": {\"continuousWidth\": 400, \"continuousHeight\": 300}}, \"data\": {\"name\": \"data-c1a0a1fb4c5965eb61847308a9aa1cfb\"}, \"mark\": \"bar\", \"encoding\": {\"color\": {\"condition\": {\"value\": \"palegreen\", \"test\": \"(datum.drive === 'F')\"}, \"value\": \"pink\"}, \"x\": {\"type\": \"quantitative\", \"field\": \"putts\"}, \"y\": {\"type\": \"nominal\", \"field\": \"index\"}}, \"height\": 150, \"width\": 200, \"$schema\": \"https://vega.github.io/schema/vega-lite/v4.8.1.json\", \"datasets\": {\"data-c1a0a1fb4c5965eb61847308a9aa1cfb\": [{\"index\": 2.0, \"putts\": 12}, {\"index\": 3.0, \"putts\": 3}, {\"index\": 1.0, \"putts\": 1}]}}, {\"mode\": \"vega-lite\"});\n",
       "</script>"
      ],
      "text/plain": [
       "alt.Chart(...)"
      ]
     },
     "execution_count": 137,
     "metadata": {},
     "output_type": "execute_result"
    }
   ],
   "source": [
    "c = alt.Chart(df_putts).mark_bar().encode(\n",
    "    x='putts:Q',\n",
    "    y='index:N',\n",
    "    color = alt.condition(\n",
    "        alt.datum.drive == 'F',\n",
    "        alt.value('palegreen'),\n",
    "        alt.value('pink')\n",
    "    )\n",
    ").properties(width=200, height=150)\n",
    "\n",
    "c"
   ]
  },
  {
   "cell_type": "markdown",
   "metadata": {},
   "source": [
    "## Scrap Course + Holes Info"
   ]
  },
  {
   "cell_type": "code",
   "execution_count": 14,
   "metadata": {},
   "outputs": [],
   "source": [
    "urlpage = 'https://espacelicencie.ffgolf.org/parcours/fiche?glfcod=1243&tercod=01&k=4db50a78f7091f0abe323fa8300d07a4'\n",
    "page = urllib.request.urlopen(urlpage)\n",
    "soup = BeautifulSoup(page, 'html.parser')"
   ]
  },
  {
   "cell_type": "code",
   "execution_count": 15,
   "metadata": {},
   "outputs": [
    {
     "data": {
      "text/plain": [
       "<!DOCTYPE html>\n",
       "\n",
       "<html lang=\"fr\">\n",
       "<head>\n",
       "<title>Fiche parcours</title>\n",
       "<meta content=\"text/html; charset=utf-8\" http-equiv=\"Content-Type\"/>\n",
       "<meta content=\"width=device-width\" name=\"viewport\"/>\n",
       "<link href=\"https://fonts.googleapis.com/css?family=Libre+Baskerville:400,400i,700|Montserrat:400,400i,600,600i,700\" rel=\"stylesheet\"/>\n",
       "<link href=\"/css/dd3a935.css\" rel=\"stylesheet\">\n",
       "<link href=\"/css/style-el.css\" media=\"all\" rel=\"stylesheet\" type=\"text/css\"/>\n",
       "<script>NS_CSM_td=4170469;NS_CSM_pd=275116665;NS_CSM_u=\"/clm10\";NS_CSM_col=\"af_collector_logstream_192.168.2.113\";</script><script type=\"text/javascript\">function sendTimingInfoInit(){setTimeout(sendTimingInfo,0)}function sendTimingInfo(){var wp=window.performance;if(wp){var c1,c2,t;c1=wp.timing;if(c1){var cm={};cm.ns=c1.navigationStart;if((t=c1.unloadEventStart)>0)cm.us=t;if((t=c1.unloadEventEnd)>0)cm.ue=t;if((t=c1.redirectStart)>0)cm.rs=t;if((t=c1.redirectEnd)>0)cm.re=t;cm.fs=c1.fetchStart;cm.dls=c1.domainLookupStart;cm.dle=c1.domainLookupEnd;cm.cs=c1.connectStart;cm.ce=c1.connectEnd;if((t=c1.secureConnectionStart)>0)cm.scs=t;cm.rqs=c1.requestStart;cm.rss=c1.responseStart;cm.rse=c1.responseEnd;cm.dl=c1.domLoading;cm.di=c1.domInteractive;cm.dcls=c1.domContentLoadedEventStart;cm.dcle=c1.domContentLoadedEventEnd;cm.dc=c1.domComplete;if((t=c1.loadEventStart)>0)cm.ls=t;if((t=c1.loadEventEnd)>0)cm.le=t;cm.tid=NS_CSM_td;cm.pid=NS_CSM_pd;cm.ac=NS_CSM_col;var xhttp=new XMLHttpRequest();if(xhttp){var JSON=JSON||{};JSON.stringify=JSON.stringify||function(ob){var t=typeof(ob);if(t!=\"object\"||ob===null){if(t==\"string\")ob='\"'+ob+'\"';return String(ob);}else{var n,v,json=[],arr=(ob&&ob.constructor==Array);for(n in ob){v=ob[n];t=typeof(v);if(t==\"string\")v='\"'+v+'\"';else if(t==\"object\"&&v!==null)v=JSON.stringify(v);json.push((arr?\"\":'\"'+n+'\":')+String(v));}return(arr?\"[\":\"{\")+String(json)+(arr?\"]\":\"}\");}};xhttp.open(\"POST\",NS_CSM_u,true);xhttp.send(JSON.stringify(cm));}}}}if(window.addEventListener)window.addEventListener(\"load\",sendTimingInfoInit,false);else if(window.attachEvent)window.attachEvent(\"onload\",sendTimingInfoInit);else window.onload=sendTimingInfoInit;</script></link></head>\n",
       "<body class=\"doublemenu\">\n",
       "<section class=\"scores-table\" style=\"padding-top: 20px; padding-bottom: 0px;\">\n",
       "<div class=\"container read\">\n",
       "<div class=\"elbloc mb30\">\n",
       "<div class=\"head\">EXCLUSIV GOLF CHATEAU DE CELY - Cely</div>\n",
       "<div class=\"body subbloc\">\n",
       "<div class=\"row inner\">\n",
       "<div class=\"col-sm-12 mb10 text-center\">\n",
       "<img alt=\"\" class=\"img-responsive\" src=\"/images/0ffac99.jpg\"/>\n",
       "<img alt=\"\" class=\"img-responsive\" src=\"/images/5ec70da.jpg\"/>\n",
       "</div>\n",
       "<div class=\"col-sm-12\">\n",
       "<table>\n",
       "<tr style=\"color: white; background-color: #538fcc;\">\n",
       "<td>Tarifs</td>\n",
       "<td>Basse saison</td>\n",
       "<td>Haute saison</td>\n",
       "</tr>\n",
       "<tr>\n",
       "<td>Week-end</td>\n",
       "<td>                                                    62 €\n",
       "                                                                                            </td>\n",
       "<td>                                                    62 €\n",
       "                                                                                            </td>\n",
       "</tr>\n",
       "<tr>\n",
       "<td>Semaine</td>\n",
       "<td>                                                    53 €\n",
       "                                                                                            </td>\n",
       "<td>                                                    53 €\n",
       "                                                                                            </td>\n",
       "</tr>\n",
       "</table>\n",
       "</div>\n",
       "</div>\n",
       "</div>\n",
       "</div>\n",
       "<div class=\"table\">\n",
       "<!-- Ligne 1 -->\n",
       "<div class=\"row head\">\n",
       "<div class=\"col-xs-12 landmark\">\n",
       "<span>Repère</span>\n",
       "<div class=\"form-group small\">\n",
       "<select class=\"selectpicker _rRepere\" id=\"landmarkList\" name=\"codeRepere\">\n",
       "<option data-content=\"&lt;span style='color:#FFFFFF; background-color:#000000'&gt; &lt;/span&gt;&lt;span class='ml5'&gt;Noirs&lt;/span&gt;\" selected=\"\" value=\"1\">Noirs</option>\n",
       "<option data-content=\"&lt;span style='color:#000000; background-color:#FFFFFF'&gt; &lt;/span&gt;&lt;span class='ml5'&gt;Blancs&lt;/span&gt;\" value=\"2\">Blancs</option>\n",
       "<option data-content=\"&lt;span style='color:#000000; background-color:#FFF152'&gt; &lt;/span&gt;&lt;span class='ml5'&gt;Jaunes&lt;/span&gt;\" value=\"3\">Jaunes</option>\n",
       "<option data-content=\"&lt;span style='color:#FFFFFF; background-color:#008BC2'&gt; &lt;/span&gt;&lt;span class='ml5'&gt;Bleus&lt;/span&gt;\" value=\"4\">Bleus</option>\n",
       "<option data-content=\"&lt;span style='color:#FFFFFF; background-color:#C23633'&gt; &lt;/span&gt;&lt;span class='ml5'&gt;Rouges&lt;/span&gt;\" value=\"5\">Rouges</option>\n",
       "<option data-content=\"&lt;span style='color:#FFFFFF; background-color:#6E6796'&gt; &lt;/span&gt;&lt;span class='ml5'&gt;Violets&lt;/span&gt;\" value=\"6\">Violets</option>\n",
       "<option data-content=\"&lt;span style='color:#FFFFFF; background-color:#E7873C'&gt; &lt;/span&gt;&lt;span class='ml5'&gt;Oranges&lt;/span&gt;\" value=\"7\">Oranges</option>\n",
       "<option disabled=\"\">──────────</option>\n",
       "<option data-content=\"&lt;span background-color:#FFFFFF'&gt; &lt;/span&gt;&lt;span class='ml5'&gt;Min G&lt;/span&gt;\" value=\"10\">Min G</option>\n",
       "<option data-content=\"&lt;span background-color:#FFFF00'&gt; &lt;/span&gt;&lt;span class='ml5'&gt;Ben G&lt;/span&gt;\" value=\"11\">Ben G</option>\n",
       "<option data-content=\"&lt;span background-color:#8A8D8F'&gt; &lt;/span&gt;&lt;span class='ml5'&gt;U12 G&lt;/span&gt;\" value=\"12\">U12 G</option>\n",
       "<option data-content=\"&lt;span background-color:#0000FF'&gt; &lt;/span&gt;&lt;span class='ml5'&gt;Min F&lt;/span&gt;\" value=\"20\">Min F</option>\n",
       "<option data-content=\"&lt;span background-color:#FF0000'&gt; &lt;/span&gt;&lt;span class='ml5'&gt;Ben F&lt;/span&gt;\" value=\"21\">Ben F</option>\n",
       "<option data-content=\"&lt;span background-color:#AB92E1'&gt; &lt;/span&gt;&lt;span class='ml5'&gt;U12 F&lt;/span&gt;\" value=\"22\">U12 F</option>\n",
       "</select>\n",
       "</div>\n",
       "<span>  Total distance = \n",
       "                                    <span id=\"dist-tot\">\n",
       "                                                                                    5924\n",
       "                                                                            </span>\n",
       "</span>\n",
       "</div>\n",
       "</div>\n",
       "<div class=\"row\">\n",
       "<!-- Colonne des labels (desktop & tablette) -->\n",
       "<div class=\"col-xs-2 labels\">\n",
       "<table>\n",
       "<tr class=\"holes underlined\">\n",
       "<td>Trou</td>\n",
       "</tr>\n",
       "<tr>\n",
       "<td>Par</td>\n",
       "</tr>\n",
       "<tr>\n",
       "<td>Hcp</td>\n",
       "</tr>\n",
       "<tr>\n",
       "<td>Dist</td>\n",
       "</tr>\n",
       "<tr class=\"underlined\">\n",
       "<td>TPS</td>\n",
       "</tr>\n",
       "</table>\n",
       "</div>\n",
       "<!-- Colonne des 9 premiers trous -->\n",
       "<div class=\"col-xs-10 col-sm-5 first-holes\">\n",
       "<!-- Trou -->\n",
       "<table>\n",
       "<tr class=\"holes underlined\">\n",
       "<td></td>\n",
       "<td>1</td>\n",
       "<td>2</td>\n",
       "<td>3</td>\n",
       "<td>4</td>\n",
       "<td>5</td>\n",
       "<td>6</td>\n",
       "<td>7</td>\n",
       "<td>8</td>\n",
       "<td>9</td>\n",
       "<td></td>\n",
       "</tr>\n",
       "<!-- Par -->\n",
       "<tr>\n",
       "<td></td>\n",
       "<td id=\"par-1\">5</td>\n",
       "<td id=\"par-2\">4</td>\n",
       "<td id=\"par-3\">4</td>\n",
       "<td id=\"par-4\">4</td>\n",
       "<td id=\"par-5\">3</td>\n",
       "<td id=\"par-6\">5</td>\n",
       "<td id=\"par-7\">3</td>\n",
       "<td id=\"par-8\">4</td>\n",
       "<td id=\"par-9\">4</td>\n",
       "<td></td>\n",
       "</tr>\n",
       "<!-- Handicap -->\n",
       "<tr>\n",
       "<td></td>\n",
       "<td id=\"hcp-1\">10</td>\n",
       "<td id=\"hcp-2\">16</td>\n",
       "<td id=\"hcp-3\">6</td>\n",
       "<td id=\"hcp-4\">14</td>\n",
       "<td id=\"hcp-5\">4</td>\n",
       "<td id=\"hcp-6\">2</td>\n",
       "<td id=\"hcp-7\">18</td>\n",
       "<td id=\"hcp-8\">8</td>\n",
       "<td id=\"hcp-9\">12</td>\n",
       "<td></td>\n",
       "</tr>\n",
       "<!-- Distance -->\n",
       "<tr>\n",
       "<td></td>\n",
       "<td id=\"dist-1\" name=\"distance\">444</td>\n",
       "<td id=\"dist-2\" name=\"distance\">312</td>\n",
       "<td id=\"dist-3\" name=\"distance\">327</td>\n",
       "<td id=\"dist-4\" name=\"distance\">328</td>\n",
       "<td id=\"dist-5\" name=\"distance\">215</td>\n",
       "<td id=\"dist-6\" name=\"distance\">521</td>\n",
       "<td id=\"dist-7\" name=\"distance\">143</td>\n",
       "<td id=\"dist-8\" name=\"distance\">307</td>\n",
       "<td id=\"dist-9\" name=\"distance\">315</td>\n",
       "<td id=\"dist-all\">\n",
       "                                                                                            2912\n",
       "                                                                                    </td>\n",
       "</tr>\n",
       "<!-- Temps -->\n",
       "<tr class=\"underlined\">\n",
       "<td></td>\n",
       "<td id=\"tps-1\">17</td>\n",
       "<td id=\"tps-2\">14</td>\n",
       "<td id=\"tps-3\">14</td>\n",
       "<td id=\"tps-4\">14</td>\n",
       "<td id=\"tps-5\">11</td>\n",
       "<td id=\"tps-6\">17</td>\n",
       "<td id=\"tps-7\">11</td>\n",
       "<td id=\"tps-8\">14</td>\n",
       "<td id=\"tps-9\">14</td>\n",
       "<td></td>\n",
       "</tr>\n",
       "</table>\n",
       "</div>\n",
       "<!-- Colonne des labels (mobile only) -->\n",
       "<div class=\"col-xs-2 labels labels-on-mobile visible-xs\">\n",
       "<table>\n",
       "<tr class=\"holes underlined\"><td>Trou</td></tr>\n",
       "<tr><td>Par</td></tr>\n",
       "<tr><td>Hcp</td></tr>\n",
       "<tr><td>Brut</td></tr>\n",
       "<tr class=\"underlined\"><td>Net</td></tr>\n",
       "</table>\n",
       "</div>\n",
       "<!-- Colonne des 9 derniers trous -->\n",
       "<div class=\"col-xs-10 col-sm-5 last-holes\">\n",
       "<table>\n",
       "<tr class=\"holes underlined\">\n",
       "<td></td>\n",
       "<td>10</td>\n",
       "<td>11</td>\n",
       "<td>12</td>\n",
       "<td>13</td>\n",
       "<td>14</td>\n",
       "<td>15</td>\n",
       "<td>16</td>\n",
       "<td>17</td>\n",
       "<td>18</td>\n",
       "<td></td>\n",
       "</tr>\n",
       "<!-- Par -->\n",
       "<tr>\n",
       "<td></td>\n",
       "<td id=\"par-10\">5</td>\n",
       "<td id=\"par-11\">4</td>\n",
       "<td id=\"par-12\">3</td>\n",
       "<td id=\"par-13\">4</td>\n",
       "<td id=\"par-14\">4</td>\n",
       "<td id=\"par-15\">5</td>\n",
       "<td id=\"par-16\">4</td>\n",
       "<td id=\"par-17\">3</td>\n",
       "<td id=\"par-18\">4</td>\n",
       "<td></td>\n",
       "</tr>\n",
       "<!-- Handicap -->\n",
       "<tr>\n",
       "<td></td>\n",
       "<td id=\"hcp-10\">5</td>\n",
       "<td id=\"hcp-11\">13</td>\n",
       "<td id=\"hcp-12\">3</td>\n",
       "<td id=\"hcp-13\">7</td>\n",
       "<td id=\"hcp-14\">15</td>\n",
       "<td id=\"hcp-15\">1</td>\n",
       "<td id=\"hcp-16\">11</td>\n",
       "<td id=\"hcp-17\">17</td>\n",
       "<td id=\"hcp-18\">9</td>\n",
       "<td></td>\n",
       "</tr>\n",
       "<!-- Distance -->\n",
       "<tr>\n",
       "<td></td>\n",
       "<td id=\"dist-10\" name=\"distance\">426</td>\n",
       "<td id=\"dist-11\" name=\"distance\">318</td>\n",
       "<td id=\"dist-12\" name=\"distance\">162</td>\n",
       "<td id=\"dist-13\" name=\"distance\">328</td>\n",
       "<td id=\"dist-14\" name=\"distance\">330</td>\n",
       "<td id=\"dist-15\" name=\"distance\">603</td>\n",
       "<td id=\"dist-16\" name=\"distance\">335</td>\n",
       "<td id=\"dist-17\" name=\"distance\">145</td>\n",
       "<td id=\"dist-18\" name=\"distance\">365</td>\n",
       "<td id=\"dist-ret\">\n",
       "                                                                                                    3012\n",
       "                                                                                            </td>\n",
       "</tr>\n",
       "<!-- Temps -->\n",
       "<tr class=\"underlined\">\n",
       "<td></td>\n",
       "<td id=\"tps-10\">17</td>\n",
       "<td id=\"tps-11\">14</td>\n",
       "<td id=\"tps-12\">11</td>\n",
       "<td id=\"tps-13\">14</td>\n",
       "<td id=\"tps-14\">14</td>\n",
       "<td id=\"tps-15\">17</td>\n",
       "<td id=\"tps-16\">14</td>\n",
       "<td id=\"tps-17\">11</td>\n",
       "<td id=\"tps-18\">14</td>\n",
       "<td></td>\n",
       "</tr>\n",
       "</table>\n",
       "</div>\n",
       "</div>\n",
       "</div>\n",
       "<div class=\"row calculated_values\">\n",
       "<div class=\"col-xs-12\">\n",
       "<div class=\"col-xs-3\">\n",
       "<div class=\"row name\">SSS Mess</div>\n",
       "<div class=\"row value\" id=\"sss-mess\">\n",
       "                                                                            72\n",
       "                                                                    </div>\n",
       "</div>\n",
       "<div class=\"col-xs-3\">\n",
       "<div class=\"row name\">SSS Dame</div>\n",
       "<div class=\"row value\" id=\"sss-dame\">\n",
       "                                                                            0\n",
       "                                                                    </div>\n",
       "</div>\n",
       "<div class=\"col-xs-3\">\n",
       "<div class=\"row name\">Slope Mess</div>\n",
       "<div class=\"row value\" id=\"slope-mess\">\n",
       "                                                                            139\n",
       "                                                                    </div>\n",
       "</div>\n",
       "<div class=\"col-xs-3\">\n",
       "<div class=\"row name\">Slope Dame</div>\n",
       "<div class=\"row value\" id=\"slope-dame\">\n",
       "                                                                            0\n",
       "                                                                    </div>\n",
       "</div>\n",
       "</div>\n",
       "</div>\n",
       "</div>\n",
       "</section>\n",
       "<!-- FIN CONTENU -->\n",
       "<script src=\"/js/91d0c9d.js\"></script>\n",
       "<script type=\"text/javascript\">\n",
       "    $(document).ready(function() {        \n",
       "        //on force liste déroulante au premier répère de la liste \n",
       "        $(\"[name='codeRepere']\").val(1);\n",
       "\n",
       "        //on recupère all datas in one array JS\n",
       "        var infosFicheParcours = {\"1\":{\"GLF_COD\":\"1243\",\"GLF_LIB\":\"EXCLUSIV GOLF CHATEAU DE CELY\",\"GLF_WEB\":\"http:\\/\\/jouer.golf\\/cely\\/\",\"GLF_NBE_TRO\":\"18\",\"TER_COD\":\"01\",\"TERRAINNOMBRETROU\":\"18\",\"TER_LIB\":\"Cely\",\"TER_TXT\":null,\"TER_DTE_CRE_TER\":\"1990\",\"TER_NOM_ARCH\":\"Adam et Fromanger\",\"WT_GLF_COD\":\"1243\",\"TER_TAR_SEM_BS\":\"53\",\"TER_TAR_SEM_HT\":\"53\",\"TER_TAR_WE_BS\":\"62\",\"TER_TAR_WE_HT\":\"62\",\"TER_ACC_CVT_REQ\":\"01\",\"TER_ACC_IDX_REQ\":\"54.0\",\"TER_TEE_FORWARD\":\"00\",\"TER_LINKS\":\"00\",\"TER_BOISE\":\"00\",\"TER_VAL\":\"00\",\"TER_PLAT\":\"01\",\"TER_URB\":\"00\",\"TER_OBS_EAU\":\"01\",\"TER_ETL_DTE\":\"11\\/04\\/2011\",\"TER_HML_DTE\":\"01\\/01\\/2000\",\"TER_DTE_MAJ\":\"05\\/05\\/2011\",\"REPEREPAR01\":\"5\",\"REPEREPAR02\":\"4\",\"REPEREPAR03\":\"4\",\"REPEREPAR04\":\"4\",\"REPEREPAR05\":\"3\",\"REPEREPAR06\":\"5\",\"REPEREPAR07\":\"3\",\"REPEREPAR08\":\"4\",\"REPEREPAR09\":\"4\",\"REPEREPAR10\":\"5\",\"REPEREPAR11\":\"4\",\"REPEREPAR12\":\"3\",\"REPEREPAR13\":\"4\",\"REPEREPAR14\":\"4\",\"REPEREPAR15\":\"5\",\"REPEREPAR16\":\"4\",\"REPEREPAR17\":\"3\",\"REPEREPAR18\":\"4\",\"REP_PAR\":\"72\",\"REP_PAR_ALL\":\"36\",\"REP_PAR_RET\":\"36\",\"TERRAINTEMPS01\":\"00:17\",\"TERRAINTEMPS02\":\"00:14\",\"TERRAINTEMPS03\":\"00:14\",\"TERRAINTEMPS04\":\"00:14\",\"TERRAINTEMPS05\":\"00:11\",\"TERRAINTEMPS06\":\"00:17\",\"TERRAINTEMPS07\":\"00:11\",\"TERRAINTEMPS08\":\"00:14\",\"TERRAINTEMPS09\":\"00:14\",\"TERRAINTEMPS10\":\"00:17\",\"TERRAINTEMPS11\":\"00:14\",\"TERRAINTEMPS12\":\"00:11\",\"TERRAINTEMPS13\":\"00:14\",\"TERRAINTEMPS14\":\"00:14\",\"TERRAINTEMPS15\":\"00:17\",\"TERRAINTEMPS16\":\"00:14\",\"TERRAINTEMPS17\":\"00:11\",\"TERRAINTEMPS18\":\"00:14\",\"TER_TPS_MOY\":\"04:12\",\"TER_TPS_ALL\":\"02:06\",\"TER_TPS_RET\":\"02:06\",\"REP_CPS_TR01\":\"10\",\"REP_CPS_TR02\":\"16\",\"REP_CPS_TR03\":\"6\",\"REP_CPS_TR04\":\"14\",\"REP_CPS_TR05\":\"4\",\"REP_CPS_TR06\":\"2\",\"REP_CPS_TR07\":\"18\",\"REP_CPS_TR08\":\"8\",\"REP_CPS_TR09\":\"12\",\"REP_CPS_TR10\":\"5\",\"REP_CPS_TR11\":\"13\",\"REP_CPS_TR12\":\"3\",\"REP_CPS_TR13\":\"7\",\"REP_CPS_TR14\":\"15\",\"REP_CPS_TR15\":\"1\",\"REP_CPS_TR16\":\"11\",\"REP_CPS_TR17\":\"17\",\"REP_CPS_TR18\":\"9\",\"REPERECP01\":\"5\",\"REPERECP02\":\"8\",\"REPERECP03\":\"3\",\"REPERECP04\":\"7\",\"REPERECP05\":\"2\",\"REPERECP06\":\"1\",\"REPERECP07\":\"9\",\"REPERECP08\":\"4\",\"REPERECP09\":\"6\",\"REPERECP10\":\"3\",\"REPERECP11\":\"7\",\"REPERECP12\":\"2\",\"REPERECP13\":\"4\",\"REPERECP14\":\"8\",\"REPERECP15\":\"1\",\"REPERECP16\":\"6\",\"REPERECP17\":\"9\",\"REPERECP18\":\"5\",\"REP_COD\":\"1\",\"REPEREDISTANCETOUT\":\"2912\",\"REPEREDISTANCERETOUR\":\"3012\",\"REPEREDISTANCETOTAL\":\"5924\",\"REPEREDISTANCE01\":\"444\",\"REPEREDISTANCE02\":\"312\",\"REPEREDISTANCE03\":\"327\",\"REPEREDISTANCE04\":\"328\",\"REPEREDISTANCE05\":\"215\",\"REPEREDISTANCE06\":\"521\",\"REPEREDISTANCE07\":\"143\",\"REPEREDISTANCE08\":\"307\",\"REPEREDISTANCE09\":\"315\",\"REPEREDISTANCE10\":\"426\",\"REPEREDISTANCE11\":\"318\",\"REPEREDISTANCE12\":\"162\",\"REPEREDISTANCE13\":\"328\",\"REPEREDISTANCE14\":\"330\",\"REPEREDISTANCE15\":\"603\",\"REPEREDISTANCE16\":\"335\",\"REPEREDISTANCE17\":\"145\",\"REPEREDISTANCE18\":\"365\",\"REPERESSSF\":\"0\",\"REPERESSSM\":\"72\",\"REPERESLOPEF\":\"0\",\"REPERESLOPEM\":\"139\",\"REPERESSSFTOUT\":\"0\",\"REPERESSSMTOUT\":\"35.8\",\"REPERESLOPEFTOUT\":\"0\",\"REPERESLOPEMTOUT\":\"68\",\"REP_SSS_DAM_RET\":\"0\",\"REP_SSS_HOM_RET\":\"36.2\",\"REP_SLP_DAM_RET\":\"0\",\"REP_SLP_HOM_RET\":\"71\",\"REP_LIB_COU\":\"Noirs\",\"REP_BG_COLOR\":\"#000000\",\"REP_FONT_COLOR\":\"#FFFFFF\",\"REP_ALLOW_WEB\":\"01\"},\"2\":{\"GLF_COD\":\"1243\",\"GLF_LIB\":\"EXCLUSIV GOLF CHATEAU DE CELY\",\"GLF_WEB\":\"http:\\/\\/jouer.golf\\/cely\\/\",\"GLF_NBE_TRO\":\"18\",\"TER_COD\":\"01\",\"TERRAINNOMBRETROU\":\"18\",\"TER_LIB\":\"Cely\",\"TER_TXT\":null,\"TER_DTE_CRE_TER\":\"1990\",\"TER_NOM_ARCH\":\"Adam et Fromanger\",\"WT_GLF_COD\":\"1243\",\"TER_TAR_SEM_BS\":\"53\",\"TER_TAR_SEM_HT\":\"53\",\"TER_TAR_WE_BS\":\"62\",\"TER_TAR_WE_HT\":\"62\",\"TER_ACC_CVT_REQ\":\"01\",\"TER_ACC_IDX_REQ\":\"54.0\",\"TER_TEE_FORWARD\":\"00\",\"TER_LINKS\":\"00\",\"TER_BOISE\":\"00\",\"TER_VAL\":\"00\",\"TER_PLAT\":\"01\",\"TER_URB\":\"00\",\"TER_OBS_EAU\":\"01\",\"TER_ETL_DTE\":\"11\\/04\\/2011\",\"TER_HML_DTE\":\"01\\/01\\/2000\",\"TER_DTE_MAJ\":\"05\\/05\\/2011\",\"REPEREPAR01\":\"5\",\"REPEREPAR02\":\"4\",\"REPEREPAR03\":\"4\",\"REPEREPAR04\":\"4\",\"REPEREPAR05\":\"3\",\"REPEREPAR06\":\"5\",\"REPEREPAR07\":\"3\",\"REPEREPAR08\":\"4\",\"REPEREPAR09\":\"4\",\"REPEREPAR10\":\"5\",\"REPEREPAR11\":\"4\",\"REPEREPAR12\":\"3\",\"REPEREPAR13\":\"4\",\"REPEREPAR14\":\"4\",\"REPEREPAR15\":\"5\",\"REPEREPAR16\":\"4\",\"REPEREPAR17\":\"3\",\"REPEREPAR18\":\"4\",\"REP_PAR\":\"72\",\"REP_PAR_ALL\":\"36\",\"REP_PAR_RET\":\"36\",\"TERRAINTEMPS01\":\"00:17\",\"TERRAINTEMPS02\":\"00:14\",\"TERRAINTEMPS03\":\"00:14\",\"TERRAINTEMPS04\":\"00:14\",\"TERRAINTEMPS05\":\"00:11\",\"TERRAINTEMPS06\":\"00:17\",\"TERRAINTEMPS07\":\"00:11\",\"TERRAINTEMPS08\":\"00:14\",\"TERRAINTEMPS09\":\"00:14\",\"TERRAINTEMPS10\":\"00:17\",\"TERRAINTEMPS11\":\"00:14\",\"TERRAINTEMPS12\":\"00:11\",\"TERRAINTEMPS13\":\"00:14\",\"TERRAINTEMPS14\":\"00:14\",\"TERRAINTEMPS15\":\"00:17\",\"TERRAINTEMPS16\":\"00:14\",\"TERRAINTEMPS17\":\"00:11\",\"TERRAINTEMPS18\":\"00:14\",\"TER_TPS_MOY\":\"04:12\",\"TER_TPS_ALL\":\"02:06\",\"TER_TPS_RET\":\"02:06\",\"REP_CPS_TR01\":\"10\",\"REP_CPS_TR02\":\"16\",\"REP_CPS_TR03\":\"6\",\"REP_CPS_TR04\":\"14\",\"REP_CPS_TR05\":\"4\",\"REP_CPS_TR06\":\"2\",\"REP_CPS_TR07\":\"18\",\"REP_CPS_TR08\":\"8\",\"REP_CPS_TR09\":\"12\",\"REP_CPS_TR10\":\"5\",\"REP_CPS_TR11\":\"13\",\"REP_CPS_TR12\":\"3\",\"REP_CPS_TR13\":\"7\",\"REP_CPS_TR14\":\"15\",\"REP_CPS_TR15\":\"1\",\"REP_CPS_TR16\":\"11\",\"REP_CPS_TR17\":\"17\",\"REP_CPS_TR18\":\"9\",\"REPERECP01\":\"5\",\"REPERECP02\":\"8\",\"REPERECP03\":\"3\",\"REPERECP04\":\"7\",\"REPERECP05\":\"2\",\"REPERECP06\":\"1\",\"REPERECP07\":\"9\",\"REPERECP08\":\"4\",\"REPERECP09\":\"6\",\"REPERECP10\":\"3\",\"REPERECP11\":\"7\",\"REPERECP12\":\"2\",\"REPERECP13\":\"4\",\"REPERECP14\":\"8\",\"REPERECP15\":\"1\",\"REPERECP16\":\"6\",\"REPERECP17\":\"9\",\"REPERECP18\":\"5\",\"REP_COD\":\"2\",\"REPEREDISTANCETOUT\":\"2880\",\"REPEREDISTANCERETOUR\":\"2976\",\"REPEREDISTANCETOTAL\":\"5856\",\"REPEREDISTANCE01\":\"444\",\"REPEREDISTANCE02\":\"312\",\"REPEREDISTANCE03\":\"327\",\"REPEREDISTANCE04\":\"328\",\"REPEREDISTANCE05\":\"183\",\"REPEREDISTANCE06\":\"521\",\"REPEREDISTANCE07\":\"143\",\"REPEREDISTANCE08\":\"307\",\"REPEREDISTANCE09\":\"315\",\"REPEREDISTANCE10\":\"425\",\"REPEREDISTANCE11\":\"318\",\"REPEREDISTANCE12\":\"162\",\"REPEREDISTANCE13\":\"328\",\"REPEREDISTANCE14\":\"330\",\"REPEREDISTANCE15\":\"568\",\"REPEREDISTANCE16\":\"335\",\"REPEREDISTANCE17\":\"145\",\"REPEREDISTANCE18\":\"365\",\"REPERESSSF\":\"0\",\"REPERESSSM\":\"71.6\",\"REPERESLOPEF\":\"0\",\"REPERESLOPEM\":\"139\",\"REPERESSSFTOUT\":\"0\",\"REPERESSSMTOUT\":\"35.6\",\"REPERESLOPEFTOUT\":\"0\",\"REPERESLOPEMTOUT\":\"68\",\"REP_SSS_DAM_RET\":\"0\",\"REP_SSS_HOM_RET\":\"36\",\"REP_SLP_DAM_RET\":\"0\",\"REP_SLP_HOM_RET\":\"71\",\"REP_LIB_COU\":\"Blancs\",\"REP_BG_COLOR\":\"#FFFFFF\",\"REP_FONT_COLOR\":\"#000000\",\"REP_ALLOW_WEB\":\"01\"},\"3\":{\"GLF_COD\":\"1243\",\"GLF_LIB\":\"EXCLUSIV GOLF CHATEAU DE CELY\",\"GLF_WEB\":\"http:\\/\\/jouer.golf\\/cely\\/\",\"GLF_NBE_TRO\":\"18\",\"TER_COD\":\"01\",\"TERRAINNOMBRETROU\":\"18\",\"TER_LIB\":\"Cely\",\"TER_TXT\":null,\"TER_DTE_CRE_TER\":\"1990\",\"TER_NOM_ARCH\":\"Adam et Fromanger\",\"WT_GLF_COD\":\"1243\",\"TER_TAR_SEM_BS\":\"53\",\"TER_TAR_SEM_HT\":\"53\",\"TER_TAR_WE_BS\":\"62\",\"TER_TAR_WE_HT\":\"62\",\"TER_ACC_CVT_REQ\":\"01\",\"TER_ACC_IDX_REQ\":\"54.0\",\"TER_TEE_FORWARD\":\"00\",\"TER_LINKS\":\"00\",\"TER_BOISE\":\"00\",\"TER_VAL\":\"00\",\"TER_PLAT\":\"01\",\"TER_URB\":\"00\",\"TER_OBS_EAU\":\"01\",\"TER_ETL_DTE\":\"11\\/04\\/2011\",\"TER_HML_DTE\":\"01\\/01\\/2000\",\"TER_DTE_MAJ\":\"05\\/05\\/2011\",\"REPEREPAR01\":\"5\",\"REPEREPAR02\":\"4\",\"REPEREPAR03\":\"4\",\"REPEREPAR04\":\"4\",\"REPEREPAR05\":\"3\",\"REPEREPAR06\":\"5\",\"REPEREPAR07\":\"3\",\"REPEREPAR08\":\"4\",\"REPEREPAR09\":\"4\",\"REPEREPAR10\":\"5\",\"REPEREPAR11\":\"4\",\"REPEREPAR12\":\"3\",\"REPEREPAR13\":\"4\",\"REPEREPAR14\":\"4\",\"REPEREPAR15\":\"5\",\"REPEREPAR16\":\"4\",\"REPEREPAR17\":\"3\",\"REPEREPAR18\":\"4\",\"REP_PAR\":\"72\",\"REP_PAR_ALL\":\"36\",\"REP_PAR_RET\":\"36\",\"TERRAINTEMPS01\":\"00:17\",\"TERRAINTEMPS02\":\"00:14\",\"TERRAINTEMPS03\":\"00:14\",\"TERRAINTEMPS04\":\"00:14\",\"TERRAINTEMPS05\":\"00:11\",\"TERRAINTEMPS06\":\"00:17\",\"TERRAINTEMPS07\":\"00:11\",\"TERRAINTEMPS08\":\"00:14\",\"TERRAINTEMPS09\":\"00:14\",\"TERRAINTEMPS10\":\"00:17\",\"TERRAINTEMPS11\":\"00:14\",\"TERRAINTEMPS12\":\"00:11\",\"TERRAINTEMPS13\":\"00:14\",\"TERRAINTEMPS14\":\"00:14\",\"TERRAINTEMPS15\":\"00:17\",\"TERRAINTEMPS16\":\"00:14\",\"TERRAINTEMPS17\":\"00:11\",\"TERRAINTEMPS18\":\"00:14\",\"TER_TPS_MOY\":\"04:12\",\"TER_TPS_ALL\":\"02:06\",\"TER_TPS_RET\":\"02:06\",\"REP_CPS_TR01\":\"10\",\"REP_CPS_TR02\":\"16\",\"REP_CPS_TR03\":\"6\",\"REP_CPS_TR04\":\"14\",\"REP_CPS_TR05\":\"4\",\"REP_CPS_TR06\":\"2\",\"REP_CPS_TR07\":\"18\",\"REP_CPS_TR08\":\"8\",\"REP_CPS_TR09\":\"12\",\"REP_CPS_TR10\":\"5\",\"REP_CPS_TR11\":\"13\",\"REP_CPS_TR12\":\"3\",\"REP_CPS_TR13\":\"7\",\"REP_CPS_TR14\":\"15\",\"REP_CPS_TR15\":\"1\",\"REP_CPS_TR16\":\"11\",\"REP_CPS_TR17\":\"17\",\"REP_CPS_TR18\":\"9\",\"REPERECP01\":\"5\",\"REPERECP02\":\"8\",\"REPERECP03\":\"3\",\"REPERECP04\":\"7\",\"REPERECP05\":\"2\",\"REPERECP06\":\"1\",\"REPERECP07\":\"9\",\"REPERECP08\":\"4\",\"REPERECP09\":\"6\",\"REPERECP10\":\"3\",\"REPERECP11\":\"7\",\"REPERECP12\":\"2\",\"REPERECP13\":\"4\",\"REPERECP14\":\"8\",\"REPERECP15\":\"1\",\"REPERECP16\":\"6\",\"REPERECP17\":\"9\",\"REPERECP18\":\"5\",\"REP_COD\":\"3\",\"REPEREDISTANCETOUT\":\"2639\",\"REPEREDISTANCERETOUR\":\"2792\",\"REPEREDISTANCETOTAL\":\"5431\",\"REPEREDISTANCE01\":\"409\",\"REPEREDISTANCE02\":\"287\",\"REPEREDISTANCE03\":\"305\",\"REPEREDISTANCE04\":\"301\",\"REPEREDISTANCE05\":\"146\",\"REPEREDISTANCE06\":\"498\",\"REPEREDISTANCE07\":\"123\",\"REPEREDISTANCE08\":\"284\",\"REPEREDISTANCE09\":\"286\",\"REPEREDISTANCE10\":\"414\",\"REPEREDISTANCE11\":\"307\",\"REPEREDISTANCE12\":\"141\",\"REPEREDISTANCE13\":\"300\",\"REPEREDISTANCE14\":\"313\",\"REPEREDISTANCE15\":\"551\",\"REPEREDISTANCE16\":\"304\",\"REPEREDISTANCE17\":\"133\",\"REPEREDISTANCE18\":\"329\",\"REPERESSSF\":\"75\",\"REPERESSSM\":\"69.3\",\"REPERESLOPEF\":\"136\",\"REPERESLOPEM\":\"129\",\"REPERESSSFTOUT\":\"37.1\",\"REPERESSSMTOUT\":\"34.3\",\"REPERESLOPEFTOUT\":\"64\",\"REPERESLOPEMTOUT\":\"61\",\"REP_SSS_DAM_RET\":\"37.9\",\"REP_SSS_HOM_RET\":\"35\",\"REP_SLP_DAM_RET\":\"72\",\"REP_SLP_HOM_RET\":\"68\",\"REP_LIB_COU\":\"Jaunes\",\"REP_BG_COLOR\":\"#FFF152\",\"REP_FONT_COLOR\":\"#000000\",\"REP_ALLOW_WEB\":\"01\"},\"4\":{\"GLF_COD\":\"1243\",\"GLF_LIB\":\"EXCLUSIV GOLF CHATEAU DE CELY\",\"GLF_WEB\":\"http:\\/\\/jouer.golf\\/cely\\/\",\"GLF_NBE_TRO\":\"18\",\"TER_COD\":\"01\",\"TERRAINNOMBRETROU\":\"18\",\"TER_LIB\":\"Cely\",\"TER_TXT\":null,\"TER_DTE_CRE_TER\":\"1990\",\"TER_NOM_ARCH\":\"Adam et Fromanger\",\"WT_GLF_COD\":\"1243\",\"TER_TAR_SEM_BS\":\"53\",\"TER_TAR_SEM_HT\":\"53\",\"TER_TAR_WE_BS\":\"62\",\"TER_TAR_WE_HT\":\"62\",\"TER_ACC_CVT_REQ\":\"01\",\"TER_ACC_IDX_REQ\":\"54.0\",\"TER_TEE_FORWARD\":\"00\",\"TER_LINKS\":\"00\",\"TER_BOISE\":\"00\",\"TER_VAL\":\"00\",\"TER_PLAT\":\"01\",\"TER_URB\":\"00\",\"TER_OBS_EAU\":\"01\",\"TER_ETL_DTE\":\"11\\/04\\/2011\",\"TER_HML_DTE\":\"01\\/01\\/2000\",\"TER_DTE_MAJ\":\"05\\/05\\/2011\",\"REPEREPAR01\":\"5\",\"REPEREPAR02\":\"4\",\"REPEREPAR03\":\"4\",\"REPEREPAR04\":\"4\",\"REPEREPAR05\":\"3\",\"REPEREPAR06\":\"5\",\"REPEREPAR07\":\"3\",\"REPEREPAR08\":\"4\",\"REPEREPAR09\":\"4\",\"REPEREPAR10\":\"5\",\"REPEREPAR11\":\"4\",\"REPEREPAR12\":\"3\",\"REPEREPAR13\":\"4\",\"REPEREPAR14\":\"4\",\"REPEREPAR15\":\"5\",\"REPEREPAR16\":\"4\",\"REPEREPAR17\":\"3\",\"REPEREPAR18\":\"4\",\"REP_PAR\":\"72\",\"REP_PAR_ALL\":\"36\",\"REP_PAR_RET\":\"36\",\"TERRAINTEMPS01\":\"00:17\",\"TERRAINTEMPS02\":\"00:14\",\"TERRAINTEMPS03\":\"00:14\",\"TERRAINTEMPS04\":\"00:14\",\"TERRAINTEMPS05\":\"00:11\",\"TERRAINTEMPS06\":\"00:17\",\"TERRAINTEMPS07\":\"00:11\",\"TERRAINTEMPS08\":\"00:14\",\"TERRAINTEMPS09\":\"00:14\",\"TERRAINTEMPS10\":\"00:17\",\"TERRAINTEMPS11\":\"00:14\",\"TERRAINTEMPS12\":\"00:11\",\"TERRAINTEMPS13\":\"00:14\",\"TERRAINTEMPS14\":\"00:14\",\"TERRAINTEMPS15\":\"00:17\",\"TERRAINTEMPS16\":\"00:14\",\"TERRAINTEMPS17\":\"00:11\",\"TERRAINTEMPS18\":\"00:14\",\"TER_TPS_MOY\":\"04:12\",\"TER_TPS_ALL\":\"02:06\",\"TER_TPS_RET\":\"02:06\",\"REP_CPS_TR01\":\"10\",\"REP_CPS_TR02\":\"16\",\"REP_CPS_TR03\":\"6\",\"REP_CPS_TR04\":\"14\",\"REP_CPS_TR05\":\"4\",\"REP_CPS_TR06\":\"2\",\"REP_CPS_TR07\":\"18\",\"REP_CPS_TR08\":\"8\",\"REP_CPS_TR09\":\"12\",\"REP_CPS_TR10\":\"5\",\"REP_CPS_TR11\":\"13\",\"REP_CPS_TR12\":\"3\",\"REP_CPS_TR13\":\"7\",\"REP_CPS_TR14\":\"15\",\"REP_CPS_TR15\":\"1\",\"REP_CPS_TR16\":\"11\",\"REP_CPS_TR17\":\"17\",\"REP_CPS_TR18\":\"9\",\"REPERECP01\":\"5\",\"REPERECP02\":\"8\",\"REPERECP03\":\"3\",\"REPERECP04\":\"7\",\"REPERECP05\":\"2\",\"REPERECP06\":\"1\",\"REPERECP07\":\"9\",\"REPERECP08\":\"4\",\"REPERECP09\":\"6\",\"REPERECP10\":\"3\",\"REPERECP11\":\"7\",\"REPERECP12\":\"2\",\"REPERECP13\":\"4\",\"REPERECP14\":\"8\",\"REPERECP15\":\"1\",\"REPERECP16\":\"6\",\"REPERECP17\":\"9\",\"REPERECP18\":\"5\",\"REP_COD\":\"4\",\"REPEREDISTANCETOUT\":\"2451\",\"REPEREDISTANCERETOUR\":\"2636\",\"REPEREDISTANCETOTAL\":\"5087\",\"REPEREDISTANCE01\":\"390\",\"REPEREDISTANCE02\":\"282\",\"REPEREDISTANCE03\":\"298\",\"REPEREDISTANCE04\":\"270\",\"REPEREDISTANCE05\":\"111\",\"REPEREDISTANCE06\":\"441\",\"REPEREDISTANCE07\":\"119\",\"REPEREDISTANCE08\":\"278\",\"REPEREDISTANCE09\":\"262\",\"REPEREDISTANCE10\":\"372\",\"REPEREDISTANCE11\":\"298\",\"REPEREDISTANCE12\":\"131\",\"REPEREDISTANCE13\":\"286\",\"REPEREDISTANCE14\":\"305\",\"REPEREDISTANCE15\":\"534\",\"REPEREDISTANCE16\":\"294\",\"REPEREDISTANCE17\":\"107\",\"REPEREDISTANCE18\":\"309\",\"REPERESSSF\":\"72.9\",\"REPERESSSM\":\"67.6\",\"REPERESLOPEF\":\"131\",\"REPERESLOPEM\":\"126\",\"REPERESSSFTOUT\":\"35.9\",\"REPERESSSMTOUT\":\"33.3\",\"REPERESLOPEFTOUT\":\"65\",\"REPERESLOPEMTOUT\":\"62\",\"REP_SSS_DAM_RET\":\"37\",\"REP_SSS_HOM_RET\":\"34.3\",\"REP_SLP_DAM_RET\":\"66\",\"REP_SLP_HOM_RET\":\"64\",\"REP_LIB_COU\":\"Bleus\",\"REP_BG_COLOR\":\"#008BC2\",\"REP_FONT_COLOR\":\"#FFFFFF\",\"REP_ALLOW_WEB\":\"01\"},\"5\":{\"GLF_COD\":\"1243\",\"GLF_LIB\":\"EXCLUSIV GOLF CHATEAU DE CELY\",\"GLF_WEB\":\"http:\\/\\/jouer.golf\\/cely\\/\",\"GLF_NBE_TRO\":\"18\",\"TER_COD\":\"01\",\"TERRAINNOMBRETROU\":\"18\",\"TER_LIB\":\"Cely\",\"TER_TXT\":null,\"TER_DTE_CRE_TER\":\"1990\",\"TER_NOM_ARCH\":\"Adam et Fromanger\",\"WT_GLF_COD\":\"1243\",\"TER_TAR_SEM_BS\":\"53\",\"TER_TAR_SEM_HT\":\"53\",\"TER_TAR_WE_BS\":\"62\",\"TER_TAR_WE_HT\":\"62\",\"TER_ACC_CVT_REQ\":\"01\",\"TER_ACC_IDX_REQ\":\"54.0\",\"TER_TEE_FORWARD\":\"00\",\"TER_LINKS\":\"00\",\"TER_BOISE\":\"00\",\"TER_VAL\":\"00\",\"TER_PLAT\":\"01\",\"TER_URB\":\"00\",\"TER_OBS_EAU\":\"01\",\"TER_ETL_DTE\":\"11\\/04\\/2011\",\"TER_HML_DTE\":\"01\\/01\\/2000\",\"TER_DTE_MAJ\":\"05\\/05\\/2011\",\"REPEREPAR01\":\"5\",\"REPEREPAR02\":\"4\",\"REPEREPAR03\":\"4\",\"REPEREPAR04\":\"4\",\"REPEREPAR05\":\"3\",\"REPEREPAR06\":\"5\",\"REPEREPAR07\":\"3\",\"REPEREPAR08\":\"4\",\"REPEREPAR09\":\"4\",\"REPEREPAR10\":\"5\",\"REPEREPAR11\":\"4\",\"REPEREPAR12\":\"3\",\"REPEREPAR13\":\"4\",\"REPEREPAR14\":\"4\",\"REPEREPAR15\":\"5\",\"REPEREPAR16\":\"4\",\"REPEREPAR17\":\"3\",\"REPEREPAR18\":\"4\",\"REP_PAR\":\"72\",\"REP_PAR_ALL\":\"36\",\"REP_PAR_RET\":\"36\",\"TERRAINTEMPS01\":\"00:17\",\"TERRAINTEMPS02\":\"00:14\",\"TERRAINTEMPS03\":\"00:14\",\"TERRAINTEMPS04\":\"00:14\",\"TERRAINTEMPS05\":\"00:11\",\"TERRAINTEMPS06\":\"00:17\",\"TERRAINTEMPS07\":\"00:11\",\"TERRAINTEMPS08\":\"00:14\",\"TERRAINTEMPS09\":\"00:14\",\"TERRAINTEMPS10\":\"00:17\",\"TERRAINTEMPS11\":\"00:14\",\"TERRAINTEMPS12\":\"00:11\",\"TERRAINTEMPS13\":\"00:14\",\"TERRAINTEMPS14\":\"00:14\",\"TERRAINTEMPS15\":\"00:17\",\"TERRAINTEMPS16\":\"00:14\",\"TERRAINTEMPS17\":\"00:11\",\"TERRAINTEMPS18\":\"00:14\",\"TER_TPS_MOY\":\"04:12\",\"TER_TPS_ALL\":\"02:06\",\"TER_TPS_RET\":\"02:06\",\"REP_CPS_TR01\":\"10\",\"REP_CPS_TR02\":\"16\",\"REP_CPS_TR03\":\"6\",\"REP_CPS_TR04\":\"14\",\"REP_CPS_TR05\":\"4\",\"REP_CPS_TR06\":\"2\",\"REP_CPS_TR07\":\"18\",\"REP_CPS_TR08\":\"8\",\"REP_CPS_TR09\":\"12\",\"REP_CPS_TR10\":\"5\",\"REP_CPS_TR11\":\"13\",\"REP_CPS_TR12\":\"3\",\"REP_CPS_TR13\":\"7\",\"REP_CPS_TR14\":\"15\",\"REP_CPS_TR15\":\"1\",\"REP_CPS_TR16\":\"11\",\"REP_CPS_TR17\":\"17\",\"REP_CPS_TR18\":\"9\",\"REPERECP01\":\"5\",\"REPERECP02\":\"8\",\"REPERECP03\":\"3\",\"REPERECP04\":\"7\",\"REPERECP05\":\"2\",\"REPERECP06\":\"1\",\"REPERECP07\":\"9\",\"REPERECP08\":\"4\",\"REPERECP09\":\"6\",\"REPERECP10\":\"3\",\"REPERECP11\":\"7\",\"REPERECP12\":\"2\",\"REPERECP13\":\"4\",\"REPERECP14\":\"8\",\"REPERECP15\":\"1\",\"REPERECP16\":\"6\",\"REPERECP17\":\"9\",\"REPERECP18\":\"5\",\"REP_COD\":\"5\",\"REPEREDISTANCETOUT\":\"2324\",\"REPEREDISTANCERETOUR\":\"2385\",\"REPEREDISTANCETOTAL\":\"4709\",\"REPEREDISTANCE01\":\"364\",\"REPEREDISTANCE02\":\"263\",\"REPEREDISTANCE03\":\"268\",\"REPEREDISTANCE04\":\"270\",\"REPEREDISTANCE05\":\"101\",\"REPEREDISTANCE06\":\"441\",\"REPEREDISTANCE07\":\"112\",\"REPEREDISTANCE08\":\"261\",\"REPEREDISTANCE09\":\"244\",\"REPEREDISTANCE10\":\"356\",\"REPEREDISTANCE11\":\"236\",\"REPEREDISTANCE12\":\"122\",\"REPEREDISTANCE13\":\"270\",\"REPEREDISTANCE14\":\"281\",\"REPEREDISTANCE15\":\"493\",\"REPEREDISTANCE16\":\"266\",\"REPEREDISTANCE17\":\"91\",\"REPEREDISTANCE18\":\"270\",\"REPERESSSF\":\"70.5\",\"REPERESSSM\":\"65.7\",\"REPERESLOPEF\":\"129\",\"REPERESLOPEM\":\"122\",\"REPERESSSFTOUT\":\"35\",\"REPERESSSMTOUT\":\"32.7\",\"REPERESLOPEFTOUT\":\"66\",\"REPERESLOPEMTOUT\":\"62\",\"REP_SSS_DAM_RET\":\"35.4\",\"REP_SSS_HOM_RET\":\"33\",\"REP_SLP_DAM_RET\":\"63\",\"REP_SLP_HOM_RET\":\"60\",\"REP_LIB_COU\":\"Rouges\",\"REP_BG_COLOR\":\"#C23633\",\"REP_FONT_COLOR\":\"#FFFFFF\",\"REP_ALLOW_WEB\":\"01\"},\"6\":{\"GLF_COD\":\"1243\",\"GLF_LIB\":\"EXCLUSIV GOLF CHATEAU DE CELY\",\"GLF_WEB\":\"http:\\/\\/jouer.golf\\/cely\\/\",\"GLF_NBE_TRO\":\"18\",\"TER_COD\":\"01\",\"TERRAINNOMBRETROU\":\"18\",\"TER_LIB\":\"Cely\",\"TER_TXT\":null,\"TER_DTE_CRE_TER\":\"1990\",\"TER_NOM_ARCH\":\"Adam et Fromanger\",\"WT_GLF_COD\":\"1243\",\"TER_TAR_SEM_BS\":\"53\",\"TER_TAR_SEM_HT\":\"53\",\"TER_TAR_WE_BS\":\"62\",\"TER_TAR_WE_HT\":\"62\",\"TER_ACC_CVT_REQ\":\"01\",\"TER_ACC_IDX_REQ\":\"54.0\",\"TER_TEE_FORWARD\":\"00\",\"TER_LINKS\":\"00\",\"TER_BOISE\":\"00\",\"TER_VAL\":\"00\",\"TER_PLAT\":\"01\",\"TER_URB\":\"00\",\"TER_OBS_EAU\":\"01\",\"TER_ETL_DTE\":\"08\\/11\\/2017\",\"TER_HML_DTE\":\"08\\/11\\/2017\",\"TER_DTE_MAJ\":null,\"REPEREPAR01\":\"5\",\"REPEREPAR02\":\"4\",\"REPEREPAR03\":\"4\",\"REPEREPAR04\":\"4\",\"REPEREPAR05\":\"3\",\"REPEREPAR06\":\"5\",\"REPEREPAR07\":\"3\",\"REPEREPAR08\":\"4\",\"REPEREPAR09\":\"4\",\"REPEREPAR10\":\"5\",\"REPEREPAR11\":\"4\",\"REPEREPAR12\":\"3\",\"REPEREPAR13\":\"4\",\"REPEREPAR14\":\"4\",\"REPEREPAR15\":\"5\",\"REPEREPAR16\":\"4\",\"REPEREPAR17\":\"3\",\"REPEREPAR18\":\"4\",\"REP_PAR\":\"72\",\"REP_PAR_ALL\":\"36\",\"REP_PAR_RET\":\"36\",\"TERRAINTEMPS01\":\"00:17\",\"TERRAINTEMPS02\":\"00:14\",\"TERRAINTEMPS03\":\"00:14\",\"TERRAINTEMPS04\":\"00:14\",\"TERRAINTEMPS05\":\"00:11\",\"TERRAINTEMPS06\":\"00:17\",\"TERRAINTEMPS07\":\"00:11\",\"TERRAINTEMPS08\":\"00:14\",\"TERRAINTEMPS09\":\"00:14\",\"TERRAINTEMPS10\":\"00:17\",\"TERRAINTEMPS11\":\"00:14\",\"TERRAINTEMPS12\":\"00:11\",\"TERRAINTEMPS13\":\"00:14\",\"TERRAINTEMPS14\":\"00:14\",\"TERRAINTEMPS15\":\"00:17\",\"TERRAINTEMPS16\":\"00:14\",\"TERRAINTEMPS17\":\"00:11\",\"TERRAINTEMPS18\":\"00:14\",\"TER_TPS_MOY\":\"04:12\",\"TER_TPS_ALL\":\"02:06\",\"TER_TPS_RET\":\"02:06\",\"REP_CPS_TR01\":\"10\",\"REP_CPS_TR02\":\"16\",\"REP_CPS_TR03\":\"6\",\"REP_CPS_TR04\":\"14\",\"REP_CPS_TR05\":\"4\",\"REP_CPS_TR06\":\"2\",\"REP_CPS_TR07\":\"18\",\"REP_CPS_TR08\":\"8\",\"REP_CPS_TR09\":\"12\",\"REP_CPS_TR10\":\"5\",\"REP_CPS_TR11\":\"13\",\"REP_CPS_TR12\":\"3\",\"REP_CPS_TR13\":\"7\",\"REP_CPS_TR14\":\"15\",\"REP_CPS_TR15\":\"1\",\"REP_CPS_TR16\":\"11\",\"REP_CPS_TR17\":\"17\",\"REP_CPS_TR18\":\"9\",\"REPERECP01\":\"5\",\"REPERECP02\":\"8\",\"REPERECP03\":\"3\",\"REPERECP04\":\"7\",\"REPERECP05\":\"2\",\"REPERECP06\":\"1\",\"REPERECP07\":\"9\",\"REPERECP08\":\"4\",\"REPERECP09\":\"6\",\"REPERECP10\":\"3\",\"REPERECP11\":\"7\",\"REPERECP12\":\"2\",\"REPERECP13\":\"4\",\"REPERECP14\":\"8\",\"REPERECP15\":\"1\",\"REPERECP16\":\"6\",\"REPERECP17\":\"9\",\"REPERECP18\":\"5\",\"REP_COD\":\"6\",\"REPEREDISTANCETOUT\":\"2105\",\"REPEREDISTANCERETOUR\":\"2140\",\"REPEREDISTANCETOTAL\":\"4245\",\"REPEREDISTANCE01\":\"310\",\"REPEREDISTANCE02\":\"250\",\"REPEREDISTANCE03\":\"205\",\"REPEREDISTANCE04\":\"265\",\"REPEREDISTANCE05\":\"80\",\"REPEREDISTANCE06\":\"380\",\"REPEREDISTANCE07\":\"100\",\"REPEREDISTANCE08\":\"250\",\"REPEREDISTANCE09\":\"265\",\"REPEREDISTANCE10\":\"310\",\"REPEREDISTANCE11\":\"205\",\"REPEREDISTANCE12\":\"100\",\"REPEREDISTANCE13\":\"250\",\"REPEREDISTANCE14\":\"265\",\"REPEREDISTANCE15\":\"380\",\"REPEREDISTANCE16\":\"265\",\"REPEREDISTANCE17\":\"115\",\"REPEREDISTANCE18\":\"250\",\"REPERESSSF\":\"67.6\",\"REPERESSSM\":\"63.1\",\"REPERESLOPEF\":\"126\",\"REPERESLOPEM\":\"119\",\"REPERESSSFTOUT\":\"33.6\",\"REPERESSSMTOUT\":\"31.5\",\"REPERESLOPEFTOUT\":\"62\",\"REPERESLOPEMTOUT\":\"59\",\"REP_SSS_DAM_RET\":\"34\",\"REP_SSS_HOM_RET\":\"31.6\",\"REP_SLP_DAM_RET\":\"64\",\"REP_SLP_HOM_RET\":\"60\",\"REP_LIB_COU\":\"Violets\",\"REP_BG_COLOR\":\"#6E6796\",\"REP_FONT_COLOR\":\"#FFFFFF\",\"REP_ALLOW_WEB\":\"01\"},\"7\":{\"GLF_COD\":\"1243\",\"GLF_LIB\":\"EXCLUSIV GOLF CHATEAU DE CELY\",\"GLF_WEB\":\"http:\\/\\/jouer.golf\\/cely\\/\",\"GLF_NBE_TRO\":\"18\",\"TER_COD\":\"01\",\"TERRAINNOMBRETROU\":\"18\",\"TER_LIB\":\"Cely\",\"TER_TXT\":null,\"TER_DTE_CRE_TER\":\"1990\",\"TER_NOM_ARCH\":\"Adam et Fromanger\",\"WT_GLF_COD\":\"1243\",\"TER_TAR_SEM_BS\":\"53\",\"TER_TAR_SEM_HT\":\"53\",\"TER_TAR_WE_BS\":\"62\",\"TER_TAR_WE_HT\":\"62\",\"TER_ACC_CVT_REQ\":\"01\",\"TER_ACC_IDX_REQ\":\"54.0\",\"TER_TEE_FORWARD\":\"00\",\"TER_LINKS\":\"00\",\"TER_BOISE\":\"00\",\"TER_VAL\":\"00\",\"TER_PLAT\":\"01\",\"TER_URB\":\"00\",\"TER_OBS_EAU\":\"01\",\"TER_ETL_DTE\":\"08\\/11\\/2017\",\"TER_HML_DTE\":\"08\\/11\\/2017\",\"TER_DTE_MAJ\":\"22\\/01\\/2021\",\"REPEREPAR01\":\"5\",\"REPEREPAR02\":\"4\",\"REPEREPAR03\":\"4\",\"REPEREPAR04\":\"4\",\"REPEREPAR05\":\"3\",\"REPEREPAR06\":\"5\",\"REPEREPAR07\":\"3\",\"REPEREPAR08\":\"4\",\"REPEREPAR09\":\"4\",\"REPEREPAR10\":\"5\",\"REPEREPAR11\":\"4\",\"REPEREPAR12\":\"3\",\"REPEREPAR13\":\"4\",\"REPEREPAR14\":\"4\",\"REPEREPAR15\":\"5\",\"REPEREPAR16\":\"4\",\"REPEREPAR17\":\"3\",\"REPEREPAR18\":\"4\",\"REP_PAR\":\"72\",\"REP_PAR_ALL\":\"36\",\"REP_PAR_RET\":\"36\",\"TERRAINTEMPS01\":\"00:17\",\"TERRAINTEMPS02\":\"00:14\",\"TERRAINTEMPS03\":\"00:14\",\"TERRAINTEMPS04\":\"00:14\",\"TERRAINTEMPS05\":\"00:11\",\"TERRAINTEMPS06\":\"00:17\",\"TERRAINTEMPS07\":\"00:11\",\"TERRAINTEMPS08\":\"00:14\",\"TERRAINTEMPS09\":\"00:14\",\"TERRAINTEMPS10\":\"00:17\",\"TERRAINTEMPS11\":\"00:14\",\"TERRAINTEMPS12\":\"00:11\",\"TERRAINTEMPS13\":\"00:14\",\"TERRAINTEMPS14\":\"00:14\",\"TERRAINTEMPS15\":\"00:17\",\"TERRAINTEMPS16\":\"00:14\",\"TERRAINTEMPS17\":\"00:11\",\"TERRAINTEMPS18\":\"00:14\",\"TER_TPS_MOY\":\"04:12\",\"TER_TPS_ALL\":\"02:06\",\"TER_TPS_RET\":\"02:06\",\"REP_CPS_TR01\":\"10\",\"REP_CPS_TR02\":\"16\",\"REP_CPS_TR03\":\"6\",\"REP_CPS_TR04\":\"14\",\"REP_CPS_TR05\":\"4\",\"REP_CPS_TR06\":\"2\",\"REP_CPS_TR07\":\"18\",\"REP_CPS_TR08\":\"8\",\"REP_CPS_TR09\":\"12\",\"REP_CPS_TR10\":\"5\",\"REP_CPS_TR11\":\"13\",\"REP_CPS_TR12\":\"3\",\"REP_CPS_TR13\":\"7\",\"REP_CPS_TR14\":\"15\",\"REP_CPS_TR15\":\"1\",\"REP_CPS_TR16\":\"11\",\"REP_CPS_TR17\":\"17\",\"REP_CPS_TR18\":\"9\",\"REPERECP01\":\"5\",\"REPERECP02\":\"8\",\"REPERECP03\":\"3\",\"REPERECP04\":\"7\",\"REPERECP05\":\"2\",\"REPERECP06\":\"1\",\"REPERECP07\":\"9\",\"REPERECP08\":\"4\",\"REPERECP09\":\"6\",\"REPERECP10\":\"3\",\"REPERECP11\":\"7\",\"REPERECP12\":\"2\",\"REPERECP13\":\"4\",\"REPERECP14\":\"8\",\"REPERECP15\":\"1\",\"REPERECP16\":\"6\",\"REPERECP17\":\"9\",\"REPERECP18\":\"5\",\"REP_COD\":\"7\",\"REPEREDISTANCETOUT\":\"1280\",\"REPEREDISTANCERETOUR\":\"1245\",\"REPEREDISTANCETOTAL\":\"2525\",\"REPEREDISTANCE01\":\"220\",\"REPEREDISTANCE02\":\"120\",\"REPEREDISTANCE03\":\"120\",\"REPEREDISTANCE04\":\"130\",\"REPEREDISTANCE05\":\"60\",\"REPEREDISTANCE06\":\"280\",\"REPEREDISTANCE07\":\"80\",\"REPEREDISTANCE08\":\"135\",\"REPEREDISTANCE09\":\"135\",\"REPEREDISTANCE10\":\"200\",\"REPEREDISTANCE11\":\"135\",\"REPEREDISTANCE12\":\"70\",\"REPEREDISTANCE13\":\"135\",\"REPEREDISTANCE14\":\"135\",\"REPEREDISTANCE15\":\"200\",\"REPEREDISTANCE16\":\"145\",\"REPEREDISTANCE17\":\"90\",\"REPEREDISTANCE18\":\"135\",\"REPERESSSF\":\"54\",\"REPERESSSM\":\"54\",\"REPERESLOPEF\":\"100\",\"REPERESLOPEM\":\"100\",\"REPERESSSFTOUT\":\"27\",\"REPERESSSMTOUT\":\"27\",\"REPERESLOPEFTOUT\":\"50\",\"REPERESLOPEMTOUT\":\"50\",\"REP_SSS_DAM_RET\":\"27\",\"REP_SSS_HOM_RET\":\"27\",\"REP_SLP_DAM_RET\":\"50\",\"REP_SLP_HOM_RET\":\"50\",\"REP_LIB_COU\":\"Oranges\",\"REP_BG_COLOR\":\"#E7873C\",\"REP_FONT_COLOR\":\"#FFFFFF\",\"REP_ALLOW_WEB\":\"01\"},\"10\":{\"GLF_COD\":\"1243\",\"GLF_LIB\":\"EXCLUSIV GOLF CHATEAU DE CELY\",\"GLF_WEB\":\"http:\\/\\/jouer.golf\\/cely\\/\",\"GLF_NBE_TRO\":\"18\",\"TER_COD\":\"01\",\"TERRAINNOMBRETROU\":\"18\",\"TER_LIB\":\"Cely\",\"TER_TXT\":null,\"TER_DTE_CRE_TER\":\"1990\",\"TER_NOM_ARCH\":\"Adam et Fromanger\",\"WT_GLF_COD\":\"1243\",\"TER_TAR_SEM_BS\":\"53\",\"TER_TAR_SEM_HT\":\"53\",\"TER_TAR_WE_BS\":\"62\",\"TER_TAR_WE_HT\":\"62\",\"TER_ACC_CVT_REQ\":\"01\",\"TER_ACC_IDX_REQ\":\"54.0\",\"TER_TEE_FORWARD\":\"00\",\"TER_LINKS\":\"00\",\"TER_BOISE\":\"00\",\"TER_VAL\":\"00\",\"TER_PLAT\":\"01\",\"TER_URB\":\"00\",\"TER_OBS_EAU\":\"01\",\"TER_ETL_DTE\":null,\"TER_HML_DTE\":\"05\\/09\\/2019\",\"TER_DTE_MAJ\":\"05\\/09\\/2019\",\"REPEREPAR01\":\"5\",\"REPEREPAR02\":\"4\",\"REPEREPAR03\":\"4\",\"REPEREPAR04\":\"4\",\"REPEREPAR05\":\"3\",\"REPEREPAR06\":\"5\",\"REPEREPAR07\":\"3\",\"REPEREPAR08\":\"4\",\"REPEREPAR09\":\"4\",\"REPEREPAR10\":\"5\",\"REPEREPAR11\":\"4\",\"REPEREPAR12\":\"3\",\"REPEREPAR13\":\"4\",\"REPEREPAR14\":\"4\",\"REPEREPAR15\":\"5\",\"REPEREPAR16\":\"4\",\"REPEREPAR17\":\"3\",\"REPEREPAR18\":\"4\",\"REP_PAR\":\"72\",\"REP_PAR_ALL\":\"36\",\"REP_PAR_RET\":\"36\",\"TERRAINTEMPS01\":\"00:17\",\"TERRAINTEMPS02\":\"00:14\",\"TERRAINTEMPS03\":\"00:14\",\"TERRAINTEMPS04\":\"00:14\",\"TERRAINTEMPS05\":\"00:11\",\"TERRAINTEMPS06\":\"00:17\",\"TERRAINTEMPS07\":\"00:11\",\"TERRAINTEMPS08\":\"00:14\",\"TERRAINTEMPS09\":\"00:14\",\"TERRAINTEMPS10\":\"00:17\",\"TERRAINTEMPS11\":\"00:14\",\"TERRAINTEMPS12\":\"00:11\",\"TERRAINTEMPS13\":\"00:14\",\"TERRAINTEMPS14\":\"00:14\",\"TERRAINTEMPS15\":\"00:17\",\"TERRAINTEMPS16\":\"00:14\",\"TERRAINTEMPS17\":\"00:11\",\"TERRAINTEMPS18\":\"00:14\",\"TER_TPS_MOY\":null,\"TER_TPS_ALL\":null,\"TER_TPS_RET\":null,\"REP_CPS_TR01\":\"10\",\"REP_CPS_TR02\":\"16\",\"REP_CPS_TR03\":\"6\",\"REP_CPS_TR04\":\"14\",\"REP_CPS_TR05\":\"4\",\"REP_CPS_TR06\":\"2\",\"REP_CPS_TR07\":\"18\",\"REP_CPS_TR08\":\"8\",\"REP_CPS_TR09\":\"12\",\"REP_CPS_TR10\":\"5\",\"REP_CPS_TR11\":\"13\",\"REP_CPS_TR12\":\"3\",\"REP_CPS_TR13\":\"7\",\"REP_CPS_TR14\":\"15\",\"REP_CPS_TR15\":\"1\",\"REP_CPS_TR16\":\"11\",\"REP_CPS_TR17\":\"17\",\"REP_CPS_TR18\":\"9\",\"REPERECP01\":\"5\",\"REPERECP02\":\"8\",\"REPERECP03\":\"3\",\"REPERECP04\":\"7\",\"REPERECP05\":\"2\",\"REPERECP06\":\"1\",\"REPERECP07\":\"9\",\"REPERECP08\":\"4\",\"REPERECP09\":\"6\",\"REPERECP10\":\"3\",\"REPERECP11\":\"7\",\"REPERECP12\":\"2\",\"REPERECP13\":\"4\",\"REPERECP14\":\"8\",\"REPERECP15\":\"1\",\"REPERECP16\":\"6\",\"REPERECP17\":\"9\",\"REPERECP18\":\"5\",\"REP_COD\":\"10\",\"REPEREDISTANCETOUT\":\"2808\",\"REPEREDISTANCERETOUR\":\"2959\",\"REPEREDISTANCETOTAL\":\"5767\",\"REPEREDISTANCE01\":\"444\",\"REPEREDISTANCE02\":\"312\",\"REPEREDISTANCE03\":\"327\",\"REPEREDISTANCE04\":\"328\",\"REPEREDISTANCE05\":\"111\",\"REPEREDISTANCE06\":\"521\",\"REPEREDISTANCE07\":\"143\",\"REPEREDISTANCE08\":\"307\",\"REPEREDISTANCE09\":\"315\",\"REPEREDISTANCE10\":\"425\",\"REPEREDISTANCE11\":\"318\",\"REPEREDISTANCE12\":\"162\",\"REPEREDISTANCE13\":\"328\",\"REPEREDISTANCE14\":\"330\",\"REPEREDISTANCE15\":\"551\",\"REPEREDISTANCE16\":\"335\",\"REPEREDISTANCE17\":\"145\",\"REPEREDISTANCE18\":\"365\",\"REPERESSSF\":\"0\",\"REPERESSSM\":\"71.1\",\"REPERESLOPEF\":\"0\",\"REPERESLOPEM\":\"138\",\"REPERESSSFTOUT\":\"0\",\"REPERESSSMTOUT\":\"35.4\",\"REPERESLOPEFTOUT\":\"0\",\"REPERESLOPEMTOUT\":\"68\",\"REP_SSS_DAM_RET\":\"0\",\"REP_SSS_HOM_RET\":\"35.7\",\"REP_SLP_DAM_RET\":\"0\",\"REP_SLP_HOM_RET\":\"70\",\"REP_LIB_COU\":\"Min G\",\"REP_BG_COLOR\":\"#FFFFFF\",\"REP_FONT_COLOR\":\"#FFFFFF\",\"REP_ALLOW_WEB\":\"01\"},\"11\":{\"GLF_COD\":\"1243\",\"GLF_LIB\":\"EXCLUSIV GOLF CHATEAU DE CELY\",\"GLF_WEB\":\"http:\\/\\/jouer.golf\\/cely\\/\",\"GLF_NBE_TRO\":\"18\",\"TER_COD\":\"01\",\"TERRAINNOMBRETROU\":\"18\",\"TER_LIB\":\"Cely\",\"TER_TXT\":null,\"TER_DTE_CRE_TER\":\"1990\",\"TER_NOM_ARCH\":\"Adam et Fromanger\",\"WT_GLF_COD\":\"1243\",\"TER_TAR_SEM_BS\":\"53\",\"TER_TAR_SEM_HT\":\"53\",\"TER_TAR_WE_BS\":\"62\",\"TER_TAR_WE_HT\":\"62\",\"TER_ACC_CVT_REQ\":\"01\",\"TER_ACC_IDX_REQ\":\"54.0\",\"TER_TEE_FORWARD\":\"00\",\"TER_LINKS\":\"00\",\"TER_BOISE\":\"00\",\"TER_VAL\":\"00\",\"TER_PLAT\":\"01\",\"TER_URB\":\"00\",\"TER_OBS_EAU\":\"01\",\"TER_ETL_DTE\":null,\"TER_HML_DTE\":\"05\\/09\\/2019\",\"TER_DTE_MAJ\":\"05\\/09\\/2019\",\"REPEREPAR01\":\"5\",\"REPEREPAR02\":\"4\",\"REPEREPAR03\":\"4\",\"REPEREPAR04\":\"4\",\"REPEREPAR05\":\"3\",\"REPEREPAR06\":\"5\",\"REPEREPAR07\":\"3\",\"REPEREPAR08\":\"4\",\"REPEREPAR09\":\"4\",\"REPEREPAR10\":\"5\",\"REPEREPAR11\":\"4\",\"REPEREPAR12\":\"3\",\"REPEREPAR13\":\"4\",\"REPEREPAR14\":\"4\",\"REPEREPAR15\":\"5\",\"REPEREPAR16\":\"4\",\"REPEREPAR17\":\"3\",\"REPEREPAR18\":\"4\",\"REP_PAR\":\"72\",\"REP_PAR_ALL\":\"36\",\"REP_PAR_RET\":\"36\",\"TERRAINTEMPS01\":\"00:17\",\"TERRAINTEMPS02\":\"00:14\",\"TERRAINTEMPS03\":\"00:14\",\"TERRAINTEMPS04\":\"00:14\",\"TERRAINTEMPS05\":\"00:11\",\"TERRAINTEMPS06\":\"00:17\",\"TERRAINTEMPS07\":\"00:11\",\"TERRAINTEMPS08\":\"00:14\",\"TERRAINTEMPS09\":\"00:14\",\"TERRAINTEMPS10\":\"00:17\",\"TERRAINTEMPS11\":\"00:14\",\"TERRAINTEMPS12\":\"00:11\",\"TERRAINTEMPS13\":\"00:14\",\"TERRAINTEMPS14\":\"00:14\",\"TERRAINTEMPS15\":\"00:17\",\"TERRAINTEMPS16\":\"00:14\",\"TERRAINTEMPS17\":\"00:11\",\"TERRAINTEMPS18\":\"00:14\",\"TER_TPS_MOY\":null,\"TER_TPS_ALL\":null,\"TER_TPS_RET\":null,\"REP_CPS_TR01\":\"10\",\"REP_CPS_TR02\":\"16\",\"REP_CPS_TR03\":\"6\",\"REP_CPS_TR04\":\"14\",\"REP_CPS_TR05\":\"4\",\"REP_CPS_TR06\":\"2\",\"REP_CPS_TR07\":\"18\",\"REP_CPS_TR08\":\"8\",\"REP_CPS_TR09\":\"12\",\"REP_CPS_TR10\":\"5\",\"REP_CPS_TR11\":\"13\",\"REP_CPS_TR12\":\"3\",\"REP_CPS_TR13\":\"7\",\"REP_CPS_TR14\":\"15\",\"REP_CPS_TR15\":\"1\",\"REP_CPS_TR16\":\"11\",\"REP_CPS_TR17\":\"17\",\"REP_CPS_TR18\":\"9\",\"REPERECP01\":\"5\",\"REPERECP02\":\"8\",\"REPERECP03\":\"3\",\"REPERECP04\":\"7\",\"REPERECP05\":\"2\",\"REPERECP06\":\"1\",\"REPERECP07\":\"9\",\"REPERECP08\":\"4\",\"REPERECP09\":\"6\",\"REPERECP10\":\"3\",\"REPERECP11\":\"7\",\"REPERECP12\":\"2\",\"REPERECP13\":\"4\",\"REPERECP14\":\"8\",\"REPERECP15\":\"1\",\"REPERECP16\":\"6\",\"REPERECP17\":\"9\",\"REPERECP18\":\"5\",\"REP_COD\":\"11\",\"REPEREDISTANCETOUT\":\"2666\",\"REPEREDISTANCERETOUR\":\"2789\",\"REPEREDISTANCETOTAL\":\"5455\",\"REPEREDISTANCE01\":\"409\",\"REPEREDISTANCE02\":\"312\",\"REPEREDISTANCE03\":\"327\",\"REPEREDISTANCE04\":\"301\",\"REPEREDISTANCE05\":\"111\",\"REPEREDISTANCE06\":\"441\",\"REPEREDISTANCE07\":\"143\",\"REPEREDISTANCE08\":\"307\",\"REPEREDISTANCE09\":\"315\",\"REPEREDISTANCE10\":\"414\",\"REPEREDISTANCE11\":\"318\",\"REPEREDISTANCE12\":\"131\",\"REPEREDISTANCE13\":\"270\",\"REPEREDISTANCE14\":\"330\",\"REPEREDISTANCE15\":\"493\",\"REPEREDISTANCE16\":\"335\",\"REPEREDISTANCE17\":\"133\",\"REPEREDISTANCE18\":\"365\",\"REPERESSSF\":\"0\",\"REPERESSSM\":\"69.4\",\"REPERESLOPEF\":\"0\",\"REPERESLOPEM\":\"133\",\"REPERESSSFTOUT\":\"0\",\"REPERESSSMTOUT\":\"34.6\",\"REPERESLOPEFTOUT\":\"0\",\"REPERESLOPEMTOUT\":\"65\",\"REP_SSS_DAM_RET\":\"0\",\"REP_SSS_HOM_RET\":\"34.8\",\"REP_SLP_DAM_RET\":\"0\",\"REP_SLP_HOM_RET\":\"68\",\"REP_LIB_COU\":\"Ben G\",\"REP_BG_COLOR\":\"#FFFF00\",\"REP_FONT_COLOR\":\"#FFFFFF\",\"REP_ALLOW_WEB\":\"01\"},\"12\":{\"GLF_COD\":\"1243\",\"GLF_LIB\":\"EXCLUSIV GOLF CHATEAU DE CELY\",\"GLF_WEB\":\"http:\\/\\/jouer.golf\\/cely\\/\",\"GLF_NBE_TRO\":\"18\",\"TER_COD\":\"01\",\"TERRAINNOMBRETROU\":\"18\",\"TER_LIB\":\"Cely\",\"TER_TXT\":null,\"TER_DTE_CRE_TER\":\"1990\",\"TER_NOM_ARCH\":\"Adam et Fromanger\",\"WT_GLF_COD\":\"1243\",\"TER_TAR_SEM_BS\":\"53\",\"TER_TAR_SEM_HT\":\"53\",\"TER_TAR_WE_BS\":\"62\",\"TER_TAR_WE_HT\":\"62\",\"TER_ACC_CVT_REQ\":\"01\",\"TER_ACC_IDX_REQ\":\"54.0\",\"TER_TEE_FORWARD\":\"00\",\"TER_LINKS\":\"00\",\"TER_BOISE\":\"00\",\"TER_VAL\":\"00\",\"TER_PLAT\":\"01\",\"TER_URB\":\"00\",\"TER_OBS_EAU\":\"01\",\"TER_ETL_DTE\":null,\"TER_HML_DTE\":\"05\\/09\\/2019\",\"TER_DTE_MAJ\":\"05\\/09\\/2019\",\"REPEREPAR01\":\"5\",\"REPEREPAR02\":\"4\",\"REPEREPAR03\":\"4\",\"REPEREPAR04\":\"4\",\"REPEREPAR05\":\"3\",\"REPEREPAR06\":\"5\",\"REPEREPAR07\":\"3\",\"REPEREPAR08\":\"4\",\"REPEREPAR09\":\"4\",\"REPEREPAR10\":\"5\",\"REPEREPAR11\":\"4\",\"REPEREPAR12\":\"3\",\"REPEREPAR13\":\"4\",\"REPEREPAR14\":\"4\",\"REPEREPAR15\":\"5\",\"REPEREPAR16\":\"4\",\"REPEREPAR17\":\"3\",\"REPEREPAR18\":\"4\",\"REP_PAR\":\"72\",\"REP_PAR_ALL\":\"36\",\"REP_PAR_RET\":\"36\",\"TERRAINTEMPS01\":\"00:17\",\"TERRAINTEMPS02\":\"00:14\",\"TERRAINTEMPS03\":\"00:14\",\"TERRAINTEMPS04\":\"00:14\",\"TERRAINTEMPS05\":\"00:11\",\"TERRAINTEMPS06\":\"00:17\",\"TERRAINTEMPS07\":\"00:11\",\"TERRAINTEMPS08\":\"00:14\",\"TERRAINTEMPS09\":\"00:14\",\"TERRAINTEMPS10\":\"00:17\",\"TERRAINTEMPS11\":\"00:14\",\"TERRAINTEMPS12\":\"00:11\",\"TERRAINTEMPS13\":\"00:14\",\"TERRAINTEMPS14\":\"00:14\",\"TERRAINTEMPS15\":\"00:17\",\"TERRAINTEMPS16\":\"00:14\",\"TERRAINTEMPS17\":\"00:11\",\"TERRAINTEMPS18\":\"00:14\",\"TER_TPS_MOY\":null,\"TER_TPS_ALL\":null,\"TER_TPS_RET\":null,\"REP_CPS_TR01\":\"10\",\"REP_CPS_TR02\":\"16\",\"REP_CPS_TR03\":\"6\",\"REP_CPS_TR04\":\"14\",\"REP_CPS_TR05\":\"4\",\"REP_CPS_TR06\":\"2\",\"REP_CPS_TR07\":\"18\",\"REP_CPS_TR08\":\"8\",\"REP_CPS_TR09\":\"12\",\"REP_CPS_TR10\":\"5\",\"REP_CPS_TR11\":\"13\",\"REP_CPS_TR12\":\"3\",\"REP_CPS_TR13\":\"7\",\"REP_CPS_TR14\":\"15\",\"REP_CPS_TR15\":\"1\",\"REP_CPS_TR16\":\"11\",\"REP_CPS_TR17\":\"17\",\"REP_CPS_TR18\":\"9\",\"REPERECP01\":\"5\",\"REPERECP02\":\"8\",\"REPERECP03\":\"3\",\"REPERECP04\":\"7\",\"REPERECP05\":\"2\",\"REPERECP06\":\"1\",\"REPERECP07\":\"9\",\"REPERECP08\":\"4\",\"REPERECP09\":\"6\",\"REPERECP10\":\"3\",\"REPERECP11\":\"7\",\"REPERECP12\":\"2\",\"REPERECP13\":\"4\",\"REPERECP14\":\"8\",\"REPERECP15\":\"1\",\"REPERECP16\":\"6\",\"REPERECP17\":\"9\",\"REPERECP18\":\"5\",\"REP_COD\":\"12\",\"REPEREDISTANCETOUT\":\"2438\",\"REPEREDISTANCERETOUR\":\"2399\",\"REPEREDISTANCETOTAL\":\"4837\",\"REPEREDISTANCE01\":\"364\",\"REPEREDISTANCE02\":\"282\",\"REPEREDISTANCE03\":\"298\",\"REPEREDISTANCE04\":\"301\",\"REPEREDISTANCE05\":\"101\",\"REPEREDISTANCE06\":\"441\",\"REPEREDISTANCE07\":\"123\",\"REPEREDISTANCE08\":\"284\",\"REPEREDISTANCE09\":\"244\",\"REPEREDISTANCE10\":\"372\",\"REPEREDISTANCE11\":\"236\",\"REPEREDISTANCE12\":\"122\",\"REPEREDISTANCE13\":\"270\",\"REPEREDISTANCE14\":\"305\",\"REPEREDISTANCE15\":\"380\",\"REPEREDISTANCE16\":\"294\",\"REPEREDISTANCE17\":\"91\",\"REPEREDISTANCE18\":\"329\",\"REPERESSSF\":\"0\",\"REPERESSSM\":\"67.4\",\"REPERESLOPEF\":\"0\",\"REPERESLOPEM\":\"128\",\"REPERESSSFTOUT\":\"0\",\"REPERESSSMTOUT\":\"33.6\",\"REPERESLOPEFTOUT\":\"0\",\"REPERESLOPEMTOUT\":\"63\",\"REP_SSS_DAM_RET\":\"0\",\"REP_SSS_HOM_RET\":\"33.8\",\"REP_SLP_DAM_RET\":\"0\",\"REP_SLP_HOM_RET\":\"65\",\"REP_LIB_COU\":\"U12 G\",\"REP_BG_COLOR\":\"#8A8D8F\",\"REP_FONT_COLOR\":\"#FFFFFF\",\"REP_ALLOW_WEB\":\"01\"},\"20\":{\"GLF_COD\":\"1243\",\"GLF_LIB\":\"EXCLUSIV GOLF CHATEAU DE CELY\",\"GLF_WEB\":\"http:\\/\\/jouer.golf\\/cely\\/\",\"GLF_NBE_TRO\":\"18\",\"TER_COD\":\"01\",\"TERRAINNOMBRETROU\":\"18\",\"TER_LIB\":\"Cely\",\"TER_TXT\":null,\"TER_DTE_CRE_TER\":\"1990\",\"TER_NOM_ARCH\":\"Adam et Fromanger\",\"WT_GLF_COD\":\"1243\",\"TER_TAR_SEM_BS\":\"53\",\"TER_TAR_SEM_HT\":\"53\",\"TER_TAR_WE_BS\":\"62\",\"TER_TAR_WE_HT\":\"62\",\"TER_ACC_CVT_REQ\":\"01\",\"TER_ACC_IDX_REQ\":\"54.0\",\"TER_TEE_FORWARD\":\"00\",\"TER_LINKS\":\"00\",\"TER_BOISE\":\"00\",\"TER_VAL\":\"00\",\"TER_PLAT\":\"01\",\"TER_URB\":\"00\",\"TER_OBS_EAU\":\"01\",\"TER_ETL_DTE\":null,\"TER_HML_DTE\":\"05\\/09\\/2019\",\"TER_DTE_MAJ\":\"05\\/09\\/2019\",\"REPEREPAR01\":\"5\",\"REPEREPAR02\":\"4\",\"REPEREPAR03\":\"4\",\"REPEREPAR04\":\"4\",\"REPEREPAR05\":\"3\",\"REPEREPAR06\":\"5\",\"REPEREPAR07\":\"3\",\"REPEREPAR08\":\"4\",\"REPEREPAR09\":\"4\",\"REPEREPAR10\":\"5\",\"REPEREPAR11\":\"4\",\"REPEREPAR12\":\"3\",\"REPEREPAR13\":\"4\",\"REPEREPAR14\":\"4\",\"REPEREPAR15\":\"5\",\"REPEREPAR16\":\"4\",\"REPEREPAR17\":\"3\",\"REPEREPAR18\":\"4\",\"REP_PAR\":\"72\",\"REP_PAR_ALL\":\"36\",\"REP_PAR_RET\":\"36\",\"TERRAINTEMPS01\":\"00:17\",\"TERRAINTEMPS02\":\"00:14\",\"TERRAINTEMPS03\":\"00:14\",\"TERRAINTEMPS04\":\"00:14\",\"TERRAINTEMPS05\":\"00:11\",\"TERRAINTEMPS06\":\"00:17\",\"TERRAINTEMPS07\":\"00:11\",\"TERRAINTEMPS08\":\"00:14\",\"TERRAINTEMPS09\":\"00:14\",\"TERRAINTEMPS10\":\"00:17\",\"TERRAINTEMPS11\":\"00:14\",\"TERRAINTEMPS12\":\"00:11\",\"TERRAINTEMPS13\":\"00:14\",\"TERRAINTEMPS14\":\"00:14\",\"TERRAINTEMPS15\":\"00:17\",\"TERRAINTEMPS16\":\"00:14\",\"TERRAINTEMPS17\":\"00:11\",\"TERRAINTEMPS18\":\"00:14\",\"TER_TPS_MOY\":null,\"TER_TPS_ALL\":null,\"TER_TPS_RET\":null,\"REP_CPS_TR01\":\"10\",\"REP_CPS_TR02\":\"16\",\"REP_CPS_TR03\":\"6\",\"REP_CPS_TR04\":\"14\",\"REP_CPS_TR05\":\"4\",\"REP_CPS_TR06\":\"2\",\"REP_CPS_TR07\":\"18\",\"REP_CPS_TR08\":\"8\",\"REP_CPS_TR09\":\"12\",\"REP_CPS_TR10\":\"5\",\"REP_CPS_TR11\":\"13\",\"REP_CPS_TR12\":\"3\",\"REP_CPS_TR13\":\"7\",\"REP_CPS_TR14\":\"15\",\"REP_CPS_TR15\":\"1\",\"REP_CPS_TR16\":\"11\",\"REP_CPS_TR17\":\"17\",\"REP_CPS_TR18\":\"9\",\"REPERECP01\":\"5\",\"REPERECP02\":\"8\",\"REPERECP03\":\"3\",\"REPERECP04\":\"7\",\"REPERECP05\":\"2\",\"REPERECP06\":\"1\",\"REPERECP07\":\"9\",\"REPERECP08\":\"4\",\"REPERECP09\":\"6\",\"REPERECP10\":\"3\",\"REPERECP11\":\"7\",\"REPERECP12\":\"2\",\"REPERECP13\":\"4\",\"REPERECP14\":\"8\",\"REPERECP15\":\"1\",\"REPERECP16\":\"6\",\"REPERECP17\":\"9\",\"REPERECP18\":\"5\",\"REP_COD\":\"20\",\"REPEREDISTANCETOUT\":\"2424\",\"REPEREDISTANCERETOUR\":\"2570\",\"REPEREDISTANCETOTAL\":\"4994\",\"REPEREDISTANCE01\":\"390\",\"REPEREDISTANCE02\":\"282\",\"REPEREDISTANCE03\":\"298\",\"REPEREDISTANCE04\":\"270\",\"REPEREDISTANCE05\":\"101\",\"REPEREDISTANCE06\":\"441\",\"REPEREDISTANCE07\":\"119\",\"REPEREDISTANCE08\":\"261\",\"REPEREDISTANCE09\":\"262\",\"REPEREDISTANCE10\":\"356\",\"REPEREDISTANCE11\":\"298\",\"REPEREDISTANCE12\":\"122\",\"REPEREDISTANCE13\":\"286\",\"REPEREDISTANCE14\":\"305\",\"REPEREDISTANCE15\":\"493\",\"REPEREDISTANCE16\":\"294\",\"REPEREDISTANCE17\":\"107\",\"REPEREDISTANCE18\":\"309\",\"REPERESSSF\":\"72.3\",\"REPERESSSM\":\"0\",\"REPERESLOPEF\":\"129\",\"REPERESLOPEM\":\"0\",\"REPERESSSFTOUT\":\"35.6\",\"REPERESSSMTOUT\":\"0\",\"REPERESLOPEFTOUT\":\"64\",\"REPERESLOPEMTOUT\":\"0\",\"REP_SSS_DAM_RET\":\"36.7\",\"REP_SSS_HOM_RET\":\"0\",\"REP_SLP_DAM_RET\":\"65\",\"REP_SLP_HOM_RET\":\"0\",\"REP_LIB_COU\":\"Min F\",\"REP_BG_COLOR\":\"#0000FF\",\"REP_FONT_COLOR\":\"#000000\",\"REP_ALLOW_WEB\":\"01\"},\"21\":{\"GLF_COD\":\"1243\",\"GLF_LIB\":\"EXCLUSIV GOLF CHATEAU DE CELY\",\"GLF_WEB\":\"http:\\/\\/jouer.golf\\/cely\\/\",\"GLF_NBE_TRO\":\"18\",\"TER_COD\":\"01\",\"TERRAINNOMBRETROU\":\"18\",\"TER_LIB\":\"Cely\",\"TER_TXT\":null,\"TER_DTE_CRE_TER\":\"1990\",\"TER_NOM_ARCH\":\"Adam et Fromanger\",\"WT_GLF_COD\":\"1243\",\"TER_TAR_SEM_BS\":\"53\",\"TER_TAR_SEM_HT\":\"53\",\"TER_TAR_WE_BS\":\"62\",\"TER_TAR_WE_HT\":\"62\",\"TER_ACC_CVT_REQ\":\"01\",\"TER_ACC_IDX_REQ\":\"54.0\",\"TER_TEE_FORWARD\":\"00\",\"TER_LINKS\":\"00\",\"TER_BOISE\":\"00\",\"TER_VAL\":\"00\",\"TER_PLAT\":\"01\",\"TER_URB\":\"00\",\"TER_OBS_EAU\":\"01\",\"TER_ETL_DTE\":null,\"TER_HML_DTE\":\"05\\/09\\/2019\",\"TER_DTE_MAJ\":\"05\\/09\\/2019\",\"REPEREPAR01\":\"5\",\"REPEREPAR02\":\"4\",\"REPEREPAR03\":\"4\",\"REPEREPAR04\":\"4\",\"REPEREPAR05\":\"3\",\"REPEREPAR06\":\"5\",\"REPEREPAR07\":\"3\",\"REPEREPAR08\":\"4\",\"REPEREPAR09\":\"4\",\"REPEREPAR10\":\"5\",\"REPEREPAR11\":\"4\",\"REPEREPAR12\":\"3\",\"REPEREPAR13\":\"4\",\"REPEREPAR14\":\"4\",\"REPEREPAR15\":\"5\",\"REPEREPAR16\":\"4\",\"REPEREPAR17\":\"3\",\"REPEREPAR18\":\"4\",\"REP_PAR\":\"72\",\"REP_PAR_ALL\":\"36\",\"REP_PAR_RET\":\"36\",\"TERRAINTEMPS01\":\"00:17\",\"TERRAINTEMPS02\":\"00:14\",\"TERRAINTEMPS03\":\"00:14\",\"TERRAINTEMPS04\":\"00:14\",\"TERRAINTEMPS05\":\"00:11\",\"TERRAINTEMPS06\":\"00:17\",\"TERRAINTEMPS07\":\"00:11\",\"TERRAINTEMPS08\":\"00:14\",\"TERRAINTEMPS09\":\"00:14\",\"TERRAINTEMPS10\":\"00:17\",\"TERRAINTEMPS11\":\"00:14\",\"TERRAINTEMPS12\":\"00:11\",\"TERRAINTEMPS13\":\"00:14\",\"TERRAINTEMPS14\":\"00:14\",\"TERRAINTEMPS15\":\"00:17\",\"TERRAINTEMPS16\":\"00:14\",\"TERRAINTEMPS17\":\"00:11\",\"TERRAINTEMPS18\":\"00:14\",\"TER_TPS_MOY\":null,\"TER_TPS_ALL\":null,\"TER_TPS_RET\":null,\"REP_CPS_TR01\":\"10\",\"REP_CPS_TR02\":\"16\",\"REP_CPS_TR03\":\"6\",\"REP_CPS_TR04\":\"14\",\"REP_CPS_TR05\":\"4\",\"REP_CPS_TR06\":\"2\",\"REP_CPS_TR07\":\"18\",\"REP_CPS_TR08\":\"8\",\"REP_CPS_TR09\":\"12\",\"REP_CPS_TR10\":\"5\",\"REP_CPS_TR11\":\"13\",\"REP_CPS_TR12\":\"3\",\"REP_CPS_TR13\":\"7\",\"REP_CPS_TR14\":\"15\",\"REP_CPS_TR15\":\"1\",\"REP_CPS_TR16\":\"11\",\"REP_CPS_TR17\":\"17\",\"REP_CPS_TR18\":\"9\",\"REPERECP01\":\"5\",\"REPERECP02\":\"8\",\"REPERECP03\":\"3\",\"REPERECP04\":\"7\",\"REPERECP05\":\"2\",\"REPERECP06\":\"1\",\"REPERECP07\":\"9\",\"REPERECP08\":\"4\",\"REPERECP09\":\"6\",\"REPERECP10\":\"3\",\"REPERECP11\":\"7\",\"REPERECP12\":\"2\",\"REPERECP13\":\"4\",\"REPERECP14\":\"8\",\"REPERECP15\":\"1\",\"REPERECP16\":\"6\",\"REPERECP17\":\"9\",\"REPERECP18\":\"5\",\"REP_COD\":\"21\",\"REPEREDISTANCETOUT\":\"2337\",\"REPEREDISTANCERETOUR\":\"2339\",\"REPEREDISTANCETOTAL\":\"4676\",\"REPEREDISTANCE01\":\"364\",\"REPEREDISTANCE02\":\"282\",\"REPEREDISTANCE03\":\"298\",\"REPEREDISTANCE04\":\"270\",\"REPEREDISTANCE05\":\"101\",\"REPEREDISTANCE06\":\"380\",\"REPEREDISTANCE07\":\"119\",\"REPEREDISTANCE08\":\"261\",\"REPEREDISTANCE09\":\"262\",\"REPEREDISTANCE10\":\"356\",\"REPEREDISTANCE11\":\"236\",\"REPEREDISTANCE12\":\"122\",\"REPEREDISTANCE13\":\"270\",\"REPEREDISTANCE14\":\"281\",\"REPEREDISTANCE15\":\"380\",\"REPEREDISTANCE16\":\"294\",\"REPEREDISTANCE17\":\"91\",\"REPEREDISTANCE18\":\"309\",\"REPERESSSF\":\"70.3\",\"REPERESSSM\":\"0\",\"REPERESLOPEF\":\"124\",\"REPERESLOPEM\":\"0\",\"REPERESSSFTOUT\":\"34.6\",\"REPERESSSMTOUT\":\"0\",\"REPERESLOPEFTOUT\":\"61\",\"REPERESLOPEMTOUT\":\"0\",\"REP_SSS_DAM_RET\":\"35.7\",\"REP_SSS_HOM_RET\":\"0\",\"REP_SLP_DAM_RET\":\"63\",\"REP_SLP_HOM_RET\":\"0\",\"REP_LIB_COU\":\"Ben F\",\"REP_BG_COLOR\":\"#FF0000\",\"REP_FONT_COLOR\":\"#000000\",\"REP_ALLOW_WEB\":\"01\"},\"22\":{\"GLF_COD\":\"1243\",\"GLF_LIB\":\"EXCLUSIV GOLF CHATEAU DE CELY\",\"GLF_WEB\":\"http:\\/\\/jouer.golf\\/cely\\/\",\"GLF_NBE_TRO\":\"18\",\"TER_COD\":\"01\",\"TERRAINNOMBRETROU\":\"18\",\"TER_LIB\":\"Cely\",\"TER_TXT\":null,\"TER_DTE_CRE_TER\":\"1990\",\"TER_NOM_ARCH\":\"Adam et Fromanger\",\"WT_GLF_COD\":\"1243\",\"TER_TAR_SEM_BS\":\"53\",\"TER_TAR_SEM_HT\":\"53\",\"TER_TAR_WE_BS\":\"62\",\"TER_TAR_WE_HT\":\"62\",\"TER_ACC_CVT_REQ\":\"01\",\"TER_ACC_IDX_REQ\":\"54.0\",\"TER_TEE_FORWARD\":\"00\",\"TER_LINKS\":\"00\",\"TER_BOISE\":\"00\",\"TER_VAL\":\"00\",\"TER_PLAT\":\"01\",\"TER_URB\":\"00\",\"TER_OBS_EAU\":\"01\",\"TER_ETL_DTE\":null,\"TER_HML_DTE\":\"05\\/09\\/2019\",\"TER_DTE_MAJ\":\"05\\/09\\/2019\",\"REPEREPAR01\":\"5\",\"REPEREPAR02\":\"4\",\"REPEREPAR03\":\"4\",\"REPEREPAR04\":\"4\",\"REPEREPAR05\":\"3\",\"REPEREPAR06\":\"5\",\"REPEREPAR07\":\"3\",\"REPEREPAR08\":\"4\",\"REPEREPAR09\":\"4\",\"REPEREPAR10\":\"5\",\"REPEREPAR11\":\"4\",\"REPEREPAR12\":\"3\",\"REPEREPAR13\":\"4\",\"REPEREPAR14\":\"4\",\"REPEREPAR15\":\"5\",\"REPEREPAR16\":\"4\",\"REPEREPAR17\":\"3\",\"REPEREPAR18\":\"4\",\"REP_PAR\":\"72\",\"REP_PAR_ALL\":\"36\",\"REP_PAR_RET\":\"36\",\"TERRAINTEMPS01\":\"00:17\",\"TERRAINTEMPS02\":\"00:14\",\"TERRAINTEMPS03\":\"00:14\",\"TERRAINTEMPS04\":\"00:14\",\"TERRAINTEMPS05\":\"00:11\",\"TERRAINTEMPS06\":\"00:17\",\"TERRAINTEMPS07\":\"00:11\",\"TERRAINTEMPS08\":\"00:14\",\"TERRAINTEMPS09\":\"00:14\",\"TERRAINTEMPS10\":\"00:17\",\"TERRAINTEMPS11\":\"00:14\",\"TERRAINTEMPS12\":\"00:11\",\"TERRAINTEMPS13\":\"00:14\",\"TERRAINTEMPS14\":\"00:14\",\"TERRAINTEMPS15\":\"00:17\",\"TERRAINTEMPS16\":\"00:14\",\"TERRAINTEMPS17\":\"00:11\",\"TERRAINTEMPS18\":\"00:14\",\"TER_TPS_MOY\":null,\"TER_TPS_ALL\":null,\"TER_TPS_RET\":null,\"REP_CPS_TR01\":\"10\",\"REP_CPS_TR02\":\"16\",\"REP_CPS_TR03\":\"6\",\"REP_CPS_TR04\":\"14\",\"REP_CPS_TR05\":\"4\",\"REP_CPS_TR06\":\"2\",\"REP_CPS_TR07\":\"18\",\"REP_CPS_TR08\":\"8\",\"REP_CPS_TR09\":\"12\",\"REP_CPS_TR10\":\"5\",\"REP_CPS_TR11\":\"13\",\"REP_CPS_TR12\":\"3\",\"REP_CPS_TR13\":\"7\",\"REP_CPS_TR14\":\"15\",\"REP_CPS_TR15\":\"1\",\"REP_CPS_TR16\":\"11\",\"REP_CPS_TR17\":\"17\",\"REP_CPS_TR18\":\"9\",\"REPERECP01\":\"5\",\"REPERECP02\":\"8\",\"REPERECP03\":\"3\",\"REPERECP04\":\"7\",\"REPERECP05\":\"2\",\"REPERECP06\":\"1\",\"REPERECP07\":\"9\",\"REPERECP08\":\"4\",\"REPERECP09\":\"6\",\"REPERECP10\":\"3\",\"REPERECP11\":\"7\",\"REPERECP12\":\"2\",\"REPERECP13\":\"4\",\"REPERECP14\":\"8\",\"REPERECP15\":\"1\",\"REPERECP16\":\"6\",\"REPERECP17\":\"9\",\"REPERECP18\":\"5\",\"REP_COD\":\"22\",\"REPEREDISTANCETOUT\":\"2120\",\"REPEREDISTANCERETOUR\":\"2102\",\"REPEREDISTANCETOTAL\":\"4222\",\"REPEREDISTANCE01\":\"310\",\"REPEREDISTANCE02\":\"260\",\"REPEREDISTANCE03\":\"205\",\"REPEREDISTANCE04\":\"270\",\"REPEREDISTANCE05\":\"80\",\"REPEREDISTANCE06\":\"380\",\"REPEREDISTANCE07\":\"110\",\"REPEREDISTANCE08\":\"261\",\"REPEREDISTANCE09\":\"244\",\"REPEREDISTANCE10\":\"310\",\"REPEREDISTANCE11\":\"205\",\"REPEREDISTANCE12\":\"100\",\"REPEREDISTANCE13\":\"235\",\"REPEREDISTANCE14\":\"245\",\"REPEREDISTANCE15\":\"380\",\"REPEREDISTANCE16\":\"266\",\"REPEREDISTANCE17\":\"91\",\"REPEREDISTANCE18\":\"270\",\"REPERESSSF\":\"68.3\",\"REPERESSSM\":\"0\",\"REPERESLOPEF\":\"119\",\"REPERESLOPEM\":\"0\",\"REPERESSSFTOUT\":\"33.6\",\"REPERESSSMTOUT\":\"0\",\"REPERESLOPEFTOUT\":\"58\",\"REPERESLOPEMTOUT\":\"0\",\"REP_SSS_DAM_RET\":\"34.7\",\"REP_SSS_HOM_RET\":\"0\",\"REP_SLP_DAM_RET\":\"61\",\"REP_SLP_HOM_RET\":\"0\",\"REP_LIB_COU\":\"U12 F\",\"REP_BG_COLOR\":\"#AB92E1\",\"REP_FONT_COLOR\":\"#000000\",\"REP_ALLOW_WEB\":\"01\"}};\n",
       "        var tabReperesJeunes = {\"TROU1\":{\"10\":{\"rep_cod_fixe\":1,\"dist\":\"444\",\"font_color\":\"#FFFFFF\",\"background_color\":\"#000000\"},\"11\":{\"rep_cod_fixe\":3,\"dist\":\"409\",\"font_color\":\"#000000\",\"background_color\":\"#FFF152\"},\"12\":{\"rep_cod_fixe\":5,\"dist\":\"364\",\"font_color\":\"#FFFFFF\",\"background_color\":\"#C23633\"},\"20\":{\"rep_cod_fixe\":4,\"dist\":\"390\",\"font_color\":\"#FFFFFF\",\"background_color\":\"#008BC2\"},\"21\":{\"rep_cod_fixe\":5,\"dist\":\"364\",\"font_color\":\"#FFFFFF\",\"background_color\":\"#C23633\"},\"22\":{\"rep_cod_fixe\":6,\"dist\":\"310\",\"font_color\":\"#FFFFFF\",\"background_color\":\"#6E6796\"}},\"TROU2\":{\"10\":{\"rep_cod_fixe\":1,\"dist\":\"312\",\"font_color\":\"#FFFFFF\",\"background_color\":\"#000000\"},\"11\":{\"rep_cod_fixe\":1,\"dist\":\"312\",\"font_color\":\"#FFFFFF\",\"background_color\":\"#000000\"},\"12\":{\"rep_cod_fixe\":4,\"dist\":\"282\",\"font_color\":\"#FFFFFF\",\"background_color\":\"#008BC2\"},\"20\":{\"rep_cod_fixe\":4,\"dist\":\"282\",\"font_color\":\"#FFFFFF\",\"background_color\":\"#008BC2\"},\"21\":{\"rep_cod_fixe\":4,\"dist\":\"282\",\"font_color\":\"#FFFFFF\",\"background_color\":\"#008BC2\"},\"22\":{\"rep_cod_fixe\":5,\"dist\":\"263\",\"font_color\":\"#FFFFFF\",\"background_color\":\"#C23633\"}},\"TROU3\":{\"10\":{\"rep_cod_fixe\":1,\"dist\":\"327\",\"font_color\":\"#FFFFFF\",\"background_color\":\"#000000\"},\"11\":{\"rep_cod_fixe\":1,\"dist\":\"327\",\"font_color\":\"#FFFFFF\",\"background_color\":\"#000000\"},\"12\":{\"rep_cod_fixe\":4,\"dist\":\"298\",\"font_color\":\"#FFFFFF\",\"background_color\":\"#008BC2\"},\"20\":{\"rep_cod_fixe\":4,\"dist\":\"298\",\"font_color\":\"#FFFFFF\",\"background_color\":\"#008BC2\"},\"21\":{\"rep_cod_fixe\":4,\"dist\":\"298\",\"font_color\":\"#FFFFFF\",\"background_color\":\"#008BC2\"},\"22\":{\"rep_cod_fixe\":6,\"dist\":\"205\",\"font_color\":\"#FFFFFF\",\"background_color\":\"#6E6796\"}},\"TROU4\":{\"10\":{\"rep_cod_fixe\":1,\"dist\":\"328\",\"font_color\":\"#FFFFFF\",\"background_color\":\"#000000\"},\"11\":{\"rep_cod_fixe\":3,\"dist\":\"301\",\"font_color\":\"#000000\",\"background_color\":\"#FFF152\"},\"12\":{\"rep_cod_fixe\":3,\"dist\":\"301\",\"font_color\":\"#000000\",\"background_color\":\"#FFF152\"},\"20\":{\"rep_cod_fixe\":4,\"dist\":\"270\",\"font_color\":\"#FFFFFF\",\"background_color\":\"#008BC2\"},\"21\":{\"rep_cod_fixe\":4,\"dist\":\"270\",\"font_color\":\"#FFFFFF\",\"background_color\":\"#008BC2\"},\"22\":{\"rep_cod_fixe\":4,\"dist\":\"270\",\"font_color\":\"#FFFFFF\",\"background_color\":\"#008BC2\"}},\"TROU5\":{\"10\":{\"rep_cod_fixe\":4,\"dist\":\"111\",\"font_color\":\"#FFFFFF\",\"background_color\":\"#008BC2\"},\"11\":{\"rep_cod_fixe\":4,\"dist\":\"111\",\"font_color\":\"#FFFFFF\",\"background_color\":\"#008BC2\"},\"12\":{\"rep_cod_fixe\":5,\"dist\":\"101\",\"font_color\":\"#FFFFFF\",\"background_color\":\"#C23633\"},\"20\":{\"rep_cod_fixe\":5,\"dist\":\"101\",\"font_color\":\"#FFFFFF\",\"background_color\":\"#C23633\"},\"21\":{\"rep_cod_fixe\":5,\"dist\":\"101\",\"font_color\":\"#FFFFFF\",\"background_color\":\"#C23633\"},\"22\":{\"rep_cod_fixe\":6,\"dist\":\"80\",\"font_color\":\"#FFFFFF\",\"background_color\":\"#6E6796\"}},\"TROU6\":{\"10\":{\"rep_cod_fixe\":1,\"dist\":\"521\",\"font_color\":\"#FFFFFF\",\"background_color\":\"#000000\"},\"11\":{\"rep_cod_fixe\":4,\"dist\":\"441\",\"font_color\":\"#FFFFFF\",\"background_color\":\"#008BC2\"},\"12\":{\"rep_cod_fixe\":4,\"dist\":\"441\",\"font_color\":\"#FFFFFF\",\"background_color\":\"#008BC2\"},\"20\":{\"rep_cod_fixe\":4,\"dist\":\"441\",\"font_color\":\"#FFFFFF\",\"background_color\":\"#008BC2\"},\"21\":{\"rep_cod_fixe\":6,\"dist\":\"380\",\"font_color\":\"#FFFFFF\",\"background_color\":\"#6E6796\"},\"22\":{\"rep_cod_fixe\":6,\"dist\":\"380\",\"font_color\":\"#FFFFFF\",\"background_color\":\"#6E6796\"}},\"TROU7\":{\"10\":{\"rep_cod_fixe\":1,\"dist\":\"143\",\"font_color\":\"#FFFFFF\",\"background_color\":\"#000000\"},\"11\":{\"rep_cod_fixe\":1,\"dist\":\"143\",\"font_color\":\"#FFFFFF\",\"background_color\":\"#000000\"},\"12\":{\"rep_cod_fixe\":3,\"dist\":\"123\",\"font_color\":\"#000000\",\"background_color\":\"#FFF152\"},\"20\":{\"rep_cod_fixe\":4,\"dist\":\"119\",\"font_color\":\"#FFFFFF\",\"background_color\":\"#008BC2\"},\"21\":{\"rep_cod_fixe\":4,\"dist\":\"119\",\"font_color\":\"#FFFFFF\",\"background_color\":\"#008BC2\"},\"22\":{\"rep_cod_fixe\":5,\"dist\":\"112\",\"font_color\":\"#FFFFFF\",\"background_color\":\"#C23633\"}},\"TROU8\":{\"10\":{\"rep_cod_fixe\":1,\"dist\":\"307\",\"font_color\":\"#FFFFFF\",\"background_color\":\"#000000\"},\"11\":{\"rep_cod_fixe\":1,\"dist\":\"307\",\"font_color\":\"#FFFFFF\",\"background_color\":\"#000000\"},\"12\":{\"rep_cod_fixe\":3,\"dist\":\"284\",\"font_color\":\"#000000\",\"background_color\":\"#FFF152\"},\"20\":{\"rep_cod_fixe\":5,\"dist\":\"261\",\"font_color\":\"#FFFFFF\",\"background_color\":\"#C23633\"},\"21\":{\"rep_cod_fixe\":5,\"dist\":\"261\",\"font_color\":\"#FFFFFF\",\"background_color\":\"#C23633\"},\"22\":{\"rep_cod_fixe\":5,\"dist\":\"261\",\"font_color\":\"#FFFFFF\",\"background_color\":\"#C23633\"}},\"TROU9\":{\"10\":{\"rep_cod_fixe\":1,\"dist\":\"315\",\"font_color\":\"#FFFFFF\",\"background_color\":\"#000000\"},\"11\":{\"rep_cod_fixe\":1,\"dist\":\"315\",\"font_color\":\"#FFFFFF\",\"background_color\":\"#000000\"},\"12\":{\"rep_cod_fixe\":5,\"dist\":\"244\",\"font_color\":\"#FFFFFF\",\"background_color\":\"#C23633\"},\"20\":{\"rep_cod_fixe\":4,\"dist\":\"262\",\"font_color\":\"#FFFFFF\",\"background_color\":\"#008BC2\"},\"21\":{\"rep_cod_fixe\":4,\"dist\":\"262\",\"font_color\":\"#FFFFFF\",\"background_color\":\"#008BC2\"},\"22\":{\"rep_cod_fixe\":5,\"dist\":\"244\",\"font_color\":\"#FFFFFF\",\"background_color\":\"#C23633\"}},\"TROU10\":{\"10\":{\"rep_cod_fixe\":2,\"dist\":\"425\",\"font_color\":\"#000000\",\"background_color\":\"#FFFFFF\"},\"11\":{\"rep_cod_fixe\":3,\"dist\":\"414\",\"font_color\":\"#000000\",\"background_color\":\"#FFF152\"},\"12\":{\"rep_cod_fixe\":4,\"dist\":\"372\",\"font_color\":\"#FFFFFF\",\"background_color\":\"#008BC2\"},\"20\":{\"rep_cod_fixe\":5,\"dist\":\"356\",\"font_color\":\"#FFFFFF\",\"background_color\":\"#C23633\"},\"21\":{\"rep_cod_fixe\":5,\"dist\":\"356\",\"font_color\":\"#FFFFFF\",\"background_color\":\"#C23633\"},\"22\":{\"rep_cod_fixe\":6,\"dist\":\"310\",\"font_color\":\"#FFFFFF\",\"background_color\":\"#6E6796\"}},\"TROU11\":{\"10\":{\"rep_cod_fixe\":1,\"dist\":\"318\",\"font_color\":\"#FFFFFF\",\"background_color\":\"#000000\"},\"11\":{\"rep_cod_fixe\":1,\"dist\":\"318\",\"font_color\":\"#FFFFFF\",\"background_color\":\"#000000\"},\"12\":{\"rep_cod_fixe\":5,\"dist\":\"236\",\"font_color\":\"#FFFFFF\",\"background_color\":\"#C23633\"},\"20\":{\"rep_cod_fixe\":4,\"dist\":\"298\",\"font_color\":\"#FFFFFF\",\"background_color\":\"#008BC2\"},\"21\":{\"rep_cod_fixe\":5,\"dist\":\"236\",\"font_color\":\"#FFFFFF\",\"background_color\":\"#C23633\"},\"22\":{\"rep_cod_fixe\":6,\"dist\":\"205\",\"font_color\":\"#FFFFFF\",\"background_color\":\"#6E6796\"}},\"TROU12\":{\"10\":{\"rep_cod_fixe\":1,\"dist\":\"162\",\"font_color\":\"#FFFFFF\",\"background_color\":\"#000000\"},\"11\":{\"rep_cod_fixe\":4,\"dist\":\"131\",\"font_color\":\"#FFFFFF\",\"background_color\":\"#008BC2\"},\"12\":{\"rep_cod_fixe\":5,\"dist\":\"122\",\"font_color\":\"#FFFFFF\",\"background_color\":\"#C23633\"},\"20\":{\"rep_cod_fixe\":5,\"dist\":\"122\",\"font_color\":\"#FFFFFF\",\"background_color\":\"#C23633\"},\"21\":{\"rep_cod_fixe\":5,\"dist\":\"122\",\"font_color\":\"#FFFFFF\",\"background_color\":\"#C23633\"},\"22\":{\"rep_cod_fixe\":6,\"dist\":\"100\",\"font_color\":\"#FFFFFF\",\"background_color\":\"#6E6796\"}},\"TROU13\":{\"10\":{\"rep_cod_fixe\":1,\"dist\":\"328\",\"font_color\":\"#FFFFFF\",\"background_color\":\"#000000\"},\"11\":{\"rep_cod_fixe\":5,\"dist\":\"270\",\"font_color\":\"#FFFFFF\",\"background_color\":\"#C23633\"},\"12\":{\"rep_cod_fixe\":5,\"dist\":\"270\",\"font_color\":\"#FFFFFF\",\"background_color\":\"#C23633\"},\"20\":{\"rep_cod_fixe\":4,\"dist\":\"286\",\"font_color\":\"#FFFFFF\",\"background_color\":\"#008BC2\"},\"21\":{\"rep_cod_fixe\":5,\"dist\":\"270\",\"font_color\":\"#FFFFFF\",\"background_color\":\"#C23633\"},\"22\":{\"rep_cod_fixe\":6,\"dist\":\"250\",\"font_color\":\"#FFFFFF\",\"background_color\":\"#6E6796\"}},\"TROU14\":{\"10\":{\"rep_cod_fixe\":1,\"dist\":\"330\",\"font_color\":\"#FFFFFF\",\"background_color\":\"#000000\"},\"11\":{\"rep_cod_fixe\":1,\"dist\":\"330\",\"font_color\":\"#FFFFFF\",\"background_color\":\"#000000\"},\"12\":{\"rep_cod_fixe\":4,\"dist\":\"305\",\"font_color\":\"#FFFFFF\",\"background_color\":\"#008BC2\"},\"20\":{\"rep_cod_fixe\":4,\"dist\":\"305\",\"font_color\":\"#FFFFFF\",\"background_color\":\"#008BC2\"},\"21\":{\"rep_cod_fixe\":5,\"dist\":\"281\",\"font_color\":\"#FFFFFF\",\"background_color\":\"#C23633\"},\"22\":{\"rep_cod_fixe\":6,\"dist\":\"265\",\"font_color\":\"#FFFFFF\",\"background_color\":\"#6E6796\"}},\"TROU15\":{\"10\":{\"rep_cod_fixe\":3,\"dist\":\"551\",\"font_color\":\"#000000\",\"background_color\":\"#FFF152\"},\"11\":{\"rep_cod_fixe\":5,\"dist\":\"493\",\"font_color\":\"#FFFFFF\",\"background_color\":\"#C23633\"},\"12\":{\"rep_cod_fixe\":6,\"dist\":\"380\",\"font_color\":\"#FFFFFF\",\"background_color\":\"#6E6796\"},\"20\":{\"rep_cod_fixe\":5,\"dist\":\"493\",\"font_color\":\"#FFFFFF\",\"background_color\":\"#C23633\"},\"21\":{\"rep_cod_fixe\":6,\"dist\":\"380\",\"font_color\":\"#FFFFFF\",\"background_color\":\"#6E6796\"},\"22\":{\"rep_cod_fixe\":6,\"dist\":\"380\",\"font_color\":\"#FFFFFF\",\"background_color\":\"#6E6796\"}},\"TROU16\":{\"10\":{\"rep_cod_fixe\":1,\"dist\":\"335\",\"font_color\":\"#FFFFFF\",\"background_color\":\"#000000\"},\"11\":{\"rep_cod_fixe\":1,\"dist\":\"335\",\"font_color\":\"#FFFFFF\",\"background_color\":\"#000000\"},\"12\":{\"rep_cod_fixe\":4,\"dist\":\"294\",\"font_color\":\"#FFFFFF\",\"background_color\":\"#008BC2\"},\"20\":{\"rep_cod_fixe\":4,\"dist\":\"294\",\"font_color\":\"#FFFFFF\",\"background_color\":\"#008BC2\"},\"21\":{\"rep_cod_fixe\":4,\"dist\":\"294\",\"font_color\":\"#FFFFFF\",\"background_color\":\"#008BC2\"},\"22\":{\"rep_cod_fixe\":5,\"dist\":\"266\",\"font_color\":\"#FFFFFF\",\"background_color\":\"#C23633\"}},\"TROU17\":{\"10\":{\"rep_cod_fixe\":1,\"dist\":\"145\",\"font_color\":\"#FFFFFF\",\"background_color\":\"#000000\"},\"11\":{\"rep_cod_fixe\":3,\"dist\":\"133\",\"font_color\":\"#000000\",\"background_color\":\"#FFF152\"},\"12\":{\"rep_cod_fixe\":5,\"dist\":\"91\",\"font_color\":\"#FFFFFF\",\"background_color\":\"#C23633\"},\"20\":{\"rep_cod_fixe\":4,\"dist\":\"107\",\"font_color\":\"#FFFFFF\",\"background_color\":\"#008BC2\"},\"21\":{\"rep_cod_fixe\":5,\"dist\":\"91\",\"font_color\":\"#FFFFFF\",\"background_color\":\"#C23633\"},\"22\":{\"rep_cod_fixe\":5,\"dist\":\"91\",\"font_color\":\"#FFFFFF\",\"background_color\":\"#C23633\"}},\"TROU18\":{\"10\":{\"rep_cod_fixe\":1,\"dist\":\"365\",\"font_color\":\"#FFFFFF\",\"background_color\":\"#000000\"},\"11\":{\"rep_cod_fixe\":1,\"dist\":\"365\",\"font_color\":\"#FFFFFF\",\"background_color\":\"#000000\"},\"12\":{\"rep_cod_fixe\":3,\"dist\":\"329\",\"font_color\":\"#000000\",\"background_color\":\"#FFF152\"},\"20\":{\"rep_cod_fixe\":4,\"dist\":\"309\",\"font_color\":\"#FFFFFF\",\"background_color\":\"#008BC2\"},\"21\":{\"rep_cod_fixe\":4,\"dist\":\"309\",\"font_color\":\"#FFFFFF\",\"background_color\":\"#008BC2\"},\"22\":{\"rep_cod_fixe\":5,\"dist\":\"270\",\"font_color\":\"#FFFFFF\",\"background_color\":\"#C23633\"}}};\n",
       "        var codeRepere = 1;\n",
       "        var nbTrou = 18;\n",
       "        var isColored = 1;\n",
       "\n",
       "        $(\"[name='codeRepere']\").change(function(event) {\n",
       "            //on récupère le code repère\n",
       "            codeRepere = this.value;\n",
       "            //savoir le nombre trou\n",
       "            nbTrou = infosFicheParcours[codeRepere]['TERRAINNOMBRETROU'];\n",
       "\n",
       "            for (var i=1; i<=9; i++) {\n",
       "                //pars\n",
       "                $(\"#par-\"+i).html(infosFicheParcours[codeRepere]['REPEREPAR0'+i]);\n",
       "                //handicap\n",
       "                $(\"#hcp-\"+i).html(infosFicheParcours[codeRepere]['REPERECP0'+i]);\n",
       "                //distance\n",
       "                $(\"#dist-\"+i).html(infosFicheParcours[codeRepere]['REPEREDISTANCE0'+i]);\n",
       "                //temps\n",
       "                $(\"#tps-\"+i).html(infosFicheParcours[codeRepere]['TERRAINTEMPS0'+i].split(\":\").pop());\n",
       "\n",
       "                    if (codeRepere >= 10 && codeRepere <= 30 && isColored == 1) {\n",
       "                        $(\"#dist-\"+i).css({\"background-color\":  tabReperesJeunes['TROU'+i][codeRepere]['background_color']});\n",
       "                        $(\"#dist-\"+i).css({\"color\":  tabReperesJeunes['TROU'+i][codeRepere]['font_color']});\n",
       "                        $(\"td[name='distance']\").css({\"font-weight\":\"bold\"});\n",
       "                    } else {\n",
       "                        $(\"#dist-\"+i).css({\"background-color\":\"\"});\n",
       "                        $(\"#dist-\"+i).css({\"color\":\"\"});\n",
       "                        $(\"td[name='distance']\").css({\"font-weight\":\"normal\"});\n",
       "                    }\n",
       "            }\n",
       "\n",
       "            if (nbTrou > 9) {\n",
       "                for (var i=10; i<=nbTrou; i++) {\n",
       "                    //pars\n",
       "                    $(\"#par-\"+i).html(infosFicheParcours[codeRepere]['REPEREPAR'+i]);\n",
       "                    //handicap\n",
       "                    $(\"#hcp-\"+i).html(infosFicheParcours[codeRepere]['REPERECP'+i]);\n",
       "                    //distance\n",
       "                    $(\"#dist-\"+i).html(infosFicheParcours[codeRepere]['REPEREDISTANCE'+i]);\n",
       "                    //temps\n",
       "                    $(\"#tps-\"+i).html(infosFicheParcours[codeRepere]['TERRAINTEMPS'+i].split(\":\").pop());\n",
       "\n",
       "                        if (codeRepere >= 10 && codeRepere <= 30 && isColored == 1) {\n",
       "                            $(\"#dist-\"+i).css({\"background-color\":  tabReperesJeunes['TROU'+i][codeRepere]['background_color']});\n",
       "                            $(\"#dist-\"+i).css({\"color\":  tabReperesJeunes['TROU'+i][codeRepere]['font_color']});\n",
       "                            $(\"td[name='distance']\").css({\"font-weight\":\"bold\"});\n",
       "                        } else {\n",
       "                            $(\"#dist-\"+i).css({\"background-color\":\"\"});\n",
       "                            $(\"#dist-\"+i).css({\"color\":\"\"});\n",
       "                            $(\"td[name='distance']\").css({\"font-weight\":\"normal\"});\n",
       "                        }\n",
       "                }\n",
       "            }\n",
       "\n",
       "            //specifique\n",
       "            if (nbTrou == 9) {\n",
       "                //total distance\n",
       "                $(\"#dist-tot\").html(infosFicheParcours[codeRepere]['REPEREDISTANCETOUT']);\n",
       "                //SSS Messieurs\n",
       "                $(\"#sss-mess\").html(infosFicheParcours[codeRepere]['REPERESSSMTOUT']);\n",
       "                //SSS Dames\n",
       "                $(\"#sss-dame\").html(infosFicheParcours[codeRepere]['REPERESSSFTOUT']);\n",
       "                //Slope Messieurs\n",
       "                $(\"#slope-mess\").html(infosFicheParcours[codeRepere]['REPERESLOPEMTOUT']);\n",
       "                //Slope Dames\n",
       "                $(\"#slope-dame\").html(infosFicheParcours[codeRepere]['REPERESLOPEFTOUT']);\n",
       "            }\n",
       "\n",
       "            if (nbTrou > 9) {\n",
       "                //total distance aller\n",
       "                $(\"#dist-all\").html(infosFicheParcours[codeRepere]['REPEREDISTANCETOUT']);\n",
       "                //total distance retour\n",
       "                $(\"#dist-ret\").html(infosFicheParcours[codeRepere]['REPEREDISTANCERETOUR']);\n",
       "                //total distance\n",
       "                $(\"#dist-tot\").html(infosFicheParcours[codeRepere]['REPEREDISTANCETOTAL']);\n",
       "                //SSS Messieurs\n",
       "                $(\"#sss-mess\").html(infosFicheParcours[codeRepere]['REPERESSSM']);\n",
       "                //SSS Dames\n",
       "                $(\"#sss-dame\").html(infosFicheParcours[codeRepere]['REPERESSSF']);\n",
       "                //Slope Messieurs\n",
       "                $(\"#slope-mess\").html(infosFicheParcours[codeRepere]['REPERESLOPEM']);\n",
       "                //Slope Dames\n",
       "                $(\"#slope-dame\").html(infosFicheParcours[codeRepere]['REPERESLOPEF']);\n",
       "            }\n",
       "        });\n",
       "    });\n",
       "</script>\n",
       "</body>\n",
       "</html>"
      ]
     },
     "execution_count": 15,
     "metadata": {},
     "output_type": "execute_result"
    }
   ],
   "source": [
    "soup"
   ]
  },
  {
   "cell_type": "code",
   "execution_count": 17,
   "metadata": {},
   "outputs": [
    {
     "name": "stdout",
     "output_type": "stream",
     "text": [
      "<div class=\"table\">\n",
      "<!-- Ligne 1 -->\n",
      "<div class=\"row head\">\n",
      "<div class=\"col-xs-12 landmark\">\n",
      "<span>Repère</span>\n",
      "<div class=\"form-group small\">\n",
      "<select class=\"selectpicker _rRepere\" id=\"landmarkList\" name=\"codeRepere\">\n",
      "<option data-content=\"&lt;span style='color:#FFFFFF; background-color:#000000'&gt; &lt;/span&gt;&lt;span class='ml5'&gt;Noirs&lt;/span&gt;\" selected=\"\" value=\"1\">Noirs</option>\n",
      "<option data-content=\"&lt;span style='color:#000000; background-color:#FFFFFF'&gt; &lt;/span&gt;&lt;span class='ml5'&gt;Blancs&lt;/span&gt;\" value=\"2\">Blancs</option>\n",
      "<option data-content=\"&lt;span style='color:#000000; background-color:#FFF152'&gt; &lt;/span&gt;&lt;span class='ml5'&gt;Jaunes&lt;/span&gt;\" value=\"3\">Jaunes</option>\n",
      "<option data-content=\"&lt;span style='color:#FFFFFF; background-color:#008BC2'&gt; &lt;/span&gt;&lt;span class='ml5'&gt;Bleus&lt;/span&gt;\" value=\"4\">Bleus</option>\n",
      "<option data-content=\"&lt;span style='color:#FFFFFF; background-color:#C23633'&gt; &lt;/span&gt;&lt;span class='ml5'&gt;Rouges&lt;/span&gt;\" value=\"5\">Rouges</option>\n",
      "<option data-content=\"&lt;span style='color:#FFFFFF; background-color:#6E6796'&gt; &lt;/span&gt;&lt;span class='ml5'&gt;Violets&lt;/span&gt;\" value=\"6\">Violets</option>\n",
      "<option data-content=\"&lt;span style='color:#FFFFFF; background-color:#E7873C'&gt; &lt;/span&gt;&lt;span class='ml5'&gt;Oranges&lt;/span&gt;\" value=\"7\">Oranges</option>\n",
      "<option disabled=\"\">──────────</option>\n",
      "<option data-content=\"&lt;span background-color:#FFFFFF'&gt; &lt;/span&gt;&lt;span class='ml5'&gt;Min G&lt;/span&gt;\" value=\"10\">Min G</option>\n",
      "<option data-content=\"&lt;span background-color:#FFFF00'&gt; &lt;/span&gt;&lt;span class='ml5'&gt;Ben G&lt;/span&gt;\" value=\"11\">Ben G</option>\n",
      "<option data-content=\"&lt;span background-color:#8A8D8F'&gt; &lt;/span&gt;&lt;span class='ml5'&gt;U12 G&lt;/span&gt;\" value=\"12\">U12 G</option>\n",
      "<option data-content=\"&lt;span background-color:#0000FF'&gt; &lt;/span&gt;&lt;span class='ml5'&gt;Min F&lt;/span&gt;\" value=\"20\">Min F</option>\n",
      "<option data-content=\"&lt;span background-color:#FF0000'&gt; &lt;/span&gt;&lt;span class='ml5'&gt;Ben F&lt;/span&gt;\" value=\"21\">Ben F</option>\n",
      "<option data-content=\"&lt;span background-color:#AB92E1'&gt; &lt;/span&gt;&lt;span class='ml5'&gt;U12 F&lt;/span&gt;\" value=\"22\">U12 F</option>\n",
      "</select>\n",
      "</div>\n",
      "<span>  Total distance = \n",
      "                                    <span id=\"dist-tot\">\n",
      "                                                                                    5924\n",
      "                                                                            </span>\n",
      "</span>\n",
      "</div>\n",
      "</div>\n",
      "<div class=\"row\">\n",
      "<!-- Colonne des labels (desktop & tablette) -->\n",
      "<div class=\"col-xs-2 labels\">\n",
      "<table>\n",
      "<tr class=\"holes underlined\">\n",
      "<td>Trou</td>\n",
      "</tr>\n",
      "<tr>\n",
      "<td>Par</td>\n",
      "</tr>\n",
      "<tr>\n",
      "<td>Hcp</td>\n",
      "</tr>\n",
      "<tr>\n",
      "<td>Dist</td>\n",
      "</tr>\n",
      "<tr class=\"underlined\">\n",
      "<td>TPS</td>\n",
      "</tr>\n",
      "</table>\n",
      "</div>\n",
      "<!-- Colonne des 9 premiers trous -->\n",
      "<div class=\"col-xs-10 col-sm-5 first-holes\">\n",
      "<!-- Trou -->\n",
      "<table>\n",
      "<tr class=\"holes underlined\">\n",
      "<td></td>\n",
      "<td>1</td>\n",
      "<td>2</td>\n",
      "<td>3</td>\n",
      "<td>4</td>\n",
      "<td>5</td>\n",
      "<td>6</td>\n",
      "<td>7</td>\n",
      "<td>8</td>\n",
      "<td>9</td>\n",
      "<td></td>\n",
      "</tr>\n",
      "<!-- Par -->\n",
      "<tr>\n",
      "<td></td>\n",
      "<td id=\"par-1\">5</td>\n",
      "<td id=\"par-2\">4</td>\n",
      "<td id=\"par-3\">4</td>\n",
      "<td id=\"par-4\">4</td>\n",
      "<td id=\"par-5\">3</td>\n",
      "<td id=\"par-6\">5</td>\n",
      "<td id=\"par-7\">3</td>\n",
      "<td id=\"par-8\">4</td>\n",
      "<td id=\"par-9\">4</td>\n",
      "<td></td>\n",
      "</tr>\n",
      "<!-- Handicap -->\n",
      "<tr>\n",
      "<td></td>\n",
      "<td id=\"hcp-1\">10</td>\n",
      "<td id=\"hcp-2\">16</td>\n",
      "<td id=\"hcp-3\">6</td>\n",
      "<td id=\"hcp-4\">14</td>\n",
      "<td id=\"hcp-5\">4</td>\n",
      "<td id=\"hcp-6\">2</td>\n",
      "<td id=\"hcp-7\">18</td>\n",
      "<td id=\"hcp-8\">8</td>\n",
      "<td id=\"hcp-9\">12</td>\n",
      "<td></td>\n",
      "</tr>\n",
      "<!-- Distance -->\n",
      "<tr>\n",
      "<td></td>\n",
      "<td id=\"dist-1\" name=\"distance\">444</td>\n",
      "<td id=\"dist-2\" name=\"distance\">312</td>\n",
      "<td id=\"dist-3\" name=\"distance\">327</td>\n",
      "<td id=\"dist-4\" name=\"distance\">328</td>\n",
      "<td id=\"dist-5\" name=\"distance\">215</td>\n",
      "<td id=\"dist-6\" name=\"distance\">521</td>\n",
      "<td id=\"dist-7\" name=\"distance\">143</td>\n",
      "<td id=\"dist-8\" name=\"distance\">307</td>\n",
      "<td id=\"dist-9\" name=\"distance\">315</td>\n",
      "<td id=\"dist-all\">\n",
      "                                                                                            2912\n",
      "                                                                                    </td>\n",
      "</tr>\n",
      "<!-- Temps -->\n",
      "<tr class=\"underlined\">\n",
      "<td></td>\n",
      "<td id=\"tps-1\">17</td>\n",
      "<td id=\"tps-2\">14</td>\n",
      "<td id=\"tps-3\">14</td>\n",
      "<td id=\"tps-4\">14</td>\n",
      "<td id=\"tps-5\">11</td>\n",
      "<td id=\"tps-6\">17</td>\n",
      "<td id=\"tps-7\">11</td>\n",
      "<td id=\"tps-8\">14</td>\n",
      "<td id=\"tps-9\">14</td>\n",
      "<td></td>\n",
      "</tr>\n",
      "</table>\n",
      "</div>\n",
      "<!-- Colonne des labels (mobile only) -->\n",
      "<div class=\"col-xs-2 labels labels-on-mobile visible-xs\">\n",
      "<table>\n",
      "<tr class=\"holes underlined\"><td>Trou</td></tr>\n",
      "<tr><td>Par</td></tr>\n",
      "<tr><td>Hcp</td></tr>\n",
      "<tr><td>Brut</td></tr>\n",
      "<tr class=\"underlined\"><td>Net</td></tr>\n",
      "</table>\n",
      "</div>\n",
      "<!-- Colonne des 9 derniers trous -->\n",
      "<div class=\"col-xs-10 col-sm-5 last-holes\">\n",
      "<table>\n",
      "<tr class=\"holes underlined\">\n",
      "<td></td>\n",
      "<td>10</td>\n",
      "<td>11</td>\n",
      "<td>12</td>\n",
      "<td>13</td>\n",
      "<td>14</td>\n",
      "<td>15</td>\n",
      "<td>16</td>\n",
      "<td>17</td>\n",
      "<td>18</td>\n",
      "<td></td>\n",
      "</tr>\n",
      "<!-- Par -->\n",
      "<tr>\n",
      "<td></td>\n",
      "<td id=\"par-10\">5</td>\n",
      "<td id=\"par-11\">4</td>\n",
      "<td id=\"par-12\">3</td>\n",
      "<td id=\"par-13\">4</td>\n",
      "<td id=\"par-14\">4</td>\n",
      "<td id=\"par-15\">5</td>\n",
      "<td id=\"par-16\">4</td>\n",
      "<td id=\"par-17\">3</td>\n",
      "<td id=\"par-18\">4</td>\n",
      "<td></td>\n",
      "</tr>\n",
      "<!-- Handicap -->\n",
      "<tr>\n",
      "<td></td>\n",
      "<td id=\"hcp-10\">5</td>\n",
      "<td id=\"hcp-11\">13</td>\n",
      "<td id=\"hcp-12\">3</td>\n",
      "<td id=\"hcp-13\">7</td>\n",
      "<td id=\"hcp-14\">15</td>\n",
      "<td id=\"hcp-15\">1</td>\n",
      "<td id=\"hcp-16\">11</td>\n",
      "<td id=\"hcp-17\">17</td>\n",
      "<td id=\"hcp-18\">9</td>\n",
      "<td></td>\n",
      "</tr>\n",
      "<!-- Distance -->\n",
      "<tr>\n",
      "<td></td>\n",
      "<td id=\"dist-10\" name=\"distance\">426</td>\n",
      "<td id=\"dist-11\" name=\"distance\">318</td>\n",
      "<td id=\"dist-12\" name=\"distance\">162</td>\n",
      "<td id=\"dist-13\" name=\"distance\">328</td>\n",
      "<td id=\"dist-14\" name=\"distance\">330</td>\n",
      "<td id=\"dist-15\" name=\"distance\">603</td>\n",
      "<td id=\"dist-16\" name=\"distance\">335</td>\n",
      "<td id=\"dist-17\" name=\"distance\">145</td>\n",
      "<td id=\"dist-18\" name=\"distance\">365</td>\n",
      "<td id=\"dist-ret\">\n",
      "                                                                                                    3012\n",
      "                                                                                            </td>\n",
      "</tr>\n",
      "<!-- Temps -->\n",
      "<tr class=\"underlined\">\n",
      "<td></td>\n",
      "<td id=\"tps-10\">17</td>\n",
      "<td id=\"tps-11\">14</td>\n",
      "<td id=\"tps-12\">11</td>\n",
      "<td id=\"tps-13\">14</td>\n",
      "<td id=\"tps-14\">14</td>\n",
      "<td id=\"tps-15\">17</td>\n",
      "<td id=\"tps-16\">14</td>\n",
      "<td id=\"tps-17\">11</td>\n",
      "<td id=\"tps-18\">14</td>\n",
      "<td></td>\n",
      "</tr>\n",
      "</table>\n",
      "</div>\n",
      "</div>\n",
      "</div>\n"
     ]
    }
   ],
   "source": [
    "table = soup.find('div', attrs={'class': 'table'})\n",
    "print(table)"
   ]
  },
  {
   "cell_type": "code",
   "execution_count": 55,
   "metadata": {},
   "outputs": [
    {
     "data": {
      "text/plain": [
       "5924"
      ]
     },
     "execution_count": 55,
     "metadata": {},
     "output_type": "execute_result"
    }
   ],
   "source": [
    "dist = soup.find('span', attrs={'id': 'dist-tot'}).get_text().strip(' ')\n",
    "dist = int(re.findall(r\"\\d+\", dist)[0])\n",
    "dist"
   ]
  },
  {
   "cell_type": "code",
   "execution_count": 69,
   "metadata": {},
   "outputs": [
    {
     "data": {
      "text/plain": [
       "139"
      ]
     },
     "execution_count": 69,
     "metadata": {},
     "output_type": "execute_result"
    }
   ],
   "source": [
    "slope = soup.find('div', attrs={'id': 'slope-mess'}).get_text()\n",
    "slope = int(re.findall(r\"\\d+\", slope)[0])\n",
    "slope"
   ]
  },
  {
   "cell_type": "code",
   "execution_count": 68,
   "metadata": {},
   "outputs": [
    {
     "data": {
      "text/plain": [
       "72"
      ]
     },
     "execution_count": 68,
     "metadata": {},
     "output_type": "execute_result"
    }
   ],
   "source": [
    "sss = soup.find('div', attrs={'id': 'sss-mess'}).get_text()\n",
    "sss = int(re.findall(r\"\\d+\", sss)[0])\n",
    "sss"
   ]
  },
  {
   "cell_type": "code",
   "execution_count": 84,
   "metadata": {},
   "outputs": [
    {
     "data": {
      "text/plain": [
       "[5, 4, 4, 4, 3, 5, 3, 4, 4, 5, 4, 3, 4, 4, 5, 4, 3, 4]"
      ]
     },
     "execution_count": 84,
     "metadata": {},
     "output_type": "execute_result"
    }
   ],
   "source": [
    "pars=[]\n",
    "for i in range(1,19):\n",
    "    id = 'par-'+str(i)\n",
    "    par = int(soup.find('td', attrs={'id': id}).get_text())\n",
    "    pars.append(par)\n",
    "    \n",
    "pars"
   ]
  },
  {
   "cell_type": "code",
   "execution_count": 85,
   "metadata": {},
   "outputs": [
    {
     "data": {
      "text/plain": [
       "[10, 16, 6, 14, 4, 2, 18, 8, 12, 5, 13, 3, 7, 15, 1, 11, 17, 9]"
      ]
     },
     "execution_count": 85,
     "metadata": {},
     "output_type": "execute_result"
    }
   ],
   "source": [
    "hcps=[]\n",
    "for i in range(1,19):\n",
    "    id = 'hcp-'+str(i)\n",
    "    hcp = int(soup.find('td', attrs={'id': id}).get_text())\n",
    "    hcps.append(hcp)\n",
    "    \n",
    "hcps"
   ]
  },
  {
   "cell_type": "code",
   "execution_count": 101,
   "metadata": {},
   "outputs": [
    {
     "data": {
      "text/plain": [
       "('CEL', 'Chateau de Cely', 139, 72, 5924)"
      ]
     },
     "execution_count": 101,
     "metadata": {},
     "output_type": "execute_result"
    }
   ],
   "source": [
    "course_id = 'CEL'\n",
    "course_name = 'Chateau de Cely'\n",
    "course = (course_id, course_name, slope, sss, dist)\n",
    "course"
   ]
  },
  {
   "cell_type": "code",
   "execution_count": 102,
   "metadata": {},
   "outputs": [
    {
     "data": {
      "text/plain": [
       "6"
      ]
     },
     "execution_count": 102,
     "metadata": {},
     "output_type": "execute_result"
    }
   ],
   "source": [
    "create_course(conn, course)"
   ]
  },
  {
   "cell_type": "code",
   "execution_count": 115,
   "metadata": {},
   "outputs": [
    {
     "data": {
      "text/plain": [
       "6"
      ]
     },
     "execution_count": 115,
     "metadata": {},
     "output_type": "execute_result"
    }
   ],
   "source": [
    "delete_course(conn, \"test\")"
   ]
  }
 ],
 "metadata": {
  "kernelspec": {
   "display_name": "Python 3",
   "language": "python",
   "name": "python3"
  },
  "language_info": {
   "codemirror_mode": {
    "name": "ipython",
    "version": 3
   },
   "file_extension": ".py",
   "mimetype": "text/x-python",
   "name": "python",
   "nbconvert_exporter": "python",
   "pygments_lexer": "ipython3",
   "version": "3.8.5"
  }
 },
 "nbformat": 4,
 "nbformat_minor": 5
}
